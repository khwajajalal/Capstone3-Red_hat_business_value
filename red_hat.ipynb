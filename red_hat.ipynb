{
 "cells": [
  {
   "cell_type": "code",
   "execution_count": 67,
   "metadata": {},
   "outputs": [
    {
     "data": {
      "text/html": [
       "<div>\n",
       "<style scoped>\n",
       "    .dataframe tbody tr th:only-of-type {\n",
       "        vertical-align: middle;\n",
       "    }\n",
       "\n",
       "    .dataframe tbody tr th {\n",
       "        vertical-align: top;\n",
       "    }\n",
       "\n",
       "    .dataframe thead th {\n",
       "        text-align: right;\n",
       "    }\n",
       "</style>\n",
       "<table border=\"1\" class=\"dataframe\">\n",
       "  <thead>\n",
       "    <tr style=\"text-align: right;\">\n",
       "      <th></th>\n",
       "      <th>people_id</th>\n",
       "      <th>activity_id</th>\n",
       "      <th>act_date</th>\n",
       "      <th>activity_category</th>\n",
       "      <th>act_char_1</th>\n",
       "      <th>act_char_2</th>\n",
       "      <th>act_char_3</th>\n",
       "      <th>act_char_4</th>\n",
       "      <th>act_char_5</th>\n",
       "      <th>act_char_6</th>\n",
       "      <th>act_char_7</th>\n",
       "      <th>act_char_8</th>\n",
       "      <th>act_char_9</th>\n",
       "      <th>act_char_10</th>\n",
       "      <th>outcome</th>\n",
       "      <th>pl_char_1</th>\n",
       "      <th>group_1</th>\n",
       "      <th>pl_char_2</th>\n",
       "      <th>pl_date</th>\n",
       "      <th>pl_char_3</th>\n",
       "      <th>pl_char_4</th>\n",
       "      <th>pl_char_5</th>\n",
       "      <th>pl_char_6</th>\n",
       "      <th>pl_char_7</th>\n",
       "      <th>pl_char_8</th>\n",
       "      <th>pl_char_9</th>\n",
       "      <th>pl_char_10</th>\n",
       "      <th>pl_char_11</th>\n",
       "      <th>pl_char_12</th>\n",
       "      <th>pl_char_13</th>\n",
       "      <th>pl_char_14</th>\n",
       "      <th>pl_char_15</th>\n",
       "      <th>pl_char_16</th>\n",
       "      <th>pl_char_17</th>\n",
       "      <th>pl_char_18</th>\n",
       "      <th>pl_char_19</th>\n",
       "      <th>pl_char_20</th>\n",
       "      <th>pl_char_21</th>\n",
       "      <th>pl_char_22</th>\n",
       "      <th>pl_char_23</th>\n",
       "      <th>pl_char_24</th>\n",
       "      <th>pl_char_25</th>\n",
       "      <th>pl_char_26</th>\n",
       "      <th>pl_char_27</th>\n",
       "      <th>pl_char_28</th>\n",
       "      <th>pl_char_29</th>\n",
       "      <th>pl_char_30</th>\n",
       "      <th>pl_char_31</th>\n",
       "      <th>pl_char_32</th>\n",
       "      <th>pl_char_33</th>\n",
       "      <th>pl_char_34</th>\n",
       "      <th>pl_char_35</th>\n",
       "      <th>pl_char_36</th>\n",
       "      <th>pl_char_37</th>\n",
       "      <th>pl_char_38</th>\n",
       "    </tr>\n",
       "  </thead>\n",
       "  <tbody>\n",
       "    <tr>\n",
       "      <td>0</td>\n",
       "      <td>ppl_100</td>\n",
       "      <td>act2_1734928</td>\n",
       "      <td>2023-08-26</td>\n",
       "      <td>type 4</td>\n",
       "      <td>NaN</td>\n",
       "      <td>NaN</td>\n",
       "      <td>NaN</td>\n",
       "      <td>NaN</td>\n",
       "      <td>NaN</td>\n",
       "      <td>NaN</td>\n",
       "      <td>NaN</td>\n",
       "      <td>NaN</td>\n",
       "      <td>NaN</td>\n",
       "      <td>type 76</td>\n",
       "      <td>0</td>\n",
       "      <td>type 2</td>\n",
       "      <td>group 17304</td>\n",
       "      <td>type 2</td>\n",
       "      <td>2021-06-29</td>\n",
       "      <td>type 5</td>\n",
       "      <td>type 5</td>\n",
       "      <td>type 5</td>\n",
       "      <td>type 3</td>\n",
       "      <td>type 11</td>\n",
       "      <td>type 2</td>\n",
       "      <td>type 2</td>\n",
       "      <td>True</td>\n",
       "      <td>False</td>\n",
       "      <td>False</td>\n",
       "      <td>True</td>\n",
       "      <td>True</td>\n",
       "      <td>False</td>\n",
       "      <td>True</td>\n",
       "      <td>False</td>\n",
       "      <td>False</td>\n",
       "      <td>False</td>\n",
       "      <td>False</td>\n",
       "      <td>True</td>\n",
       "      <td>False</td>\n",
       "      <td>False</td>\n",
       "      <td>False</td>\n",
       "      <td>False</td>\n",
       "      <td>False</td>\n",
       "      <td>True</td>\n",
       "      <td>True</td>\n",
       "      <td>False</td>\n",
       "      <td>True</td>\n",
       "      <td>True</td>\n",
       "      <td>False</td>\n",
       "      <td>False</td>\n",
       "      <td>True</td>\n",
       "      <td>True</td>\n",
       "      <td>True</td>\n",
       "      <td>False</td>\n",
       "      <td>36</td>\n",
       "    </tr>\n",
       "    <tr>\n",
       "      <td>1</td>\n",
       "      <td>ppl_100</td>\n",
       "      <td>act2_2434093</td>\n",
       "      <td>2022-09-27</td>\n",
       "      <td>type 2</td>\n",
       "      <td>NaN</td>\n",
       "      <td>NaN</td>\n",
       "      <td>NaN</td>\n",
       "      <td>NaN</td>\n",
       "      <td>NaN</td>\n",
       "      <td>NaN</td>\n",
       "      <td>NaN</td>\n",
       "      <td>NaN</td>\n",
       "      <td>NaN</td>\n",
       "      <td>type 1</td>\n",
       "      <td>0</td>\n",
       "      <td>type 2</td>\n",
       "      <td>group 17304</td>\n",
       "      <td>type 2</td>\n",
       "      <td>2021-06-29</td>\n",
       "      <td>type 5</td>\n",
       "      <td>type 5</td>\n",
       "      <td>type 5</td>\n",
       "      <td>type 3</td>\n",
       "      <td>type 11</td>\n",
       "      <td>type 2</td>\n",
       "      <td>type 2</td>\n",
       "      <td>True</td>\n",
       "      <td>False</td>\n",
       "      <td>False</td>\n",
       "      <td>True</td>\n",
       "      <td>True</td>\n",
       "      <td>False</td>\n",
       "      <td>True</td>\n",
       "      <td>False</td>\n",
       "      <td>False</td>\n",
       "      <td>False</td>\n",
       "      <td>False</td>\n",
       "      <td>True</td>\n",
       "      <td>False</td>\n",
       "      <td>False</td>\n",
       "      <td>False</td>\n",
       "      <td>False</td>\n",
       "      <td>False</td>\n",
       "      <td>True</td>\n",
       "      <td>True</td>\n",
       "      <td>False</td>\n",
       "      <td>True</td>\n",
       "      <td>True</td>\n",
       "      <td>False</td>\n",
       "      <td>False</td>\n",
       "      <td>True</td>\n",
       "      <td>True</td>\n",
       "      <td>True</td>\n",
       "      <td>False</td>\n",
       "      <td>36</td>\n",
       "    </tr>\n",
       "    <tr>\n",
       "      <td>2</td>\n",
       "      <td>ppl_100</td>\n",
       "      <td>act2_3404049</td>\n",
       "      <td>2022-09-27</td>\n",
       "      <td>type 2</td>\n",
       "      <td>NaN</td>\n",
       "      <td>NaN</td>\n",
       "      <td>NaN</td>\n",
       "      <td>NaN</td>\n",
       "      <td>NaN</td>\n",
       "      <td>NaN</td>\n",
       "      <td>NaN</td>\n",
       "      <td>NaN</td>\n",
       "      <td>NaN</td>\n",
       "      <td>type 1</td>\n",
       "      <td>0</td>\n",
       "      <td>type 2</td>\n",
       "      <td>group 17304</td>\n",
       "      <td>type 2</td>\n",
       "      <td>2021-06-29</td>\n",
       "      <td>type 5</td>\n",
       "      <td>type 5</td>\n",
       "      <td>type 5</td>\n",
       "      <td>type 3</td>\n",
       "      <td>type 11</td>\n",
       "      <td>type 2</td>\n",
       "      <td>type 2</td>\n",
       "      <td>True</td>\n",
       "      <td>False</td>\n",
       "      <td>False</td>\n",
       "      <td>True</td>\n",
       "      <td>True</td>\n",
       "      <td>False</td>\n",
       "      <td>True</td>\n",
       "      <td>False</td>\n",
       "      <td>False</td>\n",
       "      <td>False</td>\n",
       "      <td>False</td>\n",
       "      <td>True</td>\n",
       "      <td>False</td>\n",
       "      <td>False</td>\n",
       "      <td>False</td>\n",
       "      <td>False</td>\n",
       "      <td>False</td>\n",
       "      <td>True</td>\n",
       "      <td>True</td>\n",
       "      <td>False</td>\n",
       "      <td>True</td>\n",
       "      <td>True</td>\n",
       "      <td>False</td>\n",
       "      <td>False</td>\n",
       "      <td>True</td>\n",
       "      <td>True</td>\n",
       "      <td>True</td>\n",
       "      <td>False</td>\n",
       "      <td>36</td>\n",
       "    </tr>\n",
       "    <tr>\n",
       "      <td>3</td>\n",
       "      <td>ppl_100</td>\n",
       "      <td>act2_3651215</td>\n",
       "      <td>2023-08-04</td>\n",
       "      <td>type 2</td>\n",
       "      <td>NaN</td>\n",
       "      <td>NaN</td>\n",
       "      <td>NaN</td>\n",
       "      <td>NaN</td>\n",
       "      <td>NaN</td>\n",
       "      <td>NaN</td>\n",
       "      <td>NaN</td>\n",
       "      <td>NaN</td>\n",
       "      <td>NaN</td>\n",
       "      <td>type 1</td>\n",
       "      <td>0</td>\n",
       "      <td>type 2</td>\n",
       "      <td>group 17304</td>\n",
       "      <td>type 2</td>\n",
       "      <td>2021-06-29</td>\n",
       "      <td>type 5</td>\n",
       "      <td>type 5</td>\n",
       "      <td>type 5</td>\n",
       "      <td>type 3</td>\n",
       "      <td>type 11</td>\n",
       "      <td>type 2</td>\n",
       "      <td>type 2</td>\n",
       "      <td>True</td>\n",
       "      <td>False</td>\n",
       "      <td>False</td>\n",
       "      <td>True</td>\n",
       "      <td>True</td>\n",
       "      <td>False</td>\n",
       "      <td>True</td>\n",
       "      <td>False</td>\n",
       "      <td>False</td>\n",
       "      <td>False</td>\n",
       "      <td>False</td>\n",
       "      <td>True</td>\n",
       "      <td>False</td>\n",
       "      <td>False</td>\n",
       "      <td>False</td>\n",
       "      <td>False</td>\n",
       "      <td>False</td>\n",
       "      <td>True</td>\n",
       "      <td>True</td>\n",
       "      <td>False</td>\n",
       "      <td>True</td>\n",
       "      <td>True</td>\n",
       "      <td>False</td>\n",
       "      <td>False</td>\n",
       "      <td>True</td>\n",
       "      <td>True</td>\n",
       "      <td>True</td>\n",
       "      <td>False</td>\n",
       "      <td>36</td>\n",
       "    </tr>\n",
       "    <tr>\n",
       "      <td>4</td>\n",
       "      <td>ppl_100</td>\n",
       "      <td>act2_4109017</td>\n",
       "      <td>2023-08-26</td>\n",
       "      <td>type 2</td>\n",
       "      <td>NaN</td>\n",
       "      <td>NaN</td>\n",
       "      <td>NaN</td>\n",
       "      <td>NaN</td>\n",
       "      <td>NaN</td>\n",
       "      <td>NaN</td>\n",
       "      <td>NaN</td>\n",
       "      <td>NaN</td>\n",
       "      <td>NaN</td>\n",
       "      <td>type 1</td>\n",
       "      <td>0</td>\n",
       "      <td>type 2</td>\n",
       "      <td>group 17304</td>\n",
       "      <td>type 2</td>\n",
       "      <td>2021-06-29</td>\n",
       "      <td>type 5</td>\n",
       "      <td>type 5</td>\n",
       "      <td>type 5</td>\n",
       "      <td>type 3</td>\n",
       "      <td>type 11</td>\n",
       "      <td>type 2</td>\n",
       "      <td>type 2</td>\n",
       "      <td>True</td>\n",
       "      <td>False</td>\n",
       "      <td>False</td>\n",
       "      <td>True</td>\n",
       "      <td>True</td>\n",
       "      <td>False</td>\n",
       "      <td>True</td>\n",
       "      <td>False</td>\n",
       "      <td>False</td>\n",
       "      <td>False</td>\n",
       "      <td>False</td>\n",
       "      <td>True</td>\n",
       "      <td>False</td>\n",
       "      <td>False</td>\n",
       "      <td>False</td>\n",
       "      <td>False</td>\n",
       "      <td>False</td>\n",
       "      <td>True</td>\n",
       "      <td>True</td>\n",
       "      <td>False</td>\n",
       "      <td>True</td>\n",
       "      <td>True</td>\n",
       "      <td>False</td>\n",
       "      <td>False</td>\n",
       "      <td>True</td>\n",
       "      <td>True</td>\n",
       "      <td>True</td>\n",
       "      <td>False</td>\n",
       "      <td>36</td>\n",
       "    </tr>\n",
       "    <tr>\n",
       "      <td>...</td>\n",
       "      <td>...</td>\n",
       "      <td>...</td>\n",
       "      <td>...</td>\n",
       "      <td>...</td>\n",
       "      <td>...</td>\n",
       "      <td>...</td>\n",
       "      <td>...</td>\n",
       "      <td>...</td>\n",
       "      <td>...</td>\n",
       "      <td>...</td>\n",
       "      <td>...</td>\n",
       "      <td>...</td>\n",
       "      <td>...</td>\n",
       "      <td>...</td>\n",
       "      <td>...</td>\n",
       "      <td>...</td>\n",
       "      <td>...</td>\n",
       "      <td>...</td>\n",
       "      <td>...</td>\n",
       "      <td>...</td>\n",
       "      <td>...</td>\n",
       "      <td>...</td>\n",
       "      <td>...</td>\n",
       "      <td>...</td>\n",
       "      <td>...</td>\n",
       "      <td>...</td>\n",
       "      <td>...</td>\n",
       "      <td>...</td>\n",
       "      <td>...</td>\n",
       "      <td>...</td>\n",
       "      <td>...</td>\n",
       "      <td>...</td>\n",
       "      <td>...</td>\n",
       "      <td>...</td>\n",
       "      <td>...</td>\n",
       "      <td>...</td>\n",
       "      <td>...</td>\n",
       "      <td>...</td>\n",
       "      <td>...</td>\n",
       "      <td>...</td>\n",
       "      <td>...</td>\n",
       "      <td>...</td>\n",
       "      <td>...</td>\n",
       "      <td>...</td>\n",
       "      <td>...</td>\n",
       "      <td>...</td>\n",
       "      <td>...</td>\n",
       "      <td>...</td>\n",
       "      <td>...</td>\n",
       "      <td>...</td>\n",
       "      <td>...</td>\n",
       "      <td>...</td>\n",
       "      <td>...</td>\n",
       "      <td>...</td>\n",
       "      <td>...</td>\n",
       "    </tr>\n",
       "    <tr>\n",
       "      <td>95</td>\n",
       "      <td>ppl_100025</td>\n",
       "      <td>act2_665440</td>\n",
       "      <td>2022-09-15</td>\n",
       "      <td>type 5</td>\n",
       "      <td>NaN</td>\n",
       "      <td>NaN</td>\n",
       "      <td>NaN</td>\n",
       "      <td>NaN</td>\n",
       "      <td>NaN</td>\n",
       "      <td>NaN</td>\n",
       "      <td>NaN</td>\n",
       "      <td>NaN</td>\n",
       "      <td>NaN</td>\n",
       "      <td>type 489</td>\n",
       "      <td>0</td>\n",
       "      <td>type 2</td>\n",
       "      <td>group 36096</td>\n",
       "      <td>type 3</td>\n",
       "      <td>2022-08-26</td>\n",
       "      <td>type 14</td>\n",
       "      <td>type 6</td>\n",
       "      <td>type 8</td>\n",
       "      <td>type 3</td>\n",
       "      <td>type 9</td>\n",
       "      <td>type 6</td>\n",
       "      <td>type 6</td>\n",
       "      <td>False</td>\n",
       "      <td>False</td>\n",
       "      <td>False</td>\n",
       "      <td>False</td>\n",
       "      <td>False</td>\n",
       "      <td>False</td>\n",
       "      <td>False</td>\n",
       "      <td>False</td>\n",
       "      <td>False</td>\n",
       "      <td>False</td>\n",
       "      <td>False</td>\n",
       "      <td>False</td>\n",
       "      <td>False</td>\n",
       "      <td>False</td>\n",
       "      <td>False</td>\n",
       "      <td>False</td>\n",
       "      <td>False</td>\n",
       "      <td>False</td>\n",
       "      <td>False</td>\n",
       "      <td>False</td>\n",
       "      <td>False</td>\n",
       "      <td>False</td>\n",
       "      <td>False</td>\n",
       "      <td>False</td>\n",
       "      <td>False</td>\n",
       "      <td>False</td>\n",
       "      <td>False</td>\n",
       "      <td>False</td>\n",
       "      <td>76</td>\n",
       "    </tr>\n",
       "    <tr>\n",
       "      <td>96</td>\n",
       "      <td>ppl_100025</td>\n",
       "      <td>act2_718885</td>\n",
       "      <td>2022-11-26</td>\n",
       "      <td>type 5</td>\n",
       "      <td>NaN</td>\n",
       "      <td>NaN</td>\n",
       "      <td>NaN</td>\n",
       "      <td>NaN</td>\n",
       "      <td>NaN</td>\n",
       "      <td>NaN</td>\n",
       "      <td>NaN</td>\n",
       "      <td>NaN</td>\n",
       "      <td>NaN</td>\n",
       "      <td>type 489</td>\n",
       "      <td>0</td>\n",
       "      <td>type 2</td>\n",
       "      <td>group 36096</td>\n",
       "      <td>type 3</td>\n",
       "      <td>2022-08-26</td>\n",
       "      <td>type 14</td>\n",
       "      <td>type 6</td>\n",
       "      <td>type 8</td>\n",
       "      <td>type 3</td>\n",
       "      <td>type 9</td>\n",
       "      <td>type 6</td>\n",
       "      <td>type 6</td>\n",
       "      <td>False</td>\n",
       "      <td>False</td>\n",
       "      <td>False</td>\n",
       "      <td>False</td>\n",
       "      <td>False</td>\n",
       "      <td>False</td>\n",
       "      <td>False</td>\n",
       "      <td>False</td>\n",
       "      <td>False</td>\n",
       "      <td>False</td>\n",
       "      <td>False</td>\n",
       "      <td>False</td>\n",
       "      <td>False</td>\n",
       "      <td>False</td>\n",
       "      <td>False</td>\n",
       "      <td>False</td>\n",
       "      <td>False</td>\n",
       "      <td>False</td>\n",
       "      <td>False</td>\n",
       "      <td>False</td>\n",
       "      <td>False</td>\n",
       "      <td>False</td>\n",
       "      <td>False</td>\n",
       "      <td>False</td>\n",
       "      <td>False</td>\n",
       "      <td>False</td>\n",
       "      <td>False</td>\n",
       "      <td>False</td>\n",
       "      <td>76</td>\n",
       "    </tr>\n",
       "    <tr>\n",
       "      <td>97</td>\n",
       "      <td>ppl_100025</td>\n",
       "      <td>act2_840357</td>\n",
       "      <td>2022-09-15</td>\n",
       "      <td>type 5</td>\n",
       "      <td>NaN</td>\n",
       "      <td>NaN</td>\n",
       "      <td>NaN</td>\n",
       "      <td>NaN</td>\n",
       "      <td>NaN</td>\n",
       "      <td>NaN</td>\n",
       "      <td>NaN</td>\n",
       "      <td>NaN</td>\n",
       "      <td>NaN</td>\n",
       "      <td>type 489</td>\n",
       "      <td>0</td>\n",
       "      <td>type 2</td>\n",
       "      <td>group 36096</td>\n",
       "      <td>type 3</td>\n",
       "      <td>2022-08-26</td>\n",
       "      <td>type 14</td>\n",
       "      <td>type 6</td>\n",
       "      <td>type 8</td>\n",
       "      <td>type 3</td>\n",
       "      <td>type 9</td>\n",
       "      <td>type 6</td>\n",
       "      <td>type 6</td>\n",
       "      <td>False</td>\n",
       "      <td>False</td>\n",
       "      <td>False</td>\n",
       "      <td>False</td>\n",
       "      <td>False</td>\n",
       "      <td>False</td>\n",
       "      <td>False</td>\n",
       "      <td>False</td>\n",
       "      <td>False</td>\n",
       "      <td>False</td>\n",
       "      <td>False</td>\n",
       "      <td>False</td>\n",
       "      <td>False</td>\n",
       "      <td>False</td>\n",
       "      <td>False</td>\n",
       "      <td>False</td>\n",
       "      <td>False</td>\n",
       "      <td>False</td>\n",
       "      <td>False</td>\n",
       "      <td>False</td>\n",
       "      <td>False</td>\n",
       "      <td>False</td>\n",
       "      <td>False</td>\n",
       "      <td>False</td>\n",
       "      <td>False</td>\n",
       "      <td>False</td>\n",
       "      <td>False</td>\n",
       "      <td>False</td>\n",
       "      <td>76</td>\n",
       "    </tr>\n",
       "    <tr>\n",
       "      <td>98</td>\n",
       "      <td>ppl_100028</td>\n",
       "      <td>act2_1582813</td>\n",
       "      <td>2023-05-03</td>\n",
       "      <td>type 2</td>\n",
       "      <td>NaN</td>\n",
       "      <td>NaN</td>\n",
       "      <td>NaN</td>\n",
       "      <td>NaN</td>\n",
       "      <td>NaN</td>\n",
       "      <td>NaN</td>\n",
       "      <td>NaN</td>\n",
       "      <td>NaN</td>\n",
       "      <td>NaN</td>\n",
       "      <td>type 1</td>\n",
       "      <td>0</td>\n",
       "      <td>type 2</td>\n",
       "      <td>group 17304</td>\n",
       "      <td>type 2</td>\n",
       "      <td>2023-04-21</td>\n",
       "      <td>type 40</td>\n",
       "      <td>type 25</td>\n",
       "      <td>type 9</td>\n",
       "      <td>type 4</td>\n",
       "      <td>type 20</td>\n",
       "      <td>type 3</td>\n",
       "      <td>type 3</td>\n",
       "      <td>False</td>\n",
       "      <td>False</td>\n",
       "      <td>False</td>\n",
       "      <td>False</td>\n",
       "      <td>False</td>\n",
       "      <td>False</td>\n",
       "      <td>False</td>\n",
       "      <td>False</td>\n",
       "      <td>False</td>\n",
       "      <td>False</td>\n",
       "      <td>False</td>\n",
       "      <td>False</td>\n",
       "      <td>False</td>\n",
       "      <td>False</td>\n",
       "      <td>False</td>\n",
       "      <td>False</td>\n",
       "      <td>False</td>\n",
       "      <td>False</td>\n",
       "      <td>False</td>\n",
       "      <td>False</td>\n",
       "      <td>False</td>\n",
       "      <td>False</td>\n",
       "      <td>False</td>\n",
       "      <td>False</td>\n",
       "      <td>False</td>\n",
       "      <td>False</td>\n",
       "      <td>False</td>\n",
       "      <td>False</td>\n",
       "      <td>0</td>\n",
       "    </tr>\n",
       "    <tr>\n",
       "      <td>99</td>\n",
       "      <td>ppl_100028</td>\n",
       "      <td>act2_2648774</td>\n",
       "      <td>2023-04-26</td>\n",
       "      <td>type 3</td>\n",
       "      <td>NaN</td>\n",
       "      <td>NaN</td>\n",
       "      <td>NaN</td>\n",
       "      <td>NaN</td>\n",
       "      <td>NaN</td>\n",
       "      <td>NaN</td>\n",
       "      <td>NaN</td>\n",
       "      <td>NaN</td>\n",
       "      <td>NaN</td>\n",
       "      <td>type 2</td>\n",
       "      <td>0</td>\n",
       "      <td>type 2</td>\n",
       "      <td>group 17304</td>\n",
       "      <td>type 2</td>\n",
       "      <td>2023-04-21</td>\n",
       "      <td>type 40</td>\n",
       "      <td>type 25</td>\n",
       "      <td>type 9</td>\n",
       "      <td>type 4</td>\n",
       "      <td>type 20</td>\n",
       "      <td>type 3</td>\n",
       "      <td>type 3</td>\n",
       "      <td>False</td>\n",
       "      <td>False</td>\n",
       "      <td>False</td>\n",
       "      <td>False</td>\n",
       "      <td>False</td>\n",
       "      <td>False</td>\n",
       "      <td>False</td>\n",
       "      <td>False</td>\n",
       "      <td>False</td>\n",
       "      <td>False</td>\n",
       "      <td>False</td>\n",
       "      <td>False</td>\n",
       "      <td>False</td>\n",
       "      <td>False</td>\n",
       "      <td>False</td>\n",
       "      <td>False</td>\n",
       "      <td>False</td>\n",
       "      <td>False</td>\n",
       "      <td>False</td>\n",
       "      <td>False</td>\n",
       "      <td>False</td>\n",
       "      <td>False</td>\n",
       "      <td>False</td>\n",
       "      <td>False</td>\n",
       "      <td>False</td>\n",
       "      <td>False</td>\n",
       "      <td>False</td>\n",
       "      <td>False</td>\n",
       "      <td>0</td>\n",
       "    </tr>\n",
       "  </tbody>\n",
       "</table>\n",
       "<p>100 rows × 55 columns</p>\n",
       "</div>"
      ],
      "text/plain": [
       "     people_id   activity_id   act_date activity_category act_char_1  \\\n",
       "0      ppl_100  act2_1734928 2023-08-26            type 4        NaN   \n",
       "1      ppl_100  act2_2434093 2022-09-27            type 2        NaN   \n",
       "2      ppl_100  act2_3404049 2022-09-27            type 2        NaN   \n",
       "3      ppl_100  act2_3651215 2023-08-04            type 2        NaN   \n",
       "4      ppl_100  act2_4109017 2023-08-26            type 2        NaN   \n",
       "..         ...           ...        ...               ...        ...   \n",
       "95  ppl_100025   act2_665440 2022-09-15            type 5        NaN   \n",
       "96  ppl_100025   act2_718885 2022-11-26            type 5        NaN   \n",
       "97  ppl_100025   act2_840357 2022-09-15            type 5        NaN   \n",
       "98  ppl_100028  act2_1582813 2023-05-03            type 2        NaN   \n",
       "99  ppl_100028  act2_2648774 2023-04-26            type 3        NaN   \n",
       "\n",
       "   act_char_2 act_char_3 act_char_4 act_char_5 act_char_6 act_char_7  \\\n",
       "0         NaN        NaN        NaN        NaN        NaN        NaN   \n",
       "1         NaN        NaN        NaN        NaN        NaN        NaN   \n",
       "2         NaN        NaN        NaN        NaN        NaN        NaN   \n",
       "3         NaN        NaN        NaN        NaN        NaN        NaN   \n",
       "4         NaN        NaN        NaN        NaN        NaN        NaN   \n",
       "..        ...        ...        ...        ...        ...        ...   \n",
       "95        NaN        NaN        NaN        NaN        NaN        NaN   \n",
       "96        NaN        NaN        NaN        NaN        NaN        NaN   \n",
       "97        NaN        NaN        NaN        NaN        NaN        NaN   \n",
       "98        NaN        NaN        NaN        NaN        NaN        NaN   \n",
       "99        NaN        NaN        NaN        NaN        NaN        NaN   \n",
       "\n",
       "   act_char_8 act_char_9 act_char_10  outcome pl_char_1      group_1  \\\n",
       "0         NaN        NaN     type 76        0    type 2  group 17304   \n",
       "1         NaN        NaN      type 1        0    type 2  group 17304   \n",
       "2         NaN        NaN      type 1        0    type 2  group 17304   \n",
       "3         NaN        NaN      type 1        0    type 2  group 17304   \n",
       "4         NaN        NaN      type 1        0    type 2  group 17304   \n",
       "..        ...        ...         ...      ...       ...          ...   \n",
       "95        NaN        NaN    type 489        0    type 2  group 36096   \n",
       "96        NaN        NaN    type 489        0    type 2  group 36096   \n",
       "97        NaN        NaN    type 489        0    type 2  group 36096   \n",
       "98        NaN        NaN      type 1        0    type 2  group 17304   \n",
       "99        NaN        NaN      type 2        0    type 2  group 17304   \n",
       "\n",
       "   pl_char_2    pl_date pl_char_3 pl_char_4 pl_char_5 pl_char_6 pl_char_7  \\\n",
       "0     type 2 2021-06-29    type 5    type 5    type 5    type 3   type 11   \n",
       "1     type 2 2021-06-29    type 5    type 5    type 5    type 3   type 11   \n",
       "2     type 2 2021-06-29    type 5    type 5    type 5    type 3   type 11   \n",
       "3     type 2 2021-06-29    type 5    type 5    type 5    type 3   type 11   \n",
       "4     type 2 2021-06-29    type 5    type 5    type 5    type 3   type 11   \n",
       "..       ...        ...       ...       ...       ...       ...       ...   \n",
       "95    type 3 2022-08-26   type 14    type 6    type 8    type 3    type 9   \n",
       "96    type 3 2022-08-26   type 14    type 6    type 8    type 3    type 9   \n",
       "97    type 3 2022-08-26   type 14    type 6    type 8    type 3    type 9   \n",
       "98    type 2 2023-04-21   type 40   type 25    type 9    type 4   type 20   \n",
       "99    type 2 2023-04-21   type 40   type 25    type 9    type 4   type 20   \n",
       "\n",
       "   pl_char_8 pl_char_9  pl_char_10  pl_char_11  pl_char_12  pl_char_13  \\\n",
       "0     type 2    type 2        True       False       False        True   \n",
       "1     type 2    type 2        True       False       False        True   \n",
       "2     type 2    type 2        True       False       False        True   \n",
       "3     type 2    type 2        True       False       False        True   \n",
       "4     type 2    type 2        True       False       False        True   \n",
       "..       ...       ...         ...         ...         ...         ...   \n",
       "95    type 6    type 6       False       False       False       False   \n",
       "96    type 6    type 6       False       False       False       False   \n",
       "97    type 6    type 6       False       False       False       False   \n",
       "98    type 3    type 3       False       False       False       False   \n",
       "99    type 3    type 3       False       False       False       False   \n",
       "\n",
       "    pl_char_14  pl_char_15  pl_char_16  pl_char_17  pl_char_18  pl_char_19  \\\n",
       "0         True       False        True       False       False       False   \n",
       "1         True       False        True       False       False       False   \n",
       "2         True       False        True       False       False       False   \n",
       "3         True       False        True       False       False       False   \n",
       "4         True       False        True       False       False       False   \n",
       "..         ...         ...         ...         ...         ...         ...   \n",
       "95       False       False       False       False       False       False   \n",
       "96       False       False       False       False       False       False   \n",
       "97       False       False       False       False       False       False   \n",
       "98       False       False       False       False       False       False   \n",
       "99       False       False       False       False       False       False   \n",
       "\n",
       "    pl_char_20  pl_char_21  pl_char_22  pl_char_23  pl_char_24  pl_char_25  \\\n",
       "0        False        True       False       False       False       False   \n",
       "1        False        True       False       False       False       False   \n",
       "2        False        True       False       False       False       False   \n",
       "3        False        True       False       False       False       False   \n",
       "4        False        True       False       False       False       False   \n",
       "..         ...         ...         ...         ...         ...         ...   \n",
       "95       False       False       False       False       False       False   \n",
       "96       False       False       False       False       False       False   \n",
       "97       False       False       False       False       False       False   \n",
       "98       False       False       False       False       False       False   \n",
       "99       False       False       False       False       False       False   \n",
       "\n",
       "    pl_char_26  pl_char_27  pl_char_28  pl_char_29  pl_char_30  pl_char_31  \\\n",
       "0        False        True        True       False        True        True   \n",
       "1        False        True        True       False        True        True   \n",
       "2        False        True        True       False        True        True   \n",
       "3        False        True        True       False        True        True   \n",
       "4        False        True        True       False        True        True   \n",
       "..         ...         ...         ...         ...         ...         ...   \n",
       "95       False       False       False       False       False       False   \n",
       "96       False       False       False       False       False       False   \n",
       "97       False       False       False       False       False       False   \n",
       "98       False       False       False       False       False       False   \n",
       "99       False       False       False       False       False       False   \n",
       "\n",
       "    pl_char_32  pl_char_33  pl_char_34  pl_char_35  pl_char_36  pl_char_37  \\\n",
       "0        False       False        True        True        True       False   \n",
       "1        False       False        True        True        True       False   \n",
       "2        False       False        True        True        True       False   \n",
       "3        False       False        True        True        True       False   \n",
       "4        False       False        True        True        True       False   \n",
       "..         ...         ...         ...         ...         ...         ...   \n",
       "95       False       False       False       False       False       False   \n",
       "96       False       False       False       False       False       False   \n",
       "97       False       False       False       False       False       False   \n",
       "98       False       False       False       False       False       False   \n",
       "99       False       False       False       False       False       False   \n",
       "\n",
       "    pl_char_38  \n",
       "0           36  \n",
       "1           36  \n",
       "2           36  \n",
       "3           36  \n",
       "4           36  \n",
       "..         ...  \n",
       "95          76  \n",
       "96          76  \n",
       "97          76  \n",
       "98           0  \n",
       "99           0  \n",
       "\n",
       "[100 rows x 55 columns]"
      ]
     },
     "execution_count": 67,
     "metadata": {},
     "output_type": "execute_result"
    }
   ],
   "source": [
    "import pandas as pd\n",
    "import numpy as np\n",
    "import matplotlib.pyplot as plt\n",
    "import seaborn as sns\n",
    "from scipy import stats\n",
    "%matplotlib inline\n",
    "pd.set_option('display.max_column', None)\n",
    "\n",
    "pl=pd.read_csv('people.csv.zip')\n",
    "ac=pd.read_csv('act_train.csv.zip')\n",
    "pl['date']=pd.to_datetime(pl['date'])\n",
    "ac['date']=pd.to_datetime(ac['date'])\n",
    "pl_columns=[]\n",
    "for col in pl.columns:\n",
    "    if 'char' in col or 'date' in col:\n",
    "        pl_columns.append('pl_' + col)\n",
    "    else:\n",
    "        pl_columns.append(col)\n",
    "pl.columns=pl_columns\n",
    "ac_columns=[]\n",
    "for col in ac.columns:\n",
    "    if 'char' in col or 'date' in col:\n",
    "        ac_columns.append('act_' + col)\n",
    "    else:\n",
    "        ac_columns.append(col)\n",
    "ac.columns=ac_columns\n",
    "ac_pl_merge = pd.merge(ac, pl, on='people_id')\n",
    "ac_pl_merge.to_csv('activity_people_merged_dataset.csv')\n",
    "\n",
    "ac_pl_merge.head(100)"
   ]
  },
  {
   "cell_type": "code",
   "execution_count": 68,
   "metadata": {},
   "outputs": [
    {
     "data": {
      "text/html": [
       "<div>\n",
       "<style scoped>\n",
       "    .dataframe tbody tr th:only-of-type {\n",
       "        vertical-align: middle;\n",
       "    }\n",
       "\n",
       "    .dataframe tbody tr th {\n",
       "        vertical-align: top;\n",
       "    }\n",
       "\n",
       "    .dataframe thead th {\n",
       "        text-align: right;\n",
       "    }\n",
       "</style>\n",
       "<table border=\"1\" class=\"dataframe\">\n",
       "  <thead>\n",
       "    <tr style=\"text-align: right;\">\n",
       "      <th></th>\n",
       "      <th>pl_char_10</th>\n",
       "      <th>pl_char_11</th>\n",
       "      <th>pl_char_12</th>\n",
       "      <th>pl_char_13</th>\n",
       "      <th>pl_char_14</th>\n",
       "      <th>pl_char_15</th>\n",
       "      <th>pl_char_16</th>\n",
       "      <th>pl_char_17</th>\n",
       "      <th>pl_char_18</th>\n",
       "      <th>pl_char_19</th>\n",
       "      <th>pl_char_20</th>\n",
       "      <th>pl_char_21</th>\n",
       "      <th>pl_char_22</th>\n",
       "      <th>pl_char_23</th>\n",
       "      <th>pl_char_24</th>\n",
       "      <th>pl_char_25</th>\n",
       "      <th>pl_char_26</th>\n",
       "      <th>pl_char_27</th>\n",
       "      <th>pl_char_28</th>\n",
       "      <th>pl_char_29</th>\n",
       "      <th>pl_char_30</th>\n",
       "      <th>pl_char_31</th>\n",
       "      <th>pl_char_32</th>\n",
       "      <th>pl_char_33</th>\n",
       "      <th>pl_char_34</th>\n",
       "      <th>pl_char_35</th>\n",
       "      <th>pl_char_36</th>\n",
       "      <th>pl_char_37</th>\n",
       "      <th>pl_char_38</th>\n",
       "    </tr>\n",
       "    <tr>\n",
       "      <th>outcome</th>\n",
       "      <th></th>\n",
       "      <th></th>\n",
       "      <th></th>\n",
       "      <th></th>\n",
       "      <th></th>\n",
       "      <th></th>\n",
       "      <th></th>\n",
       "      <th></th>\n",
       "      <th></th>\n",
       "      <th></th>\n",
       "      <th></th>\n",
       "      <th></th>\n",
       "      <th></th>\n",
       "      <th></th>\n",
       "      <th></th>\n",
       "      <th></th>\n",
       "      <th></th>\n",
       "      <th></th>\n",
       "      <th></th>\n",
       "      <th></th>\n",
       "      <th></th>\n",
       "      <th></th>\n",
       "      <th></th>\n",
       "      <th></th>\n",
       "      <th></th>\n",
       "      <th></th>\n",
       "      <th></th>\n",
       "      <th></th>\n",
       "      <th></th>\n",
       "    </tr>\n",
       "  </thead>\n",
       "  <tbody>\n",
       "    <tr>\n",
       "      <td>0</td>\n",
       "      <td>1221794</td>\n",
       "      <td>1221794</td>\n",
       "      <td>1221794</td>\n",
       "      <td>1221794</td>\n",
       "      <td>1221794</td>\n",
       "      <td>1221794</td>\n",
       "      <td>1221794</td>\n",
       "      <td>1221794</td>\n",
       "      <td>1221794</td>\n",
       "      <td>1221794</td>\n",
       "      <td>1221794</td>\n",
       "      <td>1221794</td>\n",
       "      <td>1221794</td>\n",
       "      <td>1221794</td>\n",
       "      <td>1221794</td>\n",
       "      <td>1221794</td>\n",
       "      <td>1221794</td>\n",
       "      <td>1221794</td>\n",
       "      <td>1221794</td>\n",
       "      <td>1221794</td>\n",
       "      <td>1221794</td>\n",
       "      <td>1221794</td>\n",
       "      <td>1221794</td>\n",
       "      <td>1221794</td>\n",
       "      <td>1221794</td>\n",
       "      <td>1221794</td>\n",
       "      <td>1221794</td>\n",
       "      <td>1221794</td>\n",
       "      <td>1221794</td>\n",
       "    </tr>\n",
       "    <tr>\n",
       "      <td>1</td>\n",
       "      <td>975497</td>\n",
       "      <td>975497</td>\n",
       "      <td>975497</td>\n",
       "      <td>975497</td>\n",
       "      <td>975497</td>\n",
       "      <td>975497</td>\n",
       "      <td>975497</td>\n",
       "      <td>975497</td>\n",
       "      <td>975497</td>\n",
       "      <td>975497</td>\n",
       "      <td>975497</td>\n",
       "      <td>975497</td>\n",
       "      <td>975497</td>\n",
       "      <td>975497</td>\n",
       "      <td>975497</td>\n",
       "      <td>975497</td>\n",
       "      <td>975497</td>\n",
       "      <td>975497</td>\n",
       "      <td>975497</td>\n",
       "      <td>975497</td>\n",
       "      <td>975497</td>\n",
       "      <td>975497</td>\n",
       "      <td>975497</td>\n",
       "      <td>975497</td>\n",
       "      <td>975497</td>\n",
       "      <td>975497</td>\n",
       "      <td>975497</td>\n",
       "      <td>975497</td>\n",
       "      <td>975497</td>\n",
       "    </tr>\n",
       "  </tbody>\n",
       "</table>\n",
       "</div>"
      ],
      "text/plain": [
       "         pl_char_10  pl_char_11  pl_char_12  pl_char_13  pl_char_14  \\\n",
       "outcome                                                               \n",
       "0           1221794     1221794     1221794     1221794     1221794   \n",
       "1            975497      975497      975497      975497      975497   \n",
       "\n",
       "         pl_char_15  pl_char_16  pl_char_17  pl_char_18  pl_char_19  \\\n",
       "outcome                                                               \n",
       "0           1221794     1221794     1221794     1221794     1221794   \n",
       "1            975497      975497      975497      975497      975497   \n",
       "\n",
       "         pl_char_20  pl_char_21  pl_char_22  pl_char_23  pl_char_24  \\\n",
       "outcome                                                               \n",
       "0           1221794     1221794     1221794     1221794     1221794   \n",
       "1            975497      975497      975497      975497      975497   \n",
       "\n",
       "         pl_char_25  pl_char_26  pl_char_27  pl_char_28  pl_char_29  \\\n",
       "outcome                                                               \n",
       "0           1221794     1221794     1221794     1221794     1221794   \n",
       "1            975497      975497      975497      975497      975497   \n",
       "\n",
       "         pl_char_30  pl_char_31  pl_char_32  pl_char_33  pl_char_34  \\\n",
       "outcome                                                               \n",
       "0           1221794     1221794     1221794     1221794     1221794   \n",
       "1            975497      975497      975497      975497      975497   \n",
       "\n",
       "         pl_char_35  pl_char_36  pl_char_37  pl_char_38  \n",
       "outcome                                                  \n",
       "0           1221794     1221794     1221794     1221794  \n",
       "1            975497      975497      975497      975497  "
      ]
     },
     "execution_count": 68,
     "metadata": {},
     "output_type": "execute_result"
    }
   ],
   "source": [
    "# # ac.head(20)\n",
    "# pl.char_38.unique()\n",
    "# pl.char_38.min() , pl.char_38.max(), pl.char_38.mean(), pl.char_38.median()\n",
    "\n",
    "ac_pl_merge.columns\n",
    "ac_pl_merge.groupby(['outcome' ])[ 'pl_char_10','pl_char_11', 'pl_char_12', 'pl_char_13',\n",
    "       'pl_char_14', 'pl_char_15', 'pl_char_16', 'pl_char_17', 'pl_char_18',\n",
    "       'pl_char_19', 'pl_char_20', 'pl_char_21', 'pl_char_22', 'pl_char_23',\n",
    "       'pl_char_24', 'pl_char_25', 'pl_char_26', 'pl_char_27', 'pl_char_28',\n",
    "       'pl_char_29', 'pl_char_30', 'pl_char_31', 'pl_char_32', 'pl_char_33',\n",
    "       'pl_char_34', 'pl_char_35', 'pl_char_36', 'pl_char_37', 'pl_char_38'].count()"
   ]
  },
  {
   "cell_type": "code",
   "execution_count": 69,
   "metadata": {},
   "outputs": [
    {
     "data": {
      "text/plain": [
       "pl_char_11\n",
       "False    1743501\n",
       "True      453790\n",
       "Name: outcome, dtype: int64"
      ]
     },
     "execution_count": 69,
     "metadata": {},
     "output_type": "execute_result"
    }
   ],
   "source": [
    "# ac.loc[ac.people_id == 'ppl_100']\n",
    "# pl.group_1.nunique()\n",
    "ac_pl_merge.pl_char_19.value_counts()\n",
    "ac_pl_merge.groupby(['pl_char_11'])[ 'outcome'].count()"
   ]
  },
  {
   "cell_type": "code",
   "execution_count": 70,
   "metadata": {},
   "outputs": [
    {
     "data": {
      "text/plain": [
       "(2197291, 55)"
      ]
     },
     "execution_count": 70,
     "metadata": {},
     "output_type": "execute_result"
    }
   ],
   "source": [
    "ac_pl_merge.shape"
   ]
  },
  {
   "cell_type": "code",
   "execution_count": 71,
   "metadata": {},
   "outputs": [
    {
     "data": {
      "text/plain": [
       "outcome\n",
       "0    1129010\n",
       "1     910666\n",
       "Name: act_char_10, dtype: int64"
      ]
     },
     "execution_count": 71,
     "metadata": {},
     "output_type": "execute_result"
    }
   ],
   "source": [
    "ac_pl_merge.act_char_10.notnull().sum()\n",
    "ac_pl_merge.groupby('outcome')['act_char_10'].count()"
   ]
  },
  {
   "cell_type": "code",
   "execution_count": null,
   "metadata": {},
   "outputs": [],
   "source": []
  },
  {
   "cell_type": "code",
   "execution_count": 72,
   "metadata": {},
   "outputs": [
    {
     "data": {
      "text/plain": [
       "type 1       904683\n",
       "type 23      200408\n",
       "type 2       116191\n",
       "type 61       35417\n",
       "type 452      23513\n",
       "              ...  \n",
       "type 6790         1\n",
       "type 4721         1\n",
       "type 3717         1\n",
       "type 8272         1\n",
       "type 4331         1\n",
       "Name: act_char_10, Length: 6515, dtype: int64"
      ]
     },
     "execution_count": 72,
     "metadata": {},
     "output_type": "execute_result"
    }
   ],
   "source": [
    "ac_pl_merge.act_char_10.value_counts()"
   ]
  },
  {
   "cell_type": "code",
   "execution_count": 73,
   "metadata": {},
   "outputs": [
    {
     "data": {
      "text/plain": [
       "<Figure size 720x360 with 0 Axes>"
      ]
     },
     "execution_count": 73,
     "metadata": {},
     "output_type": "execute_result"
    },
    {
     "data": {
      "image/png": "[encoded data removed]",
      "text/plain": [
       "<Figure size 720x360 with 1 Axes>"
      ]
     },
     "metadata": {},
     "output_type": "display_data"
    },
    {
     "data": {
      "text/plain": [
       "<Figure size 720x360 with 0 Axes>"
      ]
     },
     "metadata": {},
     "output_type": "display_data"
    }
   ],
   "source": [
    "sns.set(font_scale=2)\n",
    "plt.figure(figsize=(10,5))\n",
    "plt.pie(ac_pl_merge['outcome'].value_counts(),colors=[ '#4fb2aa', '#cb2800'], labels=['No Outcome(0)','Positive Outcome(1)'],autopct='%1.0f%%', explode=[0.05,0], rotatelabels=False)\n",
    "plt.title('Outcome')\n",
    "plt.figure(figsize=(10,5))\n",
    "\n",
    "# plt.savefig('Listings Types')"
   ]
  },
  {
   "cell_type": "code",
   "execution_count": 74,
   "metadata": {},
   "outputs": [
    {
     "data": {
      "text/plain": [
       "<matplotlib.axes._subplots.AxesSubplot at 0x8d82086a48>"
      ]
     },
     "execution_count": 74,
     "metadata": {},
     "output_type": "execute_result"
    },
    {
     "data": {
      "image/png": "[encoded data removed]",
      "text/plain": [
       "<Figure size 720x360 with 1 Axes>"
      ]
     },
     "metadata": {},
     "output_type": "display_data"
    }
   ],
   "source": [
    "plt.figure(figsize=(10,5))\n",
    "sns.countplot('outcome', data=ac_pl_merge)"
   ]
  },
  {
   "cell_type": "code",
   "execution_count": 75,
   "metadata": {},
   "outputs": [
    {
     "data": {
      "text/plain": [
       "False    1621615\n",
       "True      575676\n",
       "Name: pl_char_15, dtype: int64"
      ]
     },
     "execution_count": 75,
     "metadata": {},
     "output_type": "execute_result"
    },
    {
     "data": {
      "image/png": "[encoded data removed]",
      "text/plain": [
       "<Figure size 1080x504 with 1 Axes>"
      ]
     },
     "metadata": {},
     "output_type": "display_data"
    }
   ],
   "source": [
    "# pl.info()\n",
    "# pl.char_38.unique()\n",
    "# ac.columns\n",
    "# ac.info()\n",
    "plt.figure(figsize=(15,7))\n",
    "\n",
    "ac_pl_merge.pl_char_11.value_counts()\n",
    "# sns.countplot('pl_char_10', data=ac_pl_merge, hue='outcome') ,\n",
    "# sns.countplot('pl_char_37', data=ac_pl_merge, hue='outcome')\n",
    "sns.countplot('outcome', data=ac_pl_merge, hue='pl_char_13')\n",
    "\n",
    "ac_pl_merge.pl_char_15.value_counts()"
   ]
  },
  {
   "cell_type": "code",
   "execution_count": null,
   "metadata": {},
   "outputs": [],
   "source": []
  },
  {
   "cell_type": "markdown",
   "metadata": {},
   "source": [
    "## Insight:"
   ]
  },
  {
   "cell_type": "markdown",
   "metadata": {},
   "source": [
    "More False answers between pl_char_10 and pl_char_38 lead to more negative value. Contrarily, more True answers lead to more positive business value. "
   ]
  },
  {
   "cell_type": "code",
   "execution_count": 76,
   "metadata": {},
   "outputs": [
    {
     "data": {
      "text/plain": [
       "(Timestamp('2023-08-31 00:00:00'),\n",
       " Timestamp('2022-07-17 00:00:00'),\n",
       " Timestamp('2023-08-31 00:00:00'),\n",
       " Timestamp('2020-05-18 00:00:00'))"
      ]
     },
     "execution_count": 76,
     "metadata": {},
     "output_type": "execute_result"
    }
   ],
   "source": [
    "ac.activity_category.unique()\n",
    "ac.outcome.unique()\n",
    "ac.act_date.max(), ac.act_date.min(), pl.pl_date.max(), pl.pl_date.min()\n",
    "# ac.columns\n",
    "# ac.act_date.head()"
   ]
  },
  {
   "cell_type": "code",
   "execution_count": 77,
   "metadata": {},
   "outputs": [
    {
     "data": {
      "text/plain": [
       "Text(0.5, 1.0, 'Char_38')"
      ]
     },
     "execution_count": 77,
     "metadata": {},
     "output_type": "execute_result"
    },
    {
     "data": {
      "image/png": "[encoded data removed]",
      "text/plain": [
       "<Figure size 720x360 with 1 Axes>"
      ]
     },
     "metadata": {},
     "output_type": "display_data"
    }
   ],
   "source": [
    "plt.figure(figsize=(40,7))\n",
    "ac_pl_merge.pl_char_38.plot(kind='hist',figsize=(10,5))\n",
    "plt.xlabel('Char_38')\n",
    "plt.ylabel('Frequency')\n",
    "plt.title('Char_38')"
   ]
  },
  {
   "cell_type": "code",
   "execution_count": 78,
   "metadata": {},
   "outputs": [
    {
     "data": {
      "text/plain": [
       "(array([587161.,  49644.,  65930., 101104.,  88821.,  66710.,  71624.,\n",
       "         71876.,  54474.,  64450.]),\n",
       " array([  0.,  10.,  20.,  30.,  40.,  50.,  60.,  70.,  80.,  90., 100.]),\n",
       " <a list of 10 Patch objects>)"
      ]
     },
     "execution_count": 78,
     "metadata": {},
     "output_type": "execute_result"
    },
    {
     "data": {
      "image/png": "[encoded data removed]",
      "text/plain": [
       "<Figure size 720x360 with 1 Axes>"
      ]
     },
     "metadata": {},
     "output_type": "display_data"
    }
   ],
   "source": [
    "pl.columns\n",
    "# pl_char_38=pl[['people_id', 'char_38']]\n",
    "# ac_outcome=ac[['people_id', 'outcome']]\n",
    "# ac_pl_38_outcome_df=pl_char_38.merge(ac_outcome, how='left', on='people_id')\n",
    "ac_pl_merge_38_outcome_0 = ac_pl_merge[ac_pl_merge['outcome'] == 0]\n",
    "plt.figure(figsize=(10,5))\n",
    "plt.hist(ac_pl_merge_38_outcome_0['pl_char_38'])\n",
    "# ac_pl_38_outcome_df_0.describe()"
   ]
  },
  {
   "cell_type": "code",
   "execution_count": 79,
   "metadata": {},
   "outputs": [
    {
     "data": {
      "text/plain": [
       "(array([1.50320e+04, 1.60000e+01, 0.00000e+00, 1.88000e+03, 1.79420e+04,\n",
       "        1.16920e+05, 1.34997e+05, 1.87124e+05, 2.21615e+05, 2.79971e+05]),\n",
       " array([  0.,  10.,  20.,  30.,  40.,  50.,  60.,  70.,  80.,  90., 100.]),\n",
       " <a list of 10 Patch objects>)"
      ]
     },
     "execution_count": 79,
     "metadata": {},
     "output_type": "execute_result"
    },
    {
     "data": {
      "image/png": "[encoded data removed]",
      "text/plain": [
       "<Figure size 720x360 with 1 Axes>"
      ]
     },
     "metadata": {},
     "output_type": "display_data"
    }
   ],
   "source": [
    "ac_pl_merge_38_outcome_1 = ac_pl_merge[ac_pl_merge['outcome'] == 1]\n",
    "plt.figure(figsize=(10,5))\n",
    "plt.hist(ac_pl_merge_38_outcome_1['pl_char_38'])\n",
    "# ac_pl_38_outcome_df_1.describe()"
   ]
  },
  {
   "cell_type": "code",
   "execution_count": 80,
   "metadata": {},
   "outputs": [],
   "source": [
    "# ac.memory_usage()"
   ]
  },
  {
   "cell_type": "code",
   "execution_count": 81,
   "metadata": {},
   "outputs": [],
   "source": [
    "# pl.columns"
   ]
  },
  {
   "cell_type": "code",
   "execution_count": 82,
   "metadata": {},
   "outputs": [],
   "source": [
    "# ac.columns"
   ]
  },
  {
   "cell_type": "code",
   "execution_count": 83,
   "metadata": {},
   "outputs": [],
   "source": [
    "# ac.describe()\n",
    "# ac.outcome.isnull().sum()\n",
    "# for i in ac.columns:\n",
    "#     i.isnull().sum()\n",
    "# ac.isnull().sum() , ac.shape\n",
    "# ac.shape[0] - ac.outcome.notnull().sum()\n",
    "# ac.shape[0] - ac.char_1.isnull().sum()"
   ]
  },
  {
   "cell_type": "code",
   "execution_count": 84,
   "metadata": {},
   "outputs": [],
   "source": [
    "# for i in ac.columns:\n",
    "#     ac.columns[i],ac.shape[0] - ac[i].isnull().sum()\n",
    "# ac.outcome.value_counts().plot(kind='bar')"
   ]
  },
  {
   "cell_type": "code",
   "execution_count": 85,
   "metadata": {},
   "outputs": [
    {
     "name": "stdout",
     "output_type": "stream",
     "text": [
      "Unique Elements:  people_id : 151295\n",
      "Unique Elements:  activity_id : 2197291\n",
      "Unique Elements:  act_date : 411\n",
      "Unique Elements:  activity_category : 7\n",
      "Unique Elements:  act_char_1 : 51\n",
      "Unique Elements:  act_char_2 : 32\n",
      "Unique Elements:  act_char_3 : 11\n",
      "Unique Elements:  act_char_4 : 7\n",
      "Unique Elements:  act_char_5 : 7\n",
      "Unique Elements:  act_char_6 : 5\n",
      "Unique Elements:  act_char_7 : 8\n",
      "Unique Elements:  act_char_8 : 18\n",
      "Unique Elements:  act_char_9 : 19\n",
      "Unique Elements:  act_char_10 : 6515\n",
      "Unique Elements:  outcome : 2\n",
      "Unique Elements:  pl_char_1 : 2\n",
      "Unique Elements:  group_1 : 29899\n",
      "Unique Elements:  pl_char_2 : 3\n",
      "Unique Elements:  pl_date : 1196\n",
      "Unique Elements:  pl_char_3 : 43\n",
      "Unique Elements:  pl_char_4 : 25\n",
      "Unique Elements:  pl_char_5 : 9\n",
      "Unique Elements:  pl_char_6 : 7\n",
      "Unique Elements:  pl_char_7 : 25\n",
      "Unique Elements:  pl_char_8 : 8\n",
      "Unique Elements:  pl_char_9 : 9\n",
      "Unique Elements:  pl_char_10 : 2\n",
      "Unique Elements:  pl_char_11 : 2\n",
      "Unique Elements:  pl_char_12 : 2\n",
      "Unique Elements:  pl_char_13 : 2\n",
      "Unique Elements:  pl_char_14 : 2\n",
      "Unique Elements:  pl_char_15 : 2\n",
      "Unique Elements:  pl_char_16 : 2\n",
      "Unique Elements:  pl_char_17 : 2\n",
      "Unique Elements:  pl_char_18 : 2\n",
      "Unique Elements:  pl_char_19 : 2\n",
      "Unique Elements:  pl_char_20 : 2\n",
      "Unique Elements:  pl_char_21 : 2\n",
      "Unique Elements:  pl_char_22 : 2\n",
      "Unique Elements:  pl_char_23 : 2\n",
      "Unique Elements:  pl_char_24 : 2\n",
      "Unique Elements:  pl_char_25 : 2\n",
      "Unique Elements:  pl_char_26 : 2\n",
      "Unique Elements:  pl_char_27 : 2\n",
      "Unique Elements:  pl_char_28 : 2\n",
      "Unique Elements:  pl_char_29 : 2\n",
      "Unique Elements:  pl_char_30 : 2\n",
      "Unique Elements:  pl_char_31 : 2\n",
      "Unique Elements:  pl_char_32 : 2\n",
      "Unique Elements:  pl_char_33 : 2\n",
      "Unique Elements:  pl_char_34 : 2\n",
      "Unique Elements:  pl_char_35 : 2\n",
      "Unique Elements:  pl_char_36 : 2\n",
      "Unique Elements:  pl_char_37 : 2\n",
      "Unique Elements:  pl_char_38 : 101\n"
     ]
    }
   ],
   "source": [
    "for i in ac_pl_merge:\n",
    "    print('Unique Elements: ', i,\":\",ac_pl_merge[i].nunique())\n",
    "# ac.char_1.unique()"
   ]
  },
  {
   "cell_type": "code",
   "execution_count": 86,
   "metadata": {},
   "outputs": [],
   "source": [
    "# for i in pl:\n",
    "#     print('Unique Elements: ', i,\":\",pl[i].nunique())"
   ]
  },
  {
   "cell_type": "code",
   "execution_count": 87,
   "metadata": {},
   "outputs": [
    {
     "name": "stdout",
     "output_type": "stream",
     "text": [
      "No. of Null people_id : 0\n",
      "No. of Null activity_id : 0\n",
      "No. of Null act_date : 0\n",
      "No. of Null activity_category : 0\n",
      "No. of Null act_char_1 : 2039676\n",
      "No. of Null act_char_2 : 2039676\n",
      "No. of Null act_char_3 : 2039676\n",
      "No. of Null act_char_4 : 2039676\n",
      "No. of Null act_char_5 : 2039676\n",
      "No. of Null act_char_6 : 2039676\n",
      "No. of Null act_char_7 : 2039676\n",
      "No. of Null act_char_8 : 2039676\n",
      "No. of Null act_char_9 : 2039676\n",
      "No. of Null act_char_10 : 157615\n",
      "No. of Null outcome : 0\n",
      "No. of Null pl_char_1 : 0\n",
      "No. of Null group_1 : 0\n",
      "No. of Null pl_char_2 : 0\n",
      "No. of Null pl_date : 0\n",
      "No. of Null pl_char_3 : 0\n",
      "No. of Null pl_char_4 : 0\n",
      "No. of Null pl_char_5 : 0\n",
      "No. of Null pl_char_6 : 0\n",
      "No. of Null pl_char_7 : 0\n",
      "No. of Null pl_char_8 : 0\n",
      "No. of Null pl_char_9 : 0\n",
      "No. of Null pl_char_10 : 0\n",
      "No. of Null pl_char_11 : 0\n",
      "No. of Null pl_char_12 : 0\n",
      "No. of Null pl_char_13 : 0\n",
      "No. of Null pl_char_14 : 0\n",
      "No. of Null pl_char_15 : 0\n",
      "No. of Null pl_char_16 : 0\n",
      "No. of Null pl_char_17 : 0\n",
      "No. of Null pl_char_18 : 0\n",
      "No. of Null pl_char_19 : 0\n",
      "No. of Null pl_char_20 : 0\n",
      "No. of Null pl_char_21 : 0\n",
      "No. of Null pl_char_22 : 0\n",
      "No. of Null pl_char_23 : 0\n",
      "No. of Null pl_char_24 : 0\n",
      "No. of Null pl_char_25 : 0\n",
      "No. of Null pl_char_26 : 0\n",
      "No. of Null pl_char_27 : 0\n",
      "No. of Null pl_char_28 : 0\n",
      "No. of Null pl_char_29 : 0\n",
      "No. of Null pl_char_30 : 0\n",
      "No. of Null pl_char_31 : 0\n",
      "No. of Null pl_char_32 : 0\n",
      "No. of Null pl_char_33 : 0\n",
      "No. of Null pl_char_34 : 0\n",
      "No. of Null pl_char_35 : 0\n",
      "No. of Null pl_char_36 : 0\n",
      "No. of Null pl_char_37 : 0\n",
      "No. of Null pl_char_38 : 0\n"
     ]
    }
   ],
   "source": [
    "for i in ac_pl_merge:\n",
    "    print('No. of Null', i,\":\",ac_pl_merge[i].isnull().sum())"
   ]
  },
  {
   "cell_type": "code",
   "execution_count": 88,
   "metadata": {},
   "outputs": [],
   "source": [
    "# for i in pl:\n",
    "#     print('No. of Null', i,pl[i].isnull().sum())    #All good, no missing values"
   ]
  },
  {
   "cell_type": "code",
   "execution_count": 89,
   "metadata": {},
   "outputs": [],
   "source": [
    "# ac.activity_category.unique()\n",
    "# ac.char_1.value_counts()\n",
    "# ac.columns"
   ]
  },
  {
   "cell_type": "code",
   "execution_count": 90,
   "metadata": {},
   "outputs": [
    {
     "data": {
      "text/plain": [
       "Index(['people_id', 'activity_id', 'act_date', 'activity_category',\n",
       "       'act_char_1', 'act_char_2', 'act_char_3', 'act_char_4', 'act_char_5',\n",
       "       'act_char_6', 'act_char_7', 'act_char_8', 'act_char_9', 'act_char_10',\n",
       "       'outcome', 'pl_char_1', 'group_1', 'pl_char_2', 'pl_date', 'pl_char_3',\n",
       "       'pl_char_4', 'pl_char_5', 'pl_char_6', 'pl_char_7', 'pl_char_8',\n",
       "       'pl_char_9', 'pl_char_10', 'pl_char_11', 'pl_char_12', 'pl_char_13',\n",
       "       'pl_char_14', 'pl_char_15', 'pl_char_16', 'pl_char_17', 'pl_char_18',\n",
       "       'pl_char_19', 'pl_char_20', 'pl_char_21', 'pl_char_22', 'pl_char_23',\n",
       "       'pl_char_24', 'pl_char_25', 'pl_char_26', 'pl_char_27', 'pl_char_28',\n",
       "       'pl_char_29', 'pl_char_30', 'pl_char_31', 'pl_char_32', 'pl_char_33',\n",
       "       'pl_char_34', 'pl_char_35', 'pl_char_36', 'pl_char_37', 'pl_char_38'],\n",
       "      dtype='object')"
      ]
     },
     "execution_count": 90,
     "metadata": {},
     "output_type": "execute_result"
    }
   ],
   "source": [
    "ac_pl_merge.columns"
   ]
  },
  {
   "cell_type": "code",
   "execution_count": 91,
   "metadata": {},
   "outputs": [
    {
     "data": {
      "text/plain": [
       "<matplotlib.axes._subplots.AxesSubplot at 0x8c80fb6e88>"
      ]
     },
     "execution_count": 91,
     "metadata": {},
     "output_type": "execute_result"
    },
    {
     "data": {
      "image/png": "[encoded data removed]",
      "text/plain": [
       "<Figure size 432x288 with 1 Axes>"
      ]
     },
     "metadata": {},
     "output_type": "display_data"
    }
   ],
   "source": [
    "outcome_1 = ac_pl_merge[ac_pl_merge['outcome'] == 1]\n",
    "outcome_0 = ac_pl_merge[ac_pl_merge['outcome'] == 0]\n",
    "\n",
    "# ac_pl_merge[outcome_1][['pl_char_10']].mean()\n",
    "ac_pl_merge.loc[ac_pl_merge['outcome'] == 0, :][['pl_char_10', 'pl_char_11', 'pl_char_12', 'pl_char_13',\n",
    "       ]].mean().plot(kind='bar')\n"
   ]
  },
  {
   "cell_type": "code",
   "execution_count": 92,
   "metadata": {},
   "outputs": [
    {
     "data": {
      "text/plain": [
       "<matplotlib.axes._subplots.AxesSubplot at 0x8c80ffd208>"
      ]
     },
     "execution_count": 92,
     "metadata": {},
     "output_type": "execute_result"
    },
    {
     "data": {
      "image/png": "[encoded data removed]",
      "text/plain": [
       "<Figure size 432x288 with 1 Axes>"
      ]
     },
     "metadata": {},
     "output_type": "display_data"
    }
   ],
   "source": [
    "ac_pl_merge.loc[ac_pl_merge['outcome'] == 1, :][['pl_char_10', 'pl_char_11', 'pl_char_12', 'pl_char_13'\n",
    " ]].mean().plot(kind='bar')"
   ]
  },
  {
   "cell_type": "code",
   "execution_count": 93,
   "metadata": {},
   "outputs": [
    {
     "data": {
      "text/plain": [
       "pl_char_10     0.138419\n",
       "pl_char_11     0.124681\n",
       "pl_char_12     0.149603\n",
       "pl_char_13     0.212266\n",
       "pl_char_14     0.158686\n",
       "pl_char_15     0.158280\n",
       "pl_char_16     0.157953\n",
       "pl_char_17     0.164649\n",
       "pl_char_18     0.105264\n",
       "pl_char_19     0.160178\n",
       "pl_char_20     0.110510\n",
       "pl_char_21     0.158201\n",
       "pl_char_22     0.155879\n",
       "pl_char_23     0.174840\n",
       "pl_char_24     0.104651\n",
       "pl_char_25     0.197717\n",
       "pl_char_26     0.110502\n",
       "pl_char_27     0.144676\n",
       "pl_char_28     0.161415\n",
       "pl_char_29     0.101111\n",
       "pl_char_30     0.127994\n",
       "pl_char_31     0.167970\n",
       "pl_char_32     0.157622\n",
       "pl_char_33     0.135915\n",
       "pl_char_34     0.212560\n",
       "pl_char_35     0.124272\n",
       "pl_char_36     0.195533\n",
       "pl_char_37     0.155955\n",
       "pl_char_38    28.166647\n",
       "dtype: float64"
      ]
     },
     "execution_count": 93,
     "metadata": {},
     "output_type": "execute_result"
    }
   ],
   "source": [
    "ac_pl_merge.loc[ac_pl_merge['outcome'] == 0, :][['pl_char_10', 'pl_char_11', 'pl_char_12', 'pl_char_13','pl_char_14', 'pl_char_15', 'pl_char_16', 'pl_char_17', 'pl_char_18',\n",
    "       'pl_char_19', 'pl_char_20', 'pl_char_21', 'pl_char_22', 'pl_char_23',\n",
    "       'pl_char_24', 'pl_char_25', 'pl_char_26', 'pl_char_27', 'pl_char_28',\n",
    "       'pl_char_29', 'pl_char_30', 'pl_char_31', 'pl_char_32', 'pl_char_33',\n",
    "       'pl_char_34', 'pl_char_35', 'pl_char_36', 'pl_char_37', 'pl_char_38'\n",
    "       ]].mean()"
   ]
  },
  {
   "cell_type": "code",
   "execution_count": 94,
   "metadata": {},
   "outputs": [
    {
     "data": {
      "text/plain": [
       "pl_char_10     0.370080\n",
       "pl_char_11     0.309027\n",
       "pl_char_12     0.341508\n",
       "pl_char_13     0.521318\n",
       "pl_char_14     0.375931\n",
       "pl_char_15     0.391894\n",
       "pl_char_16     0.406422\n",
       "pl_char_17     0.423834\n",
       "pl_char_18     0.267851\n",
       "pl_char_19     0.410240\n",
       "pl_char_20     0.331828\n",
       "pl_char_21     0.406867\n",
       "pl_char_22     0.411181\n",
       "pl_char_23     0.421092\n",
       "pl_char_24     0.276095\n",
       "pl_char_25     0.468417\n",
       "pl_char_26     0.240544\n",
       "pl_char_27     0.344571\n",
       "pl_char_28     0.410139\n",
       "pl_char_29     0.240844\n",
       "pl_char_30     0.298769\n",
       "pl_char_31     0.394350\n",
       "pl_char_32     0.406249\n",
       "pl_char_33     0.311975\n",
       "pl_char_34     0.512683\n",
       "pl_char_35     0.297846\n",
       "pl_char_36     0.494511\n",
       "pl_char_37     0.414715\n",
       "pl_char_38    77.302018\n",
       "dtype: float64"
      ]
     },
     "execution_count": 94,
     "metadata": {},
     "output_type": "execute_result"
    }
   ],
   "source": [
    "ac_pl_merge.loc[ac_pl_merge['outcome'] == 1, :][['pl_char_10', 'pl_char_11', 'pl_char_12', 'pl_char_13','pl_char_14', 'pl_char_15', 'pl_char_16', 'pl_char_17', 'pl_char_18',\n",
    "       'pl_char_19', 'pl_char_20', 'pl_char_21', 'pl_char_22', 'pl_char_23',\n",
    "       'pl_char_24', 'pl_char_25', 'pl_char_26', 'pl_char_27', 'pl_char_28',\n",
    "       'pl_char_29', 'pl_char_30', 'pl_char_31', 'pl_char_32', 'pl_char_33',\n",
    "       'pl_char_34', 'pl_char_35', 'pl_char_36', 'pl_char_37', 'pl_char_38'\n",
    "       ]].mean()"
   ]
  },
  {
   "cell_type": "code",
   "execution_count": 95,
   "metadata": {},
   "outputs": [
    {
     "data": {
      "text/plain": [
       "Index(['people_id', 'activity_id', 'act_date', 'activity_category',\n",
       "       'act_char_1', 'act_char_2', 'act_char_3', 'act_char_4', 'act_char_5',\n",
       "       'act_char_6', 'act_char_7', 'act_char_8', 'act_char_9', 'act_char_10',\n",
       "       'outcome', 'pl_char_1', 'group_1', 'pl_char_2', 'pl_date', 'pl_char_3',\n",
       "       'pl_char_4', 'pl_char_5', 'pl_char_6', 'pl_char_7', 'pl_char_8',\n",
       "       'pl_char_9', 'pl_char_10', 'pl_char_11', 'pl_char_12', 'pl_char_13',\n",
       "       'pl_char_14', 'pl_char_15', 'pl_char_16', 'pl_char_17', 'pl_char_18',\n",
       "       'pl_char_19', 'pl_char_20', 'pl_char_21', 'pl_char_22', 'pl_char_23',\n",
       "       'pl_char_24', 'pl_char_25', 'pl_char_26', 'pl_char_27', 'pl_char_28',\n",
       "       'pl_char_29', 'pl_char_30', 'pl_char_31', 'pl_char_32', 'pl_char_33',\n",
       "       'pl_char_34', 'pl_char_35', 'pl_char_36', 'pl_char_37', 'pl_char_38'],\n",
       "      dtype='object')"
      ]
     },
     "execution_count": 95,
     "metadata": {},
     "output_type": "execute_result"
    }
   ],
   "source": [
    "ac_pl_merge.columns"
   ]
  },
  {
   "cell_type": "code",
   "execution_count": 96,
   "metadata": {},
   "outputs": [
    {
     "data": {
      "text/plain": [
       "(1221794, 55)"
      ]
     },
     "execution_count": 96,
     "metadata": {},
     "output_type": "execute_result"
    }
   ],
   "source": [
    "ac_pl_merge.loc[ac_pl_merge['outcome'] == 1, :].shape\n",
    "ac_pl_merge.loc[ac_pl_merge['outcome'] == 0, :].shape"
   ]
  },
  {
   "cell_type": "code",
   "execution_count": 97,
   "metadata": {},
   "outputs": [
    {
     "ename": "ValueError",
     "evalue": "Must pass DataFrame with boolean values only",
     "output_type": "error",
     "traceback": [
      "\u001b[1;31m---------------------------------------------------------------------------\u001b[0m",
      "\u001b[1;31mValueError\u001b[0m                                Traceback (most recent call last)",
      "\u001b[1;32m<ipython-input-97-c3b3d38a93ad>\u001b[0m in \u001b[0;36m<module>\u001b[1;34m\u001b[0m\n\u001b[1;32m----> 1\u001b[1;33m ac_pl_merge[outcome_1][['pl_char_10', 'pl_char_11', 'pl_char_12', 'pl_char_13',\n\u001b[0m\u001b[0;32m      2\u001b[0m        \u001b[1;34m'pl_char_14'\u001b[0m\u001b[1;33m,\u001b[0m \u001b[1;34m'pl_char_15'\u001b[0m\u001b[1;33m,\u001b[0m \u001b[1;34m'pl_char_16'\u001b[0m\u001b[1;33m,\u001b[0m \u001b[1;34m'pl_char_17'\u001b[0m\u001b[1;33m,\u001b[0m \u001b[1;34m'pl_char_18'\u001b[0m\u001b[1;33m,\u001b[0m\u001b[1;33m\u001b[0m\u001b[1;33m\u001b[0m\u001b[0m\n\u001b[0;32m      3\u001b[0m        \u001b[1;34m'pl_char_19'\u001b[0m\u001b[1;33m,\u001b[0m \u001b[1;34m'pl_char_20'\u001b[0m\u001b[1;33m,\u001b[0m \u001b[1;34m'pl_char_21'\u001b[0m\u001b[1;33m,\u001b[0m \u001b[1;34m'pl_char_22'\u001b[0m\u001b[1;33m,\u001b[0m \u001b[1;34m'pl_char_23'\u001b[0m\u001b[1;33m,\u001b[0m\u001b[1;33m\u001b[0m\u001b[1;33m\u001b[0m\u001b[0m\n\u001b[0;32m      4\u001b[0m        \u001b[1;34m'pl_char_24'\u001b[0m\u001b[1;33m,\u001b[0m \u001b[1;34m'pl_char_25'\u001b[0m\u001b[1;33m,\u001b[0m \u001b[1;34m'pl_char_26'\u001b[0m\u001b[1;33m,\u001b[0m \u001b[1;34m'pl_char_27'\u001b[0m\u001b[1;33m,\u001b[0m \u001b[1;34m'pl_char_28'\u001b[0m\u001b[1;33m,\u001b[0m\u001b[1;33m\u001b[0m\u001b[1;33m\u001b[0m\u001b[0m\n\u001b[0;32m      5\u001b[0m        \u001b[1;34m'pl_char_29'\u001b[0m\u001b[1;33m,\u001b[0m \u001b[1;34m'pl_char_30'\u001b[0m\u001b[1;33m,\u001b[0m \u001b[1;34m'pl_char_31'\u001b[0m\u001b[1;33m,\u001b[0m \u001b[1;34m'pl_char_32'\u001b[0m\u001b[1;33m,\u001b[0m \u001b[1;34m'pl_char_33'\u001b[0m\u001b[1;33m,\u001b[0m\u001b[1;33m\u001b[0m\u001b[1;33m\u001b[0m\u001b[0m\n",
      "\u001b[1;32m~\\AppData\\Local\\New folder\\lib\\site-packages\\pandas\\core\\frame.py\u001b[0m in \u001b[0;36m__getitem__\u001b[1;34m(self, key)\u001b[0m\n\u001b[0;32m   2965\u001b[0m         \u001b[1;31m# Do we have a (boolean) DataFrame?\u001b[0m\u001b[1;33m\u001b[0m\u001b[1;33m\u001b[0m\u001b[1;33m\u001b[0m\u001b[0m\n\u001b[0;32m   2966\u001b[0m         \u001b[1;32mif\u001b[0m \u001b[0misinstance\u001b[0m\u001b[1;33m(\u001b[0m\u001b[0mkey\u001b[0m\u001b[1;33m,\u001b[0m \u001b[0mDataFrame\u001b[0m\u001b[1;33m)\u001b[0m\u001b[1;33m:\u001b[0m\u001b[1;33m\u001b[0m\u001b[1;33m\u001b[0m\u001b[0m\n\u001b[1;32m-> 2967\u001b[1;33m             \u001b[1;32mreturn\u001b[0m \u001b[0mself\u001b[0m\u001b[1;33m.\u001b[0m\u001b[0m_getitem_frame\u001b[0m\u001b[1;33m(\u001b[0m\u001b[0mkey\u001b[0m\u001b[1;33m)\u001b[0m\u001b[1;33m\u001b[0m\u001b[1;33m\u001b[0m\u001b[0m\n\u001b[0m\u001b[0;32m   2968\u001b[0m \u001b[1;33m\u001b[0m\u001b[0m\n\u001b[0;32m   2969\u001b[0m         \u001b[1;31m# Do we have a (boolean) 1d indexer?\u001b[0m\u001b[1;33m\u001b[0m\u001b[1;33m\u001b[0m\u001b[1;33m\u001b[0m\u001b[0m\n",
      "\u001b[1;32m~\\AppData\\Local\\New folder\\lib\\site-packages\\pandas\\core\\frame.py\u001b[0m in \u001b[0;36m_getitem_frame\u001b[1;34m(self, key)\u001b[0m\n\u001b[0;32m   3064\u001b[0m     \u001b[1;32mdef\u001b[0m \u001b[0m_getitem_frame\u001b[0m\u001b[1;33m(\u001b[0m\u001b[0mself\u001b[0m\u001b[1;33m,\u001b[0m \u001b[0mkey\u001b[0m\u001b[1;33m)\u001b[0m\u001b[1;33m:\u001b[0m\u001b[1;33m\u001b[0m\u001b[1;33m\u001b[0m\u001b[0m\n\u001b[0;32m   3065\u001b[0m         \u001b[1;32mif\u001b[0m \u001b[0mkey\u001b[0m\u001b[1;33m.\u001b[0m\u001b[0mvalues\u001b[0m\u001b[1;33m.\u001b[0m\u001b[0msize\u001b[0m \u001b[1;32mand\u001b[0m \u001b[1;32mnot\u001b[0m \u001b[0mis_bool_dtype\u001b[0m\u001b[1;33m(\u001b[0m\u001b[0mkey\u001b[0m\u001b[1;33m.\u001b[0m\u001b[0mvalues\u001b[0m\u001b[1;33m)\u001b[0m\u001b[1;33m:\u001b[0m\u001b[1;33m\u001b[0m\u001b[1;33m\u001b[0m\u001b[0m\n\u001b[1;32m-> 3066\u001b[1;33m             \u001b[1;32mraise\u001b[0m \u001b[0mValueError\u001b[0m\u001b[1;33m(\u001b[0m\u001b[1;34m\"Must pass DataFrame with boolean values only\"\u001b[0m\u001b[1;33m)\u001b[0m\u001b[1;33m\u001b[0m\u001b[1;33m\u001b[0m\u001b[0m\n\u001b[0m\u001b[0;32m   3067\u001b[0m         \u001b[1;32mreturn\u001b[0m \u001b[0mself\u001b[0m\u001b[1;33m.\u001b[0m\u001b[0mwhere\u001b[0m\u001b[1;33m(\u001b[0m\u001b[0mkey\u001b[0m\u001b[1;33m)\u001b[0m\u001b[1;33m\u001b[0m\u001b[1;33m\u001b[0m\u001b[0m\n\u001b[0;32m   3068\u001b[0m \u001b[1;33m\u001b[0m\u001b[0m\n",
      "\u001b[1;31mValueError\u001b[0m: Must pass DataFrame with boolean values only"
     ]
    }
   ],
   "source": [
    "ac_pl_merge[outcome_1][['pl_char_10', 'pl_char_11', 'pl_char_12', 'pl_char_13',\n",
    "       'pl_char_14', 'pl_char_15', 'pl_char_16', 'pl_char_17', 'pl_char_18',\n",
    "       'pl_char_19', 'pl_char_20', 'pl_char_21', 'pl_char_22', 'pl_char_23',\n",
    "       'pl_char_24', 'pl_char_25', 'pl_char_26', 'pl_char_27', 'pl_char_28',\n",
    "       'pl_char_29', 'pl_char_30', 'pl_char_31', 'pl_char_32', 'pl_char_33',\n",
    "       'pl_char_34', 'pl_char_35', 'pl_char_36', 'pl_char_37']].mean()"
   ]
  },
  {
   "cell_type": "code",
   "execution_count": null,
   "metadata": {},
   "outputs": [],
   "source": [
    "ac_pl_merge.groupby('outcome')['act_char_1','act_char_2', 'act_char_3', 'act_char_4', 'act_char_5', 'act_char_6', 'act_char_7', 'act_char_8',\n",
    "       'act_char_9', 'act_char_10'].count()"
   ]
  },
  {
   "cell_type": "code",
   "execution_count": null,
   "metadata": {},
   "outputs": [],
   "source": []
  },
  {
   "cell_type": "code",
   "execution_count": null,
   "metadata": {},
   "outputs": [],
   "source": [
    "ac_pl_merge.groupby(['outcome','activity_category'])['act_char_1','act_char_2', 'act_char_3', 'act_char_4', 'act_char_5', 'act_char_6', 'act_char_7', 'act_char_8',\n",
    "       'act_char_9', 'act_char_10'].count()"
   ]
  },
  {
   "cell_type": "code",
   "execution_count": null,
   "metadata": {},
   "outputs": [],
   "source": [
    "ac_pl_merge_perc = ac_pl_merge.groupby(['activity_category','outcome'])['act_char_1','act_char_2', 'act_char_3', 'act_char_4', 'act_char_5', 'act_char_6', 'act_char_7', 'act_char_8',\n",
    "       'act_char_9', 'act_char_10'].count().reset_index()\n",
    "ac_pl_merge_perc['act_total'] = ac_pl_merge_perc['act_char_9'] + ac_pl_merge_perc['act_char_10']\n",
    "ac_pl_merge_perc"
   ]
  },
  {
   "cell_type": "code",
   "execution_count": null,
   "metadata": {},
   "outputs": [],
   "source": [
    "plt.figure(figsize=(15,7))\n",
    "\n",
    "sns.barplot('activity_category', 'act_total', data=ac_pl_merge_perc, ci=False, hue='outcome')"
   ]
  },
  {
   "cell_type": "code",
   "execution_count": null,
   "metadata": {},
   "outputs": [],
   "source": [
    "ac_pl_merge_perc = ac_pl_merge.groupby(['activity_category','outcome'])['act_char_9', 'act_char_10'].count().reset_index()\n",
    "ac_pl_merge_perc[]"
   ]
  },
  {
   "cell_type": "code",
   "execution_count": null,
   "metadata": {},
   "outputs": [],
   "source": [
    "# ac_pl_merge_perc['percentage'] = ac_pl_merge_perc\n",
    "new_col=[]\n",
    "if "
   ]
  },
  {
   "cell_type": "code",
   "execution_count": null,
   "metadata": {},
   "outputs": [],
   "source": [
    "ac_pl_merge.outcome.value_counts()"
   ]
  },
  {
   "cell_type": "code",
   "execution_count": null,
   "metadata": {},
   "outputs": [],
   "source": []
  },
  {
   "cell_type": "code",
   "execution_count": 115,
   "metadata": {},
   "outputs": [
    {
     "data": {
      "text/html": [
       "<div>\n",
       "<style scoped>\n",
       "    .dataframe tbody tr th:only-of-type {\n",
       "        vertical-align: middle;\n",
       "    }\n",
       "\n",
       "    .dataframe tbody tr th {\n",
       "        vertical-align: top;\n",
       "    }\n",
       "\n",
       "    .dataframe thead th {\n",
       "        text-align: right;\n",
       "    }\n",
       "</style>\n",
       "<table border=\"1\" class=\"dataframe\">\n",
       "  <thead>\n",
       "    <tr style=\"text-align: right;\">\n",
       "      <th></th>\n",
       "      <th>activity_category</th>\n",
       "      <th>outcome</th>\n",
       "      <th>count</th>\n",
       "    </tr>\n",
       "  </thead>\n",
       "  <tbody>\n",
       "    <tr>\n",
       "      <td>0</td>\n",
       "      <td>type 1</td>\n",
       "      <td>0</td>\n",
       "      <td>92784</td>\n",
       "    </tr>\n",
       "    <tr>\n",
       "      <td>1</td>\n",
       "      <td>type 1</td>\n",
       "      <td>1</td>\n",
       "      <td>64831</td>\n",
       "    </tr>\n",
       "    <tr>\n",
       "      <td>2</td>\n",
       "      <td>type 2</td>\n",
       "      <td>0</td>\n",
       "      <td>443002</td>\n",
       "    </tr>\n",
       "    <tr>\n",
       "      <td>3</td>\n",
       "      <td>type 2</td>\n",
       "      <td>1</td>\n",
       "      <td>461681</td>\n",
       "    </tr>\n",
       "    <tr>\n",
       "      <td>4</td>\n",
       "      <td>type 3</td>\n",
       "      <td>0</td>\n",
       "      <td>321202</td>\n",
       "    </tr>\n",
       "    <tr>\n",
       "      <td>5</td>\n",
       "      <td>type 3</td>\n",
       "      <td>1</td>\n",
       "      <td>108206</td>\n",
       "    </tr>\n",
       "    <tr>\n",
       "      <td>6</td>\n",
       "      <td>type 4</td>\n",
       "      <td>0</td>\n",
       "      <td>105972</td>\n",
       "    </tr>\n",
       "    <tr>\n",
       "      <td>7</td>\n",
       "      <td>type 4</td>\n",
       "      <td>1</td>\n",
       "      <td>101493</td>\n",
       "    </tr>\n",
       "    <tr>\n",
       "      <td>8</td>\n",
       "      <td>type 5</td>\n",
       "      <td>0</td>\n",
       "      <td>255050</td>\n",
       "    </tr>\n",
       "    <tr>\n",
       "      <td>9</td>\n",
       "      <td>type 5</td>\n",
       "      <td>1</td>\n",
       "      <td>235660</td>\n",
       "    </tr>\n",
       "    <tr>\n",
       "      <td>10</td>\n",
       "      <td>type 6</td>\n",
       "      <td>0</td>\n",
       "      <td>1889</td>\n",
       "    </tr>\n",
       "    <tr>\n",
       "      <td>11</td>\n",
       "      <td>type 6</td>\n",
       "      <td>1</td>\n",
       "      <td>2364</td>\n",
       "    </tr>\n",
       "    <tr>\n",
       "      <td>12</td>\n",
       "      <td>type 7</td>\n",
       "      <td>0</td>\n",
       "      <td>1895</td>\n",
       "    </tr>\n",
       "    <tr>\n",
       "      <td>13</td>\n",
       "      <td>type 7</td>\n",
       "      <td>1</td>\n",
       "      <td>1262</td>\n",
       "    </tr>\n",
       "  </tbody>\n",
       "</table>\n",
       "</div>"
      ],
      "text/plain": [
       "   activity_category  outcome   count\n",
       "0             type 1        0   92784\n",
       "1             type 1        1   64831\n",
       "2             type 2        0  443002\n",
       "3             type 2        1  461681\n",
       "4             type 3        0  321202\n",
       "5             type 3        1  108206\n",
       "6             type 4        0  105972\n",
       "7             type 4        1  101493\n",
       "8             type 5        0  255050\n",
       "9             type 5        1  235660\n",
       "10            type 6        0    1889\n",
       "11            type 6        1    2364\n",
       "12            type 7        0    1895\n",
       "13            type 7        1    1262"
      ]
     },
     "execution_count": 115,
     "metadata": {},
     "output_type": "execute_result"
    }
   ],
   "source": [
    "type_outcome = ac_pl_merge.groupby(['activity_category','outcome'])['people_id'].count().reset_index()\n",
    "type_outcome.columns=['activity_category','outcome','count']\n",
    "type_outcome"
   ]
  },
  {
   "cell_type": "code",
   "execution_count": null,
   "metadata": {},
   "outputs": [],
   "source": []
  },
  {
   "cell_type": "markdown",
   "metadata": {},
   "source": [
    "## Hypothesis Testings "
   ]
  },
  {
   "cell_type": "markdown",
   "metadata": {},
   "source": [
    "H0: There is no difference in the mean of pl_char_38 with respect to  postive outcomes(business value) and no outcome \n",
    "H1: There is a difference in  the mean of pl_char_38 with respec to  postive outcomes(business value) and no outcome (Claim)"
   ]
  },
  {
   "cell_type": "code",
   "execution_count": 112,
   "metadata": {},
   "outputs": [
    {
     "data": {
      "text/plain": [
       "Ttest_indResult(statistic=-1446.7458801234332, pvalue=0.0)"
      ]
     },
     "execution_count": 112,
     "metadata": {},
     "output_type": "execute_result"
    }
   ],
   "source": [
    "ac_pl_merge_0 = ac_pl_merge['outcome'] == 0\n",
    "ac_pl_merge_1 = ac_pl_merge['outcome'] == 1\n",
    "ac_pl_merge[ac_pl_merge_1].columns\n",
    "stats.ttest_ind(ac_pl_merge[ac_pl_merge_0]['pl_char_38'], ac_pl_merge[ac_pl_merge_1]['pl_char_38'], equal_var=False)"
   ]
  },
  {
   "cell_type": "code",
   "execution_count": null,
   "metadata": {},
   "outputs": [],
   "source": []
  },
  {
   "cell_type": "markdown",
   "metadata": {},
   "source": [
    "Decision: There is enough evidance to reject the null hypothesis, that there is no difference in the mean of pl_char_38 with respect to  postive outcomes(business value) and no outcome"
   ]
  },
  {
   "cell_type": "code",
   "execution_count": 111,
   "metadata": {},
   "outputs": [
    {
     "data": {
      "text/plain": [
       "Ttest_indResult(statistic=-433.34072072117186, pvalue=0.0)"
      ]
     },
     "execution_count": 111,
     "metadata": {},
     "output_type": "execute_result"
    }
   ],
   "source": [
    "stats.ttest_ind(ac_pl_merge[ac_pl_merge_0]['pl_char_37'], ac_pl_merge[ac_pl_merge_1]['pl_char_37'], equal_var=False)"
   ]
  },
  {
   "cell_type": "code",
   "execution_count": 113,
   "metadata": {},
   "outputs": [
    {
     "data": {
      "image/png": "[encoded data removed]",
      "text/plain": [
       "<Figure size 432x288 with 1 Axes>"
      ]
     },
     "metadata": {},
     "output_type": "display_data"
    }
   ],
   "source": [
    "ax=ac_pl_merge.outcome.value_counts().plot(kind='bar', color='red')\n",
    "totals = []\n",
    "for i in ax.patches:\n",
    "    totals.append(i.get_height())\n",
    "total = sum(totals)\n",
    "\n",
    "for i in ax.patches:\n",
    "    ax.text(i.get_x()-.0, i.get_height()+5, \\\n",
    "            str(round((i.get_height()/total)*100, 2))+'%', fontsize=15,\n",
    "                color='blue')"
   ]
  },
  {
   "cell_type": "code",
   "execution_count": null,
   "metadata": {},
   "outputs": [],
   "source": []
  },
  {
   "cell_type": "code",
   "execution_count": 116,
   "metadata": {},
   "outputs": [
    {
     "data": {
      "text/plain": [
       "<matplotlib.axes._subplots.AxesSubplot at 0x8c8052be48>"
      ]
     },
     "execution_count": 116,
     "metadata": {},
     "output_type": "execute_result"
    },
    {
     "data": {
      "image/png": "[encoded data removed]",
      "text/plain": [
       "<Figure size 720x360 with 1 Axes>"
      ]
     },
     "metadata": {},
     "output_type": "display_data"
    }
   ],
   "source": [
    "# ac.groupby(['activity_category','outcome'])['people_id'].count().reset_index().plot(kind='bar', stacked=True)\n",
    "# ac.groupby(['activity_category'])['outcome'].count().reset_index().plot(kind='bar')\n",
    "plt.figure(figsize=(10,5))\n",
    "sns.barplot('activity_category', 'count', data=type_outcome, ci=False, hue='outcome')"
   ]
  },
  {
   "cell_type": "markdown",
   "metadata": {},
   "source": [
    "## Insight:"
   ]
  },
  {
   "cell_type": "markdown",
   "metadata": {},
   "source": [
    "Type2 and type5 activities have higher probablity to give a positive outcome(business value) compared to remaining five activities. However, type3 activity has the highest probablity of giving a negative outcome(business value). "
   ]
  },
  {
   "cell_type": "code",
   "execution_count": 117,
   "metadata": {},
   "outputs": [
    {
     "data": {
      "text/plain": [
       "1    461681\n",
       "0    443002\n",
       "Name: outcome, dtype: int64"
      ]
     },
     "execution_count": 117,
     "metadata": {},
     "output_type": "execute_result"
    }
   ],
   "source": [
    "ac_pl_merge['activity_category'].value_counts()\n",
    "ac_pl_merge_type2 = ac_pl_merge[ac_pl_merge['activity_category'] == 'type 2']\n",
    "ac_pl_merge_type2.outcome.value_counts()"
   ]
  },
  {
   "cell_type": "code",
   "execution_count": null,
   "metadata": {},
   "outputs": [],
   "source": [
    "ac_pl_merge_type2.outcome.plot(kind='bar')"
   ]
  },
  {
   "cell_type": "code",
   "execution_count": null,
   "metadata": {},
   "outputs": [],
   "source": [
    "# plt.figure(figsize=(10,5))\n",
    "# sns.countplot('activity_category', data=ac_pl_merge, hue='outcome')"
   ]
  },
  {
   "cell_type": "code",
   "execution_count": null,
   "metadata": {},
   "outputs": [],
   "source": [
    "# sns.barplot('activity_category', 'people_id', data=type_outcome, ci=False,  hue='outcome',stacked=True)\n",
    "# type_outcome.plot(kind='bar', stacked=True)\n",
    "plt.figure(figsize=(10,5))\n",
    "sns.barplot('outcome', 'count', data=type_outcome, ci=False, hue='activity_category')"
   ]
  },
  {
   "cell_type": "code",
   "execution_count": null,
   "metadata": {},
   "outputs": [],
   "source": [
    "# ac_pl_merge.groupby(['activity_category','outcome'])['act_char_1',\n",
    "#        'act_char_2', 'act_char_3', 'act_char_4', 'act_char_5', 'act_char_6', 'act_char_7', 'act_char_8',\n",
    "#        'act_char_9', 'act_char_10'].count()"
   ]
  },
  {
   "cell_type": "code",
   "execution_count": null,
   "metadata": {},
   "outputs": [],
   "source": [
    "pl.head(1)"
   ]
  },
  {
   "cell_type": "code",
   "execution_count": null,
   "metadata": {},
   "outputs": [],
   "source": [
    "# # ac[ac.people_id.value_counts().head(32).reset_index()['index']]\n",
    "# repeated_customer=ac_pl_merge.people_id.value_counts().head(500).reset_index()\n",
    "# # ac.loc[ac.people_id == ac[ac.people_id.value_counts().head(32).reset_index()['index']]]\n",
    "# # mask1= ac[ac['people_id'] == ac.people_id.value_counts().head(32).reset_index().head(1)['index']]\n",
    "# # ac.loc[ac.people_id == ac.people_id.value_counts().head(32).reset_index().head(1)['index'],:]\n",
    "# repeated_customer.people_id.sum()\n",
    "# # for i in mask:\n",
    "# #     if i in ac['people_id']:\n",
    "# #         print(ac[i])\n",
    "# ac_pl_merge.loc[ac_pl_merge.people_id == \"ppl_247868\",]['outcome'].value_counts()"
   ]
  },
  {
   "cell_type": "code",
   "execution_count": null,
   "metadata": {},
   "outputs": [],
   "source": [
    "plt.figure(figsize=(7,5))\n",
    "sns.boxplot('outcome', 'pl_char_38', data=ac_pl_merge, hue='outcome', orient='v')"
   ]
  },
  {
   "cell_type": "code",
   "execution_count": null,
   "metadata": {},
   "outputs": [],
   "source": [
    "import statsmodels.api as sm \n",
    "sm.qqplot(ac_pl_merge['pl_char_38']) \n"
   ]
  },
  {
   "cell_type": "code",
   "execution_count": null,
   "metadata": {},
   "outputs": [],
   "source": [
    "# customer_count = ac_pl_merge.people_id.value_counts().reset_index()\n",
    "# customer_count.columns=['cust_id', 'No_act']\n",
    "# customer_count.shape[0]\n",
    "# one_time_customer = customer_count[customer_count['No_act'] < 2].count()\n",
    "# repeated_customer = customer_count[customer_count['No_act'] > 1].count()\n",
    "# one_time_customer, repeated_customer"
   ]
  },
  {
   "cell_type": "code",
   "execution_count": null,
   "metadata": {},
   "outputs": [],
   "source": []
  },
  {
   "cell_type": "code",
   "execution_count": null,
   "metadata": {},
   "outputs": [],
   "source": [
    "# pl_month_count = ac_pl_merge.pl_date.dt.month.value_counts().sort_values().reset_index().sort_values('index')\n",
    "# pl_month_count.columns=['month', 'count']\n",
    "# sns.barplot('month', 'count', data=pl_month_count)"
   ]
  },
  {
   "cell_type": "code",
   "execution_count": null,
   "metadata": {},
   "outputs": [],
   "source": [
    "# ac_month_count = ac_pl_merge.act_date.dt.month.value_counts().sort_values().reset_index().sort_values('index')\n",
    "# ac_month_count.columns=['month', 'count']\n",
    "# sns.barplot('month', 'count', data=ac_month_count)"
   ]
  },
  {
   "cell_type": "code",
   "execution_count": null,
   "metadata": {},
   "outputs": [],
   "source": [
    "df_outcome_1=ac_pl_merge[ac_pl_merge['outcome'] == 1]\n",
    "df_outcome_1.shape\n",
    "df_outcome_0=ac_pl_merge[ac_pl_merge['outcome'] == 0]\n",
    "df_outcome_0.shape\n"
   ]
  },
  {
   "cell_type": "code",
   "execution_count": null,
   "metadata": {},
   "outputs": [],
   "source": [
    "df_outcome_1_month_count = df_outcome_1.act_date.dt.month.value_counts().sort_values().reset_index().sort_values('index')\n",
    "df_outcome_1_month_count.columns=['month', 'count']\n",
    "month_map = {1:'Jan', 2:'Feb', 3:'Mar', 4:'Apr', 5:'May', 6:'Jun', \n",
    "              7:'Jul', 8:'Aug', 9:'Sep', 10:'Oct', 11:'Nov', 12:'Dec'}\n",
    "plt.figure(figsize=(30,7))\n",
    "df_outcome_1_month_count.month = df_outcome_1_month_count.month.replace(month_map)\n",
    "sns.barplot('month', 'count', data=df_outcome_1_month_count)\n",
    "plt.title('Successfull Outcome by Month')"
   ]
  },
  {
   "cell_type": "code",
   "execution_count": null,
   "metadata": {},
   "outputs": [],
   "source": [
    "df_outcome_0_month_count = df_outcome_0.act_date.dt.month.value_counts().sort_values().reset_index().sort_values('index')\n",
    "df_outcome_0_month_count.columns=['month', 'count']\n",
    "month_map = {1:'Jan', 2:'Feb', 3:'Mar', 4:'Apr', 5:'May', 6:'Jun', \n",
    "              7:'Jul', 8:'Aug', 9:'Sep', 10:'Oct', 11:'Nov', 12:'Dec'}\n",
    "plt.figure(figsize=(30,7))\n",
    "df_outcome_0_month_count.month = df_outcome_0_month_count.month.replace(month_map)\n",
    "sns.barplot('month', 'count', data=df_outcome_0_month_count)\n",
    "plt.title('Failed Outcome by Month')"
   ]
  },
  {
   "cell_type": "code",
   "execution_count": null,
   "metadata": {},
   "outputs": [],
   "source": [
    "df_outcome_weekday_count = ac_pl_merge.act_date.dt.weekday.value_counts().sort_values().reset_index().sort_values('index') # Sunday is 0.\n",
    "df_outcome_weekday_count.columns=['weekday', 'count']\n",
    "# df_outcome_1_weekday_count.weekday.replace(0,'Monday')\n",
    "weekday_map = {0:'Sunday', 1:'Monday', 2:'Tuesday', 3:'Wednesday', 4:'Thursday', 5:'Friday', 6:'Saturday'}\n",
    "df_outcome_weekday_count.weekday = df_outcome_weekday_count.weekday.replace(weekday_map)\n",
    "plt.figure(figsize=(15,7))\n",
    "sns.barplot('weekday', 'count', data=df_outcome_weekday_count)\n",
    "plt.xticks(rotation = 45)\n",
    "plt.title('Outcome by Weekday')"
   ]
  },
  {
   "cell_type": "code",
   "execution_count": null,
   "metadata": {},
   "outputs": [],
   "source": [
    "df_outcome_1_weekday_count = df_outcome_1.act_date.dt.weekday.value_counts().sort_values().reset_index().sort_values('index') # Sunday is 0.\n",
    "df_outcome_1_weekday_count.columns=['weekday', 'count']\n",
    "# df_outcome_1_weekday_count.weekday.replace(0,'Monday')\n",
    "weekday_map = {0:'Sunday', 1:'Monday', 2:'Tuesday', 3:'Wednesday', 4:'Thursday', 5:'Friday', 6:'Saturday'}\n",
    "df_outcome_1_weekday_count.weekday = df_outcome_1_weekday_count.weekday.replace(weekday_map)\n",
    "plt.figure(figsize=(15,7))\n",
    "sns.barplot('weekday', 'count', data=df_outcome_1_weekday_count)\n",
    "plt.xticks(rotation = 45)\n",
    "plt.title('Successfull Outcome by Weekday')\n",
    "# df_outcome_1_weekday_count"
   ]
  },
  {
   "cell_type": "code",
   "execution_count": null,
   "metadata": {},
   "outputs": [],
   "source": [
    "df_outcome_0_weekday_count = df_outcome_0.act_date.dt.weekday.value_counts().sort_values().reset_index().sort_values('index') # Sunday is 0.\n",
    "df_outcome_0_weekday_count.columns=['weekday', 'count']\n",
    "# df_outcome_1_weekday_count.weekday.replace(0,'Monday')\n",
    "weekday_map = {0:'Sunday', 1:'Monday', 2:'Tuesday', 3:'Wednesday', 4:'Thursday', 5:'Friday', 6:'Saturday'}\n",
    "df_outcome_0_weekday_count.weekday = df_outcome_0_weekday_count.weekday.replace(weekday_map)\n",
    "plt.figure(figsize=(15,7))\n",
    "sns.barplot('weekday', 'count', data=df_outcome_0_weekday_count)\n",
    "plt.xticks(rotation = 45)\n",
    "plt.title('Failed Outcome by Weekday')"
   ]
  },
  {
   "cell_type": "code",
   "execution_count": null,
   "metadata": {},
   "outputs": [],
   "source": [
    "# ac.groupby(['activity_category','outcome']).count()\n",
    "ac_pl_merge.pl_date.dt.year.value_counts().sort_values()\n",
    "# pl.date.dt.year.value_counts().sort_values().plot(kind='bar')\n",
    "ac_pl_merge.outcome.value_counts()"
   ]
  },
  {
   "cell_type": "code",
   "execution_count": null,
   "metadata": {},
   "outputs": [],
   "source": [
    "# ac.groupby(['outcome'])['char_1',\n",
    "#        'char_2', 'char_3', 'char_4', 'char_5', 'char_6', 'char_7', 'char_8',\n",
    "# #        'char_9', 'char_10'].count().plot(kind='bar', stacked=True)\n",
    "# ac.date.dt.year.value_counts().reset_index().plot(kind='bar')\n",
    "ac_date_year=ac_pl_merge.act_date.dt.year.value_counts().reset_index()\n",
    "sns.barplot('index', 'act_date',data=ac_date_year)\n",
    "plt.xlabel('Year')\n",
    "plt.ylabel('Count')\n",
    "plt.title('Activities Count by Year')"
   ]
  },
  {
   "cell_type": "code",
   "execution_count": null,
   "metadata": {},
   "outputs": [],
   "source": [
    "ac_pl_merge.act_date.max()"
   ]
  },
  {
   "cell_type": "code",
   "execution_count": null,
   "metadata": {},
   "outputs": [],
   "source": [
    "# ac_date_year=ac.date.dt.year.value_counts().reset_index()\n",
    "sns.countplot(ac_pl_merge['act_date'].dt.year, data=ac_pl_merge, hue='outcome')\n",
    "# sns.barplot('index', 'date',data=ac_date_year)\n",
    "plt.xlabel('Year')\n",
    "plt.ylabel('Count')\n",
    "plt.title('Activities Count by Year')"
   ]
  },
  {
   "cell_type": "markdown",
   "metadata": {},
   "source": [
    "## Hypothesis Testings "
   ]
  },
  {
   "cell_type": "code",
   "execution_count": null,
   "metadata": {},
   "outputs": [],
   "source": [
    "H0: There is no difference in the mean of pl_char_38 with respect to  successfull outcomes(business value) between year 2022 and year 2023.\n",
    "H1: There is difference in the mean of pl_char_38 with respect to  successful outcomes(business value) between year 2022 and year 2023."
   ]
  },
  {
   "cell_type": "code",
   "execution_count": null,
   "metadata": {},
   "outputs": [],
   "source": [
    "ac_pl_merge_2022 = ac_pl_merge[ac_pl_merge['act_date'].dt.year == 2022]  \n",
    "ac_pl_merge_2023 = ac_pl_merge[ac_pl_merge['act_date'].dt.year == 2023]  \n",
    "stats.ttest_ind(ac_pl_merge_2022[ac_pl_merge_2022['outcome'] == 1]['pl_char_38'], ac_pl_merge_2023[ac_pl_merge_2023['outcome'] == 1]['pl_char_38'], equal_var=False)"
   ]
  },
  {
   "cell_type": "markdown",
   "metadata": {},
   "source": [
    "Decision: There is enough evidance to reject the null hypothesis, that there is no difference in the mean of pl_char_38 with respect to  postive outcomes(business value) between year 2022 and year 2023"
   ]
  },
  {
   "cell_type": "code",
   "execution_count": null,
   "metadata": {},
   "outputs": [],
   "source": [
    "ac_pl_merge.columns"
   ]
  },
  {
   "cell_type": "code",
   "execution_count": null,
   "metadata": {},
   "outputs": [],
   "source": [
    "# ac_pl_merge.pl_date\n",
    "plt.figure(figsize=(10,5))\n",
    "sns.countplot(ac_pl_merge['pl_date'].dt.year, data=ac_pl_merge)\n",
    "# sns.barplot('index', 'date',data=ac_date_year)\n",
    "plt.xlabel('Year')\n",
    "plt.ylabel('Number')\n",
    "plt.title('Customer Regestration by Year')"
   ]
  },
  {
   "cell_type": "markdown",
   "metadata": {},
   "source": [
    "## Insight"
   ]
  },
  {
   "cell_type": "markdown",
   "metadata": {},
   "source": [
    "There has been increase in the number of registration for the years 20, 21, 22. Since, there is no complete data for 23, therefore, we can infer that it wil be a growing number. "
   ]
  },
  {
   "cell_type": "code",
   "execution_count": null,
   "metadata": {},
   "outputs": [],
   "source": [
    "plt.figure(figsize=(10,5))\n",
    "sns.countplot(ac_pl_merge['pl_date'].dt.year, data=ac_pl_merge, hue='outcome')\n",
    "# sns.barplot('index', 'date',data=ac_date_year)\n",
    "plt.xlabel('Year')\n",
    "plt.ylabel('Number')\n",
    "plt.title('People Regestration by Year')"
   ]
  },
  {
   "cell_type": "code",
   "execution_count": null,
   "metadata": {},
   "outputs": [],
   "source": [
    "ac_pl_merge.pl_date.max()"
   ]
  },
  {
   "cell_type": "code",
   "execution_count": null,
   "metadata": {},
   "outputs": [],
   "source": []
  },
  {
   "cell_type": "code",
   "execution_count": null,
   "metadata": {},
   "outputs": [],
   "source": [
    "sns.countplot('act_char_8', data=ac_pl_merge, hue='outcome')"
   ]
  },
  {
   "cell_type": "code",
   "execution_count": null,
   "metadata": {},
   "outputs": [],
   "source": [
    "ac_pl_merge.act_char_6.value_counts()"
   ]
  },
  {
   "cell_type": "code",
   "execution_count": null,
   "metadata": {},
   "outputs": [],
   "source": [
    "# plt.stackplot('outcome','pl_char_38',data=ac_pl_merge)"
   ]
  },
  {
   "cell_type": "code",
   "execution_count": null,
   "metadata": {},
   "outputs": [],
   "source": [
    "ac_pl_merge_0 = ac_pl_merge['outcome'] == 0\n",
    "ac_pl_merge_1 = ac_pl_merge['outcome'] == 1\n",
    "ac_pl_merge[ac_pl_merge_1].columns"
   ]
  },
  {
   "cell_type": "code",
   "execution_count": null,
   "metadata": {},
   "outputs": [],
   "source": [
    "stats.ttest_ind(ac_pl_merge[ac_pl_merge_0]['pl_char_38'], ac_pl_merge[ac_pl_merge_1]['pl_char_38'], equal_var=False)"
   ]
  },
  {
   "cell_type": "code",
   "execution_count": null,
   "metadata": {},
   "outputs": [],
   "source": [
    "stats.ttest_ind(ac_pl_merge[ac_pl_merge_0]['pl_char_37'], ac_pl_merge[ac_pl_merge_1]['pl_char_37'], equal_var=False)"
   ]
  },
  {
   "cell_type": "code",
   "execution_count": null,
   "metadata": {},
   "outputs": [],
   "source": [
    "# stats.ttest_ind(ac_pl_merge[ac_pl_merge_0]['activity_category'], ac_pl_merge[ac_pl_merge_1]['activity_category'], equal_var=False)"
   ]
  },
  {
   "cell_type": "code",
   "execution_count": null,
   "metadata": {},
   "outputs": [],
   "source": [
    "stats.ttest_ind(ac_pl_merge[ac_pl_merge_0]['activity_category'], ac_pl_merge[ac_pl_merge_1]['activity_category'], equal_var=False)"
   ]
  },
  {
   "cell_type": "code",
   "execution_count": null,
   "metadata": {},
   "outputs": [],
   "source": [
    "# ac_pl_merge_1 = ac_pl_merge['outcome'] == 1 & ac_pl_merge.act_date.dt.year\n"
   ]
  },
  {
   "cell_type": "code",
   "execution_count": null,
   "metadata": {},
   "outputs": [],
   "source": [
    "ac_pl_merge_1_2022 = ac_pl_merge[ac_pl_merge_1]['act_date'].dt.year\n",
    "# ac_pl_merge_1_2023 = ac_pl_merge[ac_pl_merge_1]['act_date'].dt.year == 2023\n",
    "# # ac_pl_merge.loc[ac_pl_merge_1_2022, :]\n",
    "ac_pl_merge[ac_pl_merge_1]['act_date'].dt.year.reset_index()['act_date'].value_counts()"
   ]
  },
  {
   "cell_type": "code",
   "execution_count": null,
   "metadata": {},
   "outputs": [],
   "source": [
    "# ac_pl_merge[ac_pl_merge_1]['act_date'].dt.year.reset_index()['act_date'].value_counts().plot(kind='pie')\n",
    "sns.set(font_scale=2)\n",
    "plt.figure(figsize=(10,5))\n",
    "plt.pie(ac_pl_merge[ac_pl_merge_1]['act_date'].dt.year.reset_index()['act_date'].value_counts(),colors=[ '#4fb2aa', '#cb2800'], labels=['Year_2023','Year_2022'],autopct='%1.0f%%', explode=[0.05,0], rotatelabels=False)\n",
    "plt.title('Successfull Outcome')\n",
    "plt.figure(figsize=(10,5))"
   ]
  },
  {
   "cell_type": "code",
   "execution_count": null,
   "metadata": {},
   "outputs": [],
   "source": [
    "# ac_pl_merge[ac_pl_merge_0]['act_date'].dt.year.reset_index()['act_date'].value_counts().plot(kind='pie')\n",
    "sns.set(font_scale=2)\n",
    "plt.figure(figsize=(10,5))\n",
    "plt.pie(ac_pl_merge[ac_pl_merge_0]['act_date'].dt.year.reset_index()['act_date'].value_counts(),colors=[ '#4fb2aa', '#cb2800'], labels=['Year_2023','Year_2022'],autopct='%1.0f%%', explode=[0.05,0], rotatelabels=False)\n",
    "plt.title('Failed Outcome')\n",
    "plt.figure(figsize=(10,5))"
   ]
  },
  {
   "cell_type": "code",
   "execution_count": null,
   "metadata": {},
   "outputs": [],
   "source": []
  },
  {
   "cell_type": "code",
   "execution_count": null,
   "metadata": {},
   "outputs": [],
   "source": []
  },
  {
   "cell_type": "code",
   "execution_count": null,
   "metadata": {},
   "outputs": [],
   "source": [
    "ac_pl_merge[ac_pl_merge_1]['act_date'].dt.year.value_counts()"
   ]
  },
  {
   "cell_type": "code",
   "execution_count": null,
   "metadata": {},
   "outputs": [],
   "source": [
    "# ac_pl_merge[ac_pl_merge_1]['act_date'].dt.year == 2022"
   ]
  },
  {
   "cell_type": "code",
   "execution_count": null,
   "metadata": {},
   "outputs": [],
   "source": [
    "# ac_pl_merge[ac_pl_merge['outcome'] == 1]['act_date'].dt.year == 2023"
   ]
  },
  {
   "cell_type": "code",
   "execution_count": null,
   "metadata": {},
   "outputs": [],
   "source": [
    "\n",
    "# &  ac_pl_merge['outcome'] == 1\n",
    "# ac_pl_merge_2023.shape"
   ]
  },
  {
   "cell_type": "code",
   "execution_count": null,
   "metadata": {},
   "outputs": [],
   "source": []
  },
  {
   "cell_type": "code",
   "execution_count": null,
   "metadata": {},
   "outputs": [],
   "source": []
  },
  {
   "cell_type": "code",
   "execution_count": null,
   "metadata": {},
   "outputs": [],
   "source": [
    "ac_pl_merge.columns"
   ]
  },
  {
   "cell_type": "code",
   "execution_count": null,
   "metadata": {},
   "outputs": [],
   "source": [
    "# sns.barplot(ac['date'].dt.year, 'people_id', data=ac, hue='outcome')"
   ]
  },
  {
   "cell_type": "code",
   "execution_count": null,
   "metadata": {},
   "outputs": [],
   "source": [
    "ac.groupby(['outcome','activity_category'])['char_1',\n",
    "       'char_2', 'char_3', 'char_4', 'char_5', 'char_6', 'char_7', 'char_8',\n",
    "#        'char_9', 'char_10'].count().plot(kind='bar', stacked=True)"
   ]
  },
  {
   "cell_type": "code",
   "execution_count": null,
   "metadata": {},
   "outputs": [],
   "source": [
    "ac.activity_category.unique()"
   ]
  },
  {
   "cell_type": "code",
   "execution_count": null,
   "metadata": {},
   "outputs": [],
   "source": [
    "ac.char_10.nunique()"
   ]
  },
  {
   "cell_type": "code",
   "execution_count": null,
   "metadata": {},
   "outputs": [],
   "source": [
    "for i in ac:\n",
    "    print('No. of Null', i,ac[i].isnull().sum())"
   ]
  }
 ],
 "metadata": {
  "kernelspec": {
   "display_name": "Python 3",
   "language": "python",
   "name": "python3"
  },
  "language_info": {
   "codemirror_mode": {
    "name": "ipython",
    "version": 3
   },
   "file_extension": ".py",
   "mimetype": "text/x-python",
   "name": "python",
   "nbconvert_exporter": "python",
   "pygments_lexer": "ipython3",
   "version": "3.7.4"
  }
 },
 "nbformat": 4,
 "nbformat_minor": 4
}
