{
 "cells": [
  {
   "cell_type": "code",
   "execution_count": 1,
   "metadata": {},
   "outputs": [
    {
     "data": {
      "text/html": [
       "<div>\n",
       "<style scoped>\n",
       "    .dataframe tbody tr th:only-of-type {\n",
       "        vertical-align: middle;\n",
       "    }\n",
       "\n",
       "    .dataframe tbody tr th {\n",
       "        vertical-align: top;\n",
       "    }\n",
       "\n",
       "    .dataframe thead th {\n",
       "        text-align: right;\n",
       "    }\n",
       "</style>\n",
       "<table border=\"1\" class=\"dataframe\">\n",
       "  <thead>\n",
       "    <tr style=\"text-align: right;\">\n",
       "      <th></th>\n",
       "      <th>people_id</th>\n",
       "      <th>activity_id</th>\n",
       "      <th>act_date</th>\n",
       "      <th>activity_category</th>\n",
       "      <th>act_char_1</th>\n",
       "      <th>act_char_2</th>\n",
       "      <th>act_char_3</th>\n",
       "      <th>act_char_4</th>\n",
       "      <th>act_char_5</th>\n",
       "      <th>act_char_6</th>\n",
       "      <th>act_char_7</th>\n",
       "      <th>act_char_8</th>\n",
       "      <th>act_char_9</th>\n",
       "      <th>act_char_10</th>\n",
       "      <th>outcome</th>\n",
       "      <th>pl_char_1</th>\n",
       "      <th>group_1</th>\n",
       "      <th>pl_char_2</th>\n",
       "      <th>pl_date</th>\n",
       "      <th>pl_char_3</th>\n",
       "      <th>pl_char_4</th>\n",
       "      <th>pl_char_5</th>\n",
       "      <th>pl_char_6</th>\n",
       "      <th>pl_char_7</th>\n",
       "      <th>pl_char_8</th>\n",
       "      <th>pl_char_9</th>\n",
       "      <th>pl_char_10</th>\n",
       "      <th>pl_char_11</th>\n",
       "      <th>pl_char_12</th>\n",
       "      <th>pl_char_13</th>\n",
       "      <th>pl_char_14</th>\n",
       "      <th>pl_char_15</th>\n",
       "      <th>pl_char_16</th>\n",
       "      <th>pl_char_17</th>\n",
       "      <th>pl_char_18</th>\n",
       "      <th>pl_char_19</th>\n",
       "      <th>pl_char_20</th>\n",
       "      <th>pl_char_21</th>\n",
       "      <th>pl_char_22</th>\n",
       "      <th>pl_char_23</th>\n",
       "      <th>pl_char_24</th>\n",
       "      <th>pl_char_25</th>\n",
       "      <th>pl_char_26</th>\n",
       "      <th>pl_char_27</th>\n",
       "      <th>pl_char_28</th>\n",
       "      <th>pl_char_29</th>\n",
       "      <th>pl_char_30</th>\n",
       "      <th>pl_char_31</th>\n",
       "      <th>pl_char_32</th>\n",
       "      <th>pl_char_33</th>\n",
       "      <th>pl_char_34</th>\n",
       "      <th>pl_char_35</th>\n",
       "      <th>pl_char_36</th>\n",
       "      <th>pl_char_37</th>\n",
       "      <th>pl_char_38</th>\n",
       "    </tr>\n",
       "  </thead>\n",
       "  <tbody>\n",
       "    <tr>\n",
       "      <td>0</td>\n",
       "      <td>ppl_100</td>\n",
       "      <td>act2_1734928</td>\n",
       "      <td>2023-08-26</td>\n",
       "      <td>type 4</td>\n",
       "      <td>NaN</td>\n",
       "      <td>NaN</td>\n",
       "      <td>NaN</td>\n",
       "      <td>NaN</td>\n",
       "      <td>NaN</td>\n",
       "      <td>NaN</td>\n",
       "      <td>NaN</td>\n",
       "      <td>NaN</td>\n",
       "      <td>NaN</td>\n",
       "      <td>type 76</td>\n",
       "      <td>0</td>\n",
       "      <td>type 2</td>\n",
       "      <td>group 17304</td>\n",
       "      <td>type 2</td>\n",
       "      <td>2021-06-29</td>\n",
       "      <td>type 5</td>\n",
       "      <td>type 5</td>\n",
       "      <td>type 5</td>\n",
       "      <td>type 3</td>\n",
       "      <td>type 11</td>\n",
       "      <td>type 2</td>\n",
       "      <td>type 2</td>\n",
       "      <td>True</td>\n",
       "      <td>False</td>\n",
       "      <td>False</td>\n",
       "      <td>True</td>\n",
       "      <td>True</td>\n",
       "      <td>False</td>\n",
       "      <td>True</td>\n",
       "      <td>False</td>\n",
       "      <td>False</td>\n",
       "      <td>False</td>\n",
       "      <td>False</td>\n",
       "      <td>True</td>\n",
       "      <td>False</td>\n",
       "      <td>False</td>\n",
       "      <td>False</td>\n",
       "      <td>False</td>\n",
       "      <td>False</td>\n",
       "      <td>True</td>\n",
       "      <td>True</td>\n",
       "      <td>False</td>\n",
       "      <td>True</td>\n",
       "      <td>True</td>\n",
       "      <td>False</td>\n",
       "      <td>False</td>\n",
       "      <td>True</td>\n",
       "      <td>True</td>\n",
       "      <td>True</td>\n",
       "      <td>False</td>\n",
       "      <td>36</td>\n",
       "    </tr>\n",
       "    <tr>\n",
       "      <td>1</td>\n",
       "      <td>ppl_100</td>\n",
       "      <td>act2_2434093</td>\n",
       "      <td>2022-09-27</td>\n",
       "      <td>type 2</td>\n",
       "      <td>NaN</td>\n",
       "      <td>NaN</td>\n",
       "      <td>NaN</td>\n",
       "      <td>NaN</td>\n",
       "      <td>NaN</td>\n",
       "      <td>NaN</td>\n",
       "      <td>NaN</td>\n",
       "      <td>NaN</td>\n",
       "      <td>NaN</td>\n",
       "      <td>type 1</td>\n",
       "      <td>0</td>\n",
       "      <td>type 2</td>\n",
       "      <td>group 17304</td>\n",
       "      <td>type 2</td>\n",
       "      <td>2021-06-29</td>\n",
       "      <td>type 5</td>\n",
       "      <td>type 5</td>\n",
       "      <td>type 5</td>\n",
       "      <td>type 3</td>\n",
       "      <td>type 11</td>\n",
       "      <td>type 2</td>\n",
       "      <td>type 2</td>\n",
       "      <td>True</td>\n",
       "      <td>False</td>\n",
       "      <td>False</td>\n",
       "      <td>True</td>\n",
       "      <td>True</td>\n",
       "      <td>False</td>\n",
       "      <td>True</td>\n",
       "      <td>False</td>\n",
       "      <td>False</td>\n",
       "      <td>False</td>\n",
       "      <td>False</td>\n",
       "      <td>True</td>\n",
       "      <td>False</td>\n",
       "      <td>False</td>\n",
       "      <td>False</td>\n",
       "      <td>False</td>\n",
       "      <td>False</td>\n",
       "      <td>True</td>\n",
       "      <td>True</td>\n",
       "      <td>False</td>\n",
       "      <td>True</td>\n",
       "      <td>True</td>\n",
       "      <td>False</td>\n",
       "      <td>False</td>\n",
       "      <td>True</td>\n",
       "      <td>True</td>\n",
       "      <td>True</td>\n",
       "      <td>False</td>\n",
       "      <td>36</td>\n",
       "    </tr>\n",
       "    <tr>\n",
       "      <td>2</td>\n",
       "      <td>ppl_100</td>\n",
       "      <td>act2_3404049</td>\n",
       "      <td>2022-09-27</td>\n",
       "      <td>type 2</td>\n",
       "      <td>NaN</td>\n",
       "      <td>NaN</td>\n",
       "      <td>NaN</td>\n",
       "      <td>NaN</td>\n",
       "      <td>NaN</td>\n",
       "      <td>NaN</td>\n",
       "      <td>NaN</td>\n",
       "      <td>NaN</td>\n",
       "      <td>NaN</td>\n",
       "      <td>type 1</td>\n",
       "      <td>0</td>\n",
       "      <td>type 2</td>\n",
       "      <td>group 17304</td>\n",
       "      <td>type 2</td>\n",
       "      <td>2021-06-29</td>\n",
       "      <td>type 5</td>\n",
       "      <td>type 5</td>\n",
       "      <td>type 5</td>\n",
       "      <td>type 3</td>\n",
       "      <td>type 11</td>\n",
       "      <td>type 2</td>\n",
       "      <td>type 2</td>\n",
       "      <td>True</td>\n",
       "      <td>False</td>\n",
       "      <td>False</td>\n",
       "      <td>True</td>\n",
       "      <td>True</td>\n",
       "      <td>False</td>\n",
       "      <td>True</td>\n",
       "      <td>False</td>\n",
       "      <td>False</td>\n",
       "      <td>False</td>\n",
       "      <td>False</td>\n",
       "      <td>True</td>\n",
       "      <td>False</td>\n",
       "      <td>False</td>\n",
       "      <td>False</td>\n",
       "      <td>False</td>\n",
       "      <td>False</td>\n",
       "      <td>True</td>\n",
       "      <td>True</td>\n",
       "      <td>False</td>\n",
       "      <td>True</td>\n",
       "      <td>True</td>\n",
       "      <td>False</td>\n",
       "      <td>False</td>\n",
       "      <td>True</td>\n",
       "      <td>True</td>\n",
       "      <td>True</td>\n",
       "      <td>False</td>\n",
       "      <td>36</td>\n",
       "    </tr>\n",
       "    <tr>\n",
       "      <td>3</td>\n",
       "      <td>ppl_100</td>\n",
       "      <td>act2_3651215</td>\n",
       "      <td>2023-08-04</td>\n",
       "      <td>type 2</td>\n",
       "      <td>NaN</td>\n",
       "      <td>NaN</td>\n",
       "      <td>NaN</td>\n",
       "      <td>NaN</td>\n",
       "      <td>NaN</td>\n",
       "      <td>NaN</td>\n",
       "      <td>NaN</td>\n",
       "      <td>NaN</td>\n",
       "      <td>NaN</td>\n",
       "      <td>type 1</td>\n",
       "      <td>0</td>\n",
       "      <td>type 2</td>\n",
       "      <td>group 17304</td>\n",
       "      <td>type 2</td>\n",
       "      <td>2021-06-29</td>\n",
       "      <td>type 5</td>\n",
       "      <td>type 5</td>\n",
       "      <td>type 5</td>\n",
       "      <td>type 3</td>\n",
       "      <td>type 11</td>\n",
       "      <td>type 2</td>\n",
       "      <td>type 2</td>\n",
       "      <td>True</td>\n",
       "      <td>False</td>\n",
       "      <td>False</td>\n",
       "      <td>True</td>\n",
       "      <td>True</td>\n",
       "      <td>False</td>\n",
       "      <td>True</td>\n",
       "      <td>False</td>\n",
       "      <td>False</td>\n",
       "      <td>False</td>\n",
       "      <td>False</td>\n",
       "      <td>True</td>\n",
       "      <td>False</td>\n",
       "      <td>False</td>\n",
       "      <td>False</td>\n",
       "      <td>False</td>\n",
       "      <td>False</td>\n",
       "      <td>True</td>\n",
       "      <td>True</td>\n",
       "      <td>False</td>\n",
       "      <td>True</td>\n",
       "      <td>True</td>\n",
       "      <td>False</td>\n",
       "      <td>False</td>\n",
       "      <td>True</td>\n",
       "      <td>True</td>\n",
       "      <td>True</td>\n",
       "      <td>False</td>\n",
       "      <td>36</td>\n",
       "    </tr>\n",
       "    <tr>\n",
       "      <td>4</td>\n",
       "      <td>ppl_100</td>\n",
       "      <td>act2_4109017</td>\n",
       "      <td>2023-08-26</td>\n",
       "      <td>type 2</td>\n",
       "      <td>NaN</td>\n",
       "      <td>NaN</td>\n",
       "      <td>NaN</td>\n",
       "      <td>NaN</td>\n",
       "      <td>NaN</td>\n",
       "      <td>NaN</td>\n",
       "      <td>NaN</td>\n",
       "      <td>NaN</td>\n",
       "      <td>NaN</td>\n",
       "      <td>type 1</td>\n",
       "      <td>0</td>\n",
       "      <td>type 2</td>\n",
       "      <td>group 17304</td>\n",
       "      <td>type 2</td>\n",
       "      <td>2021-06-29</td>\n",
       "      <td>type 5</td>\n",
       "      <td>type 5</td>\n",
       "      <td>type 5</td>\n",
       "      <td>type 3</td>\n",
       "      <td>type 11</td>\n",
       "      <td>type 2</td>\n",
       "      <td>type 2</td>\n",
       "      <td>True</td>\n",
       "      <td>False</td>\n",
       "      <td>False</td>\n",
       "      <td>True</td>\n",
       "      <td>True</td>\n",
       "      <td>False</td>\n",
       "      <td>True</td>\n",
       "      <td>False</td>\n",
       "      <td>False</td>\n",
       "      <td>False</td>\n",
       "      <td>False</td>\n",
       "      <td>True</td>\n",
       "      <td>False</td>\n",
       "      <td>False</td>\n",
       "      <td>False</td>\n",
       "      <td>False</td>\n",
       "      <td>False</td>\n",
       "      <td>True</td>\n",
       "      <td>True</td>\n",
       "      <td>False</td>\n",
       "      <td>True</td>\n",
       "      <td>True</td>\n",
       "      <td>False</td>\n",
       "      <td>False</td>\n",
       "      <td>True</td>\n",
       "      <td>True</td>\n",
       "      <td>True</td>\n",
       "      <td>False</td>\n",
       "      <td>36</td>\n",
       "    </tr>\n",
       "    <tr>\n",
       "      <td>5</td>\n",
       "      <td>ppl_100</td>\n",
       "      <td>act2_898576</td>\n",
       "      <td>2023-08-04</td>\n",
       "      <td>type 4</td>\n",
       "      <td>NaN</td>\n",
       "      <td>NaN</td>\n",
       "      <td>NaN</td>\n",
       "      <td>NaN</td>\n",
       "      <td>NaN</td>\n",
       "      <td>NaN</td>\n",
       "      <td>NaN</td>\n",
       "      <td>NaN</td>\n",
       "      <td>NaN</td>\n",
       "      <td>type 1727</td>\n",
       "      <td>0</td>\n",
       "      <td>type 2</td>\n",
       "      <td>group 17304</td>\n",
       "      <td>type 2</td>\n",
       "      <td>2021-06-29</td>\n",
       "      <td>type 5</td>\n",
       "      <td>type 5</td>\n",
       "      <td>type 5</td>\n",
       "      <td>type 3</td>\n",
       "      <td>type 11</td>\n",
       "      <td>type 2</td>\n",
       "      <td>type 2</td>\n",
       "      <td>True</td>\n",
       "      <td>False</td>\n",
       "      <td>False</td>\n",
       "      <td>True</td>\n",
       "      <td>True</td>\n",
       "      <td>False</td>\n",
       "      <td>True</td>\n",
       "      <td>False</td>\n",
       "      <td>False</td>\n",
       "      <td>False</td>\n",
       "      <td>False</td>\n",
       "      <td>True</td>\n",
       "      <td>False</td>\n",
       "      <td>False</td>\n",
       "      <td>False</td>\n",
       "      <td>False</td>\n",
       "      <td>False</td>\n",
       "      <td>True</td>\n",
       "      <td>True</td>\n",
       "      <td>False</td>\n",
       "      <td>True</td>\n",
       "      <td>True</td>\n",
       "      <td>False</td>\n",
       "      <td>False</td>\n",
       "      <td>True</td>\n",
       "      <td>True</td>\n",
       "      <td>True</td>\n",
       "      <td>False</td>\n",
       "      <td>36</td>\n",
       "    </tr>\n",
       "    <tr>\n",
       "      <td>6</td>\n",
       "      <td>ppl_100002</td>\n",
       "      <td>act2_1233489</td>\n",
       "      <td>2022-11-23</td>\n",
       "      <td>type 2</td>\n",
       "      <td>NaN</td>\n",
       "      <td>NaN</td>\n",
       "      <td>NaN</td>\n",
       "      <td>NaN</td>\n",
       "      <td>NaN</td>\n",
       "      <td>NaN</td>\n",
       "      <td>NaN</td>\n",
       "      <td>NaN</td>\n",
       "      <td>NaN</td>\n",
       "      <td>type 1</td>\n",
       "      <td>1</td>\n",
       "      <td>type 2</td>\n",
       "      <td>group 8688</td>\n",
       "      <td>type 3</td>\n",
       "      <td>2021-01-06</td>\n",
       "      <td>type 28</td>\n",
       "      <td>type 9</td>\n",
       "      <td>type 5</td>\n",
       "      <td>type 3</td>\n",
       "      <td>type 11</td>\n",
       "      <td>type 2</td>\n",
       "      <td>type 4</td>\n",
       "      <td>False</td>\n",
       "      <td>False</td>\n",
       "      <td>True</td>\n",
       "      <td>True</td>\n",
       "      <td>False</td>\n",
       "      <td>False</td>\n",
       "      <td>False</td>\n",
       "      <td>True</td>\n",
       "      <td>False</td>\n",
       "      <td>False</td>\n",
       "      <td>False</td>\n",
       "      <td>False</td>\n",
       "      <td>False</td>\n",
       "      <td>True</td>\n",
       "      <td>False</td>\n",
       "      <td>True</td>\n",
       "      <td>True</td>\n",
       "      <td>True</td>\n",
       "      <td>False</td>\n",
       "      <td>False</td>\n",
       "      <td>True</td>\n",
       "      <td>True</td>\n",
       "      <td>True</td>\n",
       "      <td>True</td>\n",
       "      <td>True</td>\n",
       "      <td>True</td>\n",
       "      <td>True</td>\n",
       "      <td>False</td>\n",
       "      <td>76</td>\n",
       "    </tr>\n",
       "    <tr>\n",
       "      <td>7</td>\n",
       "      <td>ppl_100002</td>\n",
       "      <td>act2_1623405</td>\n",
       "      <td>2022-11-23</td>\n",
       "      <td>type 2</td>\n",
       "      <td>NaN</td>\n",
       "      <td>NaN</td>\n",
       "      <td>NaN</td>\n",
       "      <td>NaN</td>\n",
       "      <td>NaN</td>\n",
       "      <td>NaN</td>\n",
       "      <td>NaN</td>\n",
       "      <td>NaN</td>\n",
       "      <td>NaN</td>\n",
       "      <td>type 1</td>\n",
       "      <td>1</td>\n",
       "      <td>type 2</td>\n",
       "      <td>group 8688</td>\n",
       "      <td>type 3</td>\n",
       "      <td>2021-01-06</td>\n",
       "      <td>type 28</td>\n",
       "      <td>type 9</td>\n",
       "      <td>type 5</td>\n",
       "      <td>type 3</td>\n",
       "      <td>type 11</td>\n",
       "      <td>type 2</td>\n",
       "      <td>type 4</td>\n",
       "      <td>False</td>\n",
       "      <td>False</td>\n",
       "      <td>True</td>\n",
       "      <td>True</td>\n",
       "      <td>False</td>\n",
       "      <td>False</td>\n",
       "      <td>False</td>\n",
       "      <td>True</td>\n",
       "      <td>False</td>\n",
       "      <td>False</td>\n",
       "      <td>False</td>\n",
       "      <td>False</td>\n",
       "      <td>False</td>\n",
       "      <td>True</td>\n",
       "      <td>False</td>\n",
       "      <td>True</td>\n",
       "      <td>True</td>\n",
       "      <td>True</td>\n",
       "      <td>False</td>\n",
       "      <td>False</td>\n",
       "      <td>True</td>\n",
       "      <td>True</td>\n",
       "      <td>True</td>\n",
       "      <td>True</td>\n",
       "      <td>True</td>\n",
       "      <td>True</td>\n",
       "      <td>True</td>\n",
       "      <td>False</td>\n",
       "      <td>76</td>\n",
       "    </tr>\n",
       "    <tr>\n",
       "      <td>8</td>\n",
       "      <td>ppl_100003</td>\n",
       "      <td>act2_1111598</td>\n",
       "      <td>2023-02-07</td>\n",
       "      <td>type 2</td>\n",
       "      <td>NaN</td>\n",
       "      <td>NaN</td>\n",
       "      <td>NaN</td>\n",
       "      <td>NaN</td>\n",
       "      <td>NaN</td>\n",
       "      <td>NaN</td>\n",
       "      <td>NaN</td>\n",
       "      <td>NaN</td>\n",
       "      <td>NaN</td>\n",
       "      <td>type 1</td>\n",
       "      <td>1</td>\n",
       "      <td>type 2</td>\n",
       "      <td>group 33592</td>\n",
       "      <td>type 3</td>\n",
       "      <td>2022-06-10</td>\n",
       "      <td>type 4</td>\n",
       "      <td>type 8</td>\n",
       "      <td>type 5</td>\n",
       "      <td>type 2</td>\n",
       "      <td>type 5</td>\n",
       "      <td>type 2</td>\n",
       "      <td>type 2</td>\n",
       "      <td>True</td>\n",
       "      <td>True</td>\n",
       "      <td>True</td>\n",
       "      <td>True</td>\n",
       "      <td>True</td>\n",
       "      <td>True</td>\n",
       "      <td>False</td>\n",
       "      <td>True</td>\n",
       "      <td>False</td>\n",
       "      <td>True</td>\n",
       "      <td>False</td>\n",
       "      <td>True</td>\n",
       "      <td>True</td>\n",
       "      <td>True</td>\n",
       "      <td>True</td>\n",
       "      <td>True</td>\n",
       "      <td>True</td>\n",
       "      <td>True</td>\n",
       "      <td>True</td>\n",
       "      <td>False</td>\n",
       "      <td>False</td>\n",
       "      <td>True</td>\n",
       "      <td>True</td>\n",
       "      <td>True</td>\n",
       "      <td>True</td>\n",
       "      <td>False</td>\n",
       "      <td>True</td>\n",
       "      <td>True</td>\n",
       "      <td>99</td>\n",
       "    </tr>\n",
       "    <tr>\n",
       "      <td>9</td>\n",
       "      <td>ppl_100003</td>\n",
       "      <td>act2_1177453</td>\n",
       "      <td>2023-06-28</td>\n",
       "      <td>type 2</td>\n",
       "      <td>NaN</td>\n",
       "      <td>NaN</td>\n",
       "      <td>NaN</td>\n",
       "      <td>NaN</td>\n",
       "      <td>NaN</td>\n",
       "      <td>NaN</td>\n",
       "      <td>NaN</td>\n",
       "      <td>NaN</td>\n",
       "      <td>NaN</td>\n",
       "      <td>type 1</td>\n",
       "      <td>1</td>\n",
       "      <td>type 2</td>\n",
       "      <td>group 33592</td>\n",
       "      <td>type 3</td>\n",
       "      <td>2022-06-10</td>\n",
       "      <td>type 4</td>\n",
       "      <td>type 8</td>\n",
       "      <td>type 5</td>\n",
       "      <td>type 2</td>\n",
       "      <td>type 5</td>\n",
       "      <td>type 2</td>\n",
       "      <td>type 2</td>\n",
       "      <td>True</td>\n",
       "      <td>True</td>\n",
       "      <td>True</td>\n",
       "      <td>True</td>\n",
       "      <td>True</td>\n",
       "      <td>True</td>\n",
       "      <td>False</td>\n",
       "      <td>True</td>\n",
       "      <td>False</td>\n",
       "      <td>True</td>\n",
       "      <td>False</td>\n",
       "      <td>True</td>\n",
       "      <td>True</td>\n",
       "      <td>True</td>\n",
       "      <td>True</td>\n",
       "      <td>True</td>\n",
       "      <td>True</td>\n",
       "      <td>True</td>\n",
       "      <td>True</td>\n",
       "      <td>False</td>\n",
       "      <td>False</td>\n",
       "      <td>True</td>\n",
       "      <td>True</td>\n",
       "      <td>True</td>\n",
       "      <td>True</td>\n",
       "      <td>False</td>\n",
       "      <td>True</td>\n",
       "      <td>True</td>\n",
       "      <td>99</td>\n",
       "    </tr>\n",
       "  </tbody>\n",
       "</table>\n",
       "</div>"
      ],
      "text/plain": [
       "    people_id   activity_id   act_date activity_category act_char_1  \\\n",
       "0     ppl_100  act2_1734928 2023-08-26            type 4        NaN   \n",
       "1     ppl_100  act2_2434093 2022-09-27            type 2        NaN   \n",
       "2     ppl_100  act2_3404049 2022-09-27            type 2        NaN   \n",
       "3     ppl_100  act2_3651215 2023-08-04            type 2        NaN   \n",
       "4     ppl_100  act2_4109017 2023-08-26            type 2        NaN   \n",
       "5     ppl_100   act2_898576 2023-08-04            type 4        NaN   \n",
       "6  ppl_100002  act2_1233489 2022-11-23            type 2        NaN   \n",
       "7  ppl_100002  act2_1623405 2022-11-23            type 2        NaN   \n",
       "8  ppl_100003  act2_1111598 2023-02-07            type 2        NaN   \n",
       "9  ppl_100003  act2_1177453 2023-06-28            type 2        NaN   \n",
       "\n",
       "  act_char_2 act_char_3 act_char_4 act_char_5 act_char_6 act_char_7  \\\n",
       "0        NaN        NaN        NaN        NaN        NaN        NaN   \n",
       "1        NaN        NaN        NaN        NaN        NaN        NaN   \n",
       "2        NaN        NaN        NaN        NaN        NaN        NaN   \n",
       "3        NaN        NaN        NaN        NaN        NaN        NaN   \n",
       "4        NaN        NaN        NaN        NaN        NaN        NaN   \n",
       "5        NaN        NaN        NaN        NaN        NaN        NaN   \n",
       "6        NaN        NaN        NaN        NaN        NaN        NaN   \n",
       "7        NaN        NaN        NaN        NaN        NaN        NaN   \n",
       "8        NaN        NaN        NaN        NaN        NaN        NaN   \n",
       "9        NaN        NaN        NaN        NaN        NaN        NaN   \n",
       "\n",
       "  act_char_8 act_char_9 act_char_10  outcome pl_char_1      group_1 pl_char_2  \\\n",
       "0        NaN        NaN     type 76        0    type 2  group 17304    type 2   \n",
       "1        NaN        NaN      type 1        0    type 2  group 17304    type 2   \n",
       "2        NaN        NaN      type 1        0    type 2  group 17304    type 2   \n",
       "3        NaN        NaN      type 1        0    type 2  group 17304    type 2   \n",
       "4        NaN        NaN      type 1        0    type 2  group 17304    type 2   \n",
       "5        NaN        NaN   type 1727        0    type 2  group 17304    type 2   \n",
       "6        NaN        NaN      type 1        1    type 2   group 8688    type 3   \n",
       "7        NaN        NaN      type 1        1    type 2   group 8688    type 3   \n",
       "8        NaN        NaN      type 1        1    type 2  group 33592    type 3   \n",
       "9        NaN        NaN      type 1        1    type 2  group 33592    type 3   \n",
       "\n",
       "     pl_date pl_char_3 pl_char_4 pl_char_5 pl_char_6 pl_char_7 pl_char_8  \\\n",
       "0 2021-06-29    type 5    type 5    type 5    type 3   type 11    type 2   \n",
       "1 2021-06-29    type 5    type 5    type 5    type 3   type 11    type 2   \n",
       "2 2021-06-29    type 5    type 5    type 5    type 3   type 11    type 2   \n",
       "3 2021-06-29    type 5    type 5    type 5    type 3   type 11    type 2   \n",
       "4 2021-06-29    type 5    type 5    type 5    type 3   type 11    type 2   \n",
       "5 2021-06-29    type 5    type 5    type 5    type 3   type 11    type 2   \n",
       "6 2021-01-06   type 28    type 9    type 5    type 3   type 11    type 2   \n",
       "7 2021-01-06   type 28    type 9    type 5    type 3   type 11    type 2   \n",
       "8 2022-06-10    type 4    type 8    type 5    type 2    type 5    type 2   \n",
       "9 2022-06-10    type 4    type 8    type 5    type 2    type 5    type 2   \n",
       "\n",
       "  pl_char_9  pl_char_10  pl_char_11  pl_char_12  pl_char_13  pl_char_14  \\\n",
       "0    type 2        True       False       False        True        True   \n",
       "1    type 2        True       False       False        True        True   \n",
       "2    type 2        True       False       False        True        True   \n",
       "3    type 2        True       False       False        True        True   \n",
       "4    type 2        True       False       False        True        True   \n",
       "5    type 2        True       False       False        True        True   \n",
       "6    type 4       False       False        True        True       False   \n",
       "7    type 4       False       False        True        True       False   \n",
       "8    type 2        True        True        True        True        True   \n",
       "9    type 2        True        True        True        True        True   \n",
       "\n",
       "   pl_char_15  pl_char_16  pl_char_17  pl_char_18  pl_char_19  pl_char_20  \\\n",
       "0       False        True       False       False       False       False   \n",
       "1       False        True       False       False       False       False   \n",
       "2       False        True       False       False       False       False   \n",
       "3       False        True       False       False       False       False   \n",
       "4       False        True       False       False       False       False   \n",
       "5       False        True       False       False       False       False   \n",
       "6       False       False        True       False       False       False   \n",
       "7       False       False        True       False       False       False   \n",
       "8        True       False        True       False        True       False   \n",
       "9        True       False        True       False        True       False   \n",
       "\n",
       "   pl_char_21  pl_char_22  pl_char_23  pl_char_24  pl_char_25  pl_char_26  \\\n",
       "0        True       False       False       False       False       False   \n",
       "1        True       False       False       False       False       False   \n",
       "2        True       False       False       False       False       False   \n",
       "3        True       False       False       False       False       False   \n",
       "4        True       False       False       False       False       False   \n",
       "5        True       False       False       False       False       False   \n",
       "6       False       False        True       False        True        True   \n",
       "7       False       False        True       False        True        True   \n",
       "8        True        True        True        True        True        True   \n",
       "9        True        True        True        True        True        True   \n",
       "\n",
       "   pl_char_27  pl_char_28  pl_char_29  pl_char_30  pl_char_31  pl_char_32  \\\n",
       "0        True        True       False        True        True       False   \n",
       "1        True        True       False        True        True       False   \n",
       "2        True        True       False        True        True       False   \n",
       "3        True        True       False        True        True       False   \n",
       "4        True        True       False        True        True       False   \n",
       "5        True        True       False        True        True       False   \n",
       "6        True       False       False        True        True        True   \n",
       "7        True       False       False        True        True        True   \n",
       "8        True        True       False       False        True        True   \n",
       "9        True        True       False       False        True        True   \n",
       "\n",
       "   pl_char_33  pl_char_34  pl_char_35  pl_char_36  pl_char_37  pl_char_38  \n",
       "0       False        True        True        True       False          36  \n",
       "1       False        True        True        True       False          36  \n",
       "2       False        True        True        True       False          36  \n",
       "3       False        True        True        True       False          36  \n",
       "4       False        True        True        True       False          36  \n",
       "5       False        True        True        True       False          36  \n",
       "6        True        True        True        True       False          76  \n",
       "7        True        True        True        True       False          76  \n",
       "8        True        True       False        True        True          99  \n",
       "9        True        True       False        True        True          99  "
      ]
     },
     "execution_count": 1,
     "metadata": {},
     "output_type": "execute_result"
    }
   ],
   "source": [
    "import pandas as pd\n",
    "import numpy as np\n",
    "import matplotlib.pyplot as plt\n",
    "import seaborn as sns\n",
    "from scipy import stats\n",
    "%matplotlib inline\n",
    "pd.set_option('display.max_column', None)\n",
    "\n",
    "pl=pd.read_csv('people.csv.zip')\n",
    "ac=pd.read_csv('act_train.csv.zip')\n",
    "pl['date']=pd.to_datetime(pl['date'])\n",
    "ac['date']=pd.to_datetime(ac['date'])\n",
    "pl_columns=[]\n",
    "for col in pl.columns:\n",
    "    if 'char' in col or 'date' in col:\n",
    "        pl_columns.append('pl_' + col)\n",
    "    else:\n",
    "        pl_columns.append(col)\n",
    "pl.columns=pl_columns\n",
    "ac_columns=[]\n",
    "for col in ac.columns:\n",
    "    if 'char' in col or 'date' in col:\n",
    "        ac_columns.append('act_' + col)\n",
    "    else:\n",
    "        ac_columns.append(col)\n",
    "ac.columns=ac_columns\n",
    "ac_pl_merge = pd.merge(ac, pl, on='people_id')\n",
    "\n",
    "ac_pl_merge.head(10)"
   ]
  },
  {
   "cell_type": "code",
   "execution_count": 2,
   "metadata": {},
   "outputs": [
    {
     "data": {
      "text/html": [
       "<div>\n",
       "<style scoped>\n",
       "    .dataframe tbody tr th:only-of-type {\n",
       "        vertical-align: middle;\n",
       "    }\n",
       "\n",
       "    .dataframe tbody tr th {\n",
       "        vertical-align: top;\n",
       "    }\n",
       "\n",
       "    .dataframe thead th {\n",
       "        text-align: right;\n",
       "    }\n",
       "</style>\n",
       "<table border=\"1\" class=\"dataframe\">\n",
       "  <thead>\n",
       "    <tr style=\"text-align: right;\">\n",
       "      <th></th>\n",
       "      <th>pl_char_10</th>\n",
       "      <th>pl_char_11</th>\n",
       "      <th>pl_char_12</th>\n",
       "      <th>pl_char_13</th>\n",
       "      <th>pl_char_14</th>\n",
       "      <th>pl_char_15</th>\n",
       "      <th>pl_char_16</th>\n",
       "      <th>pl_char_17</th>\n",
       "      <th>pl_char_18</th>\n",
       "      <th>pl_char_19</th>\n",
       "      <th>pl_char_20</th>\n",
       "      <th>pl_char_21</th>\n",
       "      <th>pl_char_22</th>\n",
       "      <th>pl_char_23</th>\n",
       "      <th>pl_char_24</th>\n",
       "      <th>pl_char_25</th>\n",
       "      <th>pl_char_26</th>\n",
       "      <th>pl_char_27</th>\n",
       "      <th>pl_char_28</th>\n",
       "      <th>pl_char_29</th>\n",
       "      <th>pl_char_30</th>\n",
       "      <th>pl_char_31</th>\n",
       "      <th>pl_char_32</th>\n",
       "      <th>pl_char_33</th>\n",
       "      <th>pl_char_34</th>\n",
       "      <th>pl_char_35</th>\n",
       "      <th>pl_char_36</th>\n",
       "      <th>pl_char_37</th>\n",
       "      <th>pl_char_38</th>\n",
       "    </tr>\n",
       "    <tr>\n",
       "      <th>outcome</th>\n",
       "      <th></th>\n",
       "      <th></th>\n",
       "      <th></th>\n",
       "      <th></th>\n",
       "      <th></th>\n",
       "      <th></th>\n",
       "      <th></th>\n",
       "      <th></th>\n",
       "      <th></th>\n",
       "      <th></th>\n",
       "      <th></th>\n",
       "      <th></th>\n",
       "      <th></th>\n",
       "      <th></th>\n",
       "      <th></th>\n",
       "      <th></th>\n",
       "      <th></th>\n",
       "      <th></th>\n",
       "      <th></th>\n",
       "      <th></th>\n",
       "      <th></th>\n",
       "      <th></th>\n",
       "      <th></th>\n",
       "      <th></th>\n",
       "      <th></th>\n",
       "      <th></th>\n",
       "      <th></th>\n",
       "      <th></th>\n",
       "      <th></th>\n",
       "    </tr>\n",
       "  </thead>\n",
       "  <tbody>\n",
       "    <tr>\n",
       "      <td>0</td>\n",
       "      <td>1221794</td>\n",
       "      <td>1221794</td>\n",
       "      <td>1221794</td>\n",
       "      <td>1221794</td>\n",
       "      <td>1221794</td>\n",
       "      <td>1221794</td>\n",
       "      <td>1221794</td>\n",
       "      <td>1221794</td>\n",
       "      <td>1221794</td>\n",
       "      <td>1221794</td>\n",
       "      <td>1221794</td>\n",
       "      <td>1221794</td>\n",
       "      <td>1221794</td>\n",
       "      <td>1221794</td>\n",
       "      <td>1221794</td>\n",
       "      <td>1221794</td>\n",
       "      <td>1221794</td>\n",
       "      <td>1221794</td>\n",
       "      <td>1221794</td>\n",
       "      <td>1221794</td>\n",
       "      <td>1221794</td>\n",
       "      <td>1221794</td>\n",
       "      <td>1221794</td>\n",
       "      <td>1221794</td>\n",
       "      <td>1221794</td>\n",
       "      <td>1221794</td>\n",
       "      <td>1221794</td>\n",
       "      <td>1221794</td>\n",
       "      <td>1221794</td>\n",
       "    </tr>\n",
       "    <tr>\n",
       "      <td>1</td>\n",
       "      <td>975497</td>\n",
       "      <td>975497</td>\n",
       "      <td>975497</td>\n",
       "      <td>975497</td>\n",
       "      <td>975497</td>\n",
       "      <td>975497</td>\n",
       "      <td>975497</td>\n",
       "      <td>975497</td>\n",
       "      <td>975497</td>\n",
       "      <td>975497</td>\n",
       "      <td>975497</td>\n",
       "      <td>975497</td>\n",
       "      <td>975497</td>\n",
       "      <td>975497</td>\n",
       "      <td>975497</td>\n",
       "      <td>975497</td>\n",
       "      <td>975497</td>\n",
       "      <td>975497</td>\n",
       "      <td>975497</td>\n",
       "      <td>975497</td>\n",
       "      <td>975497</td>\n",
       "      <td>975497</td>\n",
       "      <td>975497</td>\n",
       "      <td>975497</td>\n",
       "      <td>975497</td>\n",
       "      <td>975497</td>\n",
       "      <td>975497</td>\n",
       "      <td>975497</td>\n",
       "      <td>975497</td>\n",
       "    </tr>\n",
       "  </tbody>\n",
       "</table>\n",
       "</div>"
      ],
      "text/plain": [
       "         pl_char_10  pl_char_11  pl_char_12  pl_char_13  pl_char_14  \\\n",
       "outcome                                                               \n",
       "0           1221794     1221794     1221794     1221794     1221794   \n",
       "1            975497      975497      975497      975497      975497   \n",
       "\n",
       "         pl_char_15  pl_char_16  pl_char_17  pl_char_18  pl_char_19  \\\n",
       "outcome                                                               \n",
       "0           1221794     1221794     1221794     1221794     1221794   \n",
       "1            975497      975497      975497      975497      975497   \n",
       "\n",
       "         pl_char_20  pl_char_21  pl_char_22  pl_char_23  pl_char_24  \\\n",
       "outcome                                                               \n",
       "0           1221794     1221794     1221794     1221794     1221794   \n",
       "1            975497      975497      975497      975497      975497   \n",
       "\n",
       "         pl_char_25  pl_char_26  pl_char_27  pl_char_28  pl_char_29  \\\n",
       "outcome                                                               \n",
       "0           1221794     1221794     1221794     1221794     1221794   \n",
       "1            975497      975497      975497      975497      975497   \n",
       "\n",
       "         pl_char_30  pl_char_31  pl_char_32  pl_char_33  pl_char_34  \\\n",
       "outcome                                                               \n",
       "0           1221794     1221794     1221794     1221794     1221794   \n",
       "1            975497      975497      975497      975497      975497   \n",
       "\n",
       "         pl_char_35  pl_char_36  pl_char_37  pl_char_38  \n",
       "outcome                                                  \n",
       "0           1221794     1221794     1221794     1221794  \n",
       "1            975497      975497      975497      975497  "
      ]
     },
     "execution_count": 2,
     "metadata": {},
     "output_type": "execute_result"
    }
   ],
   "source": [
    "# # ac.head(20)\n",
    "# pl.char_38.unique()\n",
    "# pl.char_38.min() , pl.char_38.max(), pl.char_38.mean(), pl.char_38.median()\n",
    "\n",
    "ac_pl_merge.columns\n",
    "ac_pl_merge.groupby(['outcome' ])[ 'pl_char_10','pl_char_11', 'pl_char_12', 'pl_char_13',\n",
    "       'pl_char_14', 'pl_char_15', 'pl_char_16', 'pl_char_17', 'pl_char_18',\n",
    "       'pl_char_19', 'pl_char_20', 'pl_char_21', 'pl_char_22', 'pl_char_23',\n",
    "       'pl_char_24', 'pl_char_25', 'pl_char_26', 'pl_char_27', 'pl_char_28',\n",
    "       'pl_char_29', 'pl_char_30', 'pl_char_31', 'pl_char_32', 'pl_char_33',\n",
    "       'pl_char_34', 'pl_char_35', 'pl_char_36', 'pl_char_37', 'pl_char_38'].count()"
   ]
  },
  {
   "cell_type": "code",
   "execution_count": 3,
   "metadata": {},
   "outputs": [
    {
     "data": {
      "text/plain": [
       "pl_char_11\n",
       "False    1743501\n",
       "True      453790\n",
       "Name: outcome, dtype: int64"
      ]
     },
     "execution_count": 3,
     "metadata": {},
     "output_type": "execute_result"
    }
   ],
   "source": [
    "# ac.loc[ac.people_id == 'ppl_100']\n",
    "# pl.group_1.nunique()\n",
    "ac_pl_merge.pl_char_19.value_counts()\n",
    "ac_pl_merge.groupby(['pl_char_11'])[ 'outcome'].count()"
   ]
  },
  {
   "cell_type": "code",
   "execution_count": 4,
   "metadata": {},
   "outputs": [
    {
     "data": {
      "text/plain": [
       "(2197291, 55)"
      ]
     },
     "execution_count": 4,
     "metadata": {},
     "output_type": "execute_result"
    }
   ],
   "source": [
    "ac_pl_merge.shape"
   ]
  },
  {
   "cell_type": "code",
   "execution_count": 5,
   "metadata": {},
   "outputs": [
    {
     "data": {
      "text/plain": [
       "outcome\n",
       "0    1129010\n",
       "1     910666\n",
       "Name: act_char_10, dtype: int64"
      ]
     },
     "execution_count": 5,
     "metadata": {},
     "output_type": "execute_result"
    }
   ],
   "source": [
    "ac_pl_merge.act_char_10.notnull().sum()\n",
    "ac_pl_merge.groupby('outcome')['act_char_10'].count()"
   ]
  },
  {
   "cell_type": "code",
   "execution_count": null,
   "metadata": {},
   "outputs": [],
   "source": []
  },
  {
   "cell_type": "code",
   "execution_count": 6,
   "metadata": {},
   "outputs": [
    {
     "data": {
      "text/plain": [
       "type 1       904683\n",
       "type 23      200408\n",
       "type 2       116191\n",
       "type 61       35417\n",
       "type 452      23513\n",
       "              ...  \n",
       "type 3682         1\n",
       "type 2775         1\n",
       "type 3915         1\n",
       "type 7102         1\n",
       "type 2043         1\n",
       "Name: act_char_10, Length: 6515, dtype: int64"
      ]
     },
     "execution_count": 6,
     "metadata": {},
     "output_type": "execute_result"
    }
   ],
   "source": [
    "ac_pl_merge.act_char_10.value_counts()"
   ]
  },
  {
   "cell_type": "code",
   "execution_count": 7,
   "metadata": {},
   "outputs": [
    {
     "data": {
      "text/plain": [
       "False    1621615\n",
       "True      575676\n",
       "Name: pl_char_15, dtype: int64"
      ]
     },
     "execution_count": 7,
     "metadata": {},
     "output_type": "execute_result"
    },
    {
     "data": {
      "image/png": "[encoded data removed]",
      "text/plain": [
       "<Figure size 432x288 with 1 Axes>"
      ]
     },
     "metadata": {
      "needs_background": "light"
     },
     "output_type": "display_data"
    }
   ],
   "source": [
    "# pl.info()\n",
    "# pl.char_38.unique()\n",
    "# ac.columns\n",
    "# ac.info()\n",
    "ac_pl_merge.pl_char_11.value_counts()\n",
    "# sns.countplot('pl_char_10', data=ac_pl_merge, hue='outcome') ,\n",
    "# sns.countplot('pl_char_37', data=ac_pl_merge, hue='outcome')\n",
    "sns.countplot('outcome', data=ac_pl_merge, hue='pl_char_15')\n",
    "\n",
    "ac_pl_merge.pl_char_15.value_counts()"
   ]
  },
  {
   "cell_type": "markdown",
   "metadata": {},
   "source": [
    "More False answer between pl_char_10 and pl_char_38 lead to more negative value. Contrarily, more postive answer lead to more positive business value. "
   ]
  },
  {
   "cell_type": "code",
   "execution_count": 8,
   "metadata": {},
   "outputs": [
    {
     "data": {
      "text/plain": [
       "(Timestamp('2023-08-31 00:00:00'),\n",
       " Timestamp('2022-07-17 00:00:00'),\n",
       " Timestamp('2023-08-31 00:00:00'),\n",
       " Timestamp('2020-05-18 00:00:00'))"
      ]
     },
     "execution_count": 8,
     "metadata": {},
     "output_type": "execute_result"
    }
   ],
   "source": [
    "ac.activity_category.unique()\n",
    "ac.outcome.unique()\n",
    "ac.act_date.max(), ac.act_date.min(), pl.pl_date.max(), pl.pl_date.min()\n",
    "# ac.columns\n",
    "# ac.act_date.head()"
   ]
  },
  {
   "cell_type": "code",
   "execution_count": 19,
   "metadata": {},
   "outputs": [
    {
     "data": {
      "text/plain": [
       "Text(0.5, 1.0, 'Char_38')"
      ]
     },
     "execution_count": 19,
     "metadata": {},
     "output_type": "execute_result"
    },
    {
     "data": {
      "image/png": "[encoded data removed]",
      "text/plain": [
       "<Figure size 720x360 with 1 Axes>"
      ]
     },
     "metadata": {
      "needs_background": "light"
     },
     "output_type": "display_data"
    }
   ],
   "source": [
    "ac_pl_merge.pl_char_38.plot(kind='hist',figsize=(10,5))\n",
    "plt.xlabel('Char_38')\n",
    "plt.ylabel('Frequency')\n",
    "plt.title('Char_38')"
   ]
  },
  {
   "cell_type": "code",
   "execution_count": 20,
   "metadata": {},
   "outputs": [
    {
     "data": {
      "text/plain": [
       "(array([587161.,  49644.,  65930., 101104.,  88821.,  66710.,  71624.,\n",
       "         71876.,  54474.,  64450.]),\n",
       " array([  0.,  10.,  20.,  30.,  40.,  50.,  60.,  70.,  80.,  90., 100.]),\n",
       " <a list of 10 Patch objects>)"
      ]
     },
     "execution_count": 20,
     "metadata": {},
     "output_type": "execute_result"
    },
    {
     "data": {
      "image/png": "[encoded data removed]",
      "text/plain": [
       "<Figure size 720x360 with 1 Axes>"
      ]
     },
     "metadata": {
      "needs_background": "light"
     },
     "output_type": "display_data"
    }
   ],
   "source": [
    "pl.columns\n",
    "# pl_char_38=pl[['people_id', 'char_38']]\n",
    "# ac_outcome=ac[['people_id', 'outcome']]\n",
    "# ac_pl_38_outcome_df=pl_char_38.merge(ac_outcome, how='left', on='people_id')\n",
    "ac_pl_merge_38_outcome_0 = ac_pl_merge[ac_pl_merge['outcome'] == 0]\n",
    "plt.figure(figsize=(10,5))\n",
    "plt.hist(ac_pl_merge_38_outcome_0['pl_char_38'])\n",
    "# ac_pl_38_outcome_df_0.describe()"
   ]
  },
  {
   "cell_type": "code",
   "execution_count": 21,
   "metadata": {},
   "outputs": [
    {
     "data": {
      "text/plain": [
       "(array([1.50320e+04, 1.60000e+01, 0.00000e+00, 1.88000e+03, 1.79420e+04,\n",
       "        1.16920e+05, 1.34997e+05, 1.87124e+05, 2.21615e+05, 2.79971e+05]),\n",
       " array([  0.,  10.,  20.,  30.,  40.,  50.,  60.,  70.,  80.,  90., 100.]),\n",
       " <a list of 10 Patch objects>)"
      ]
     },
     "execution_count": 21,
     "metadata": {},
     "output_type": "execute_result"
    },
    {
     "data": {
      "image/png": "[encoded data removed]",
      "text/plain": [
       "<Figure size 720x360 with 1 Axes>"
      ]
     },
     "metadata": {
      "needs_background": "light"
     },
     "output_type": "display_data"
    }
   ],
   "source": [
    "ac_pl_merge_38_outcome_1 = ac_pl_merge[ac_pl_merge['outcome'] == 1]\n",
    "plt.figure(figsize=(10,5))\n",
    "plt.hist(ac_pl_merge_38_outcome_1['pl_char_38'])\n",
    "# ac_pl_38_outcome_df_1.describe()"
   ]
  },
  {
   "cell_type": "code",
   "execution_count": null,
   "metadata": {},
   "outputs": [],
   "source": [
    "# ac.memory_usage()"
   ]
  },
  {
   "cell_type": "code",
   "execution_count": null,
   "metadata": {},
   "outputs": [],
   "source": [
    "# pl.columns"
   ]
  },
  {
   "cell_type": "code",
   "execution_count": null,
   "metadata": {},
   "outputs": [],
   "source": [
    "# ac.columns"
   ]
  },
  {
   "cell_type": "code",
   "execution_count": null,
   "metadata": {},
   "outputs": [],
   "source": [
    "# ac.describe()\n",
    "# ac.outcome.isnull().sum()\n",
    "# for i in ac.columns:\n",
    "#     i.isnull().sum()\n",
    "# ac.isnull().sum() , ac.shape\n",
    "# ac.shape[0] - ac.outcome.notnull().sum()\n",
    "# ac.shape[0] - ac.char_1.isnull().sum()"
   ]
  },
  {
   "cell_type": "code",
   "execution_count": null,
   "metadata": {},
   "outputs": [],
   "source": [
    "# for i in ac.columns:\n",
    "#     ac.columns[i],ac.shape[0] - ac[i].isnull().sum()\n",
    "# ac.outcome.value_counts().plot(kind='bar')"
   ]
  },
  {
   "cell_type": "code",
   "execution_count": null,
   "metadata": {},
   "outputs": [],
   "source": [
    "for i in ac_pl_merge:\n",
    "    print('Unique Elements: ', i,\":\",ac_pl_merge[i].nunique())\n",
    "# ac.char_1.unique()"
   ]
  },
  {
   "cell_type": "code",
   "execution_count": null,
   "metadata": {},
   "outputs": [],
   "source": [
    "# for i in pl:\n",
    "#     print('Unique Elements: ', i,\":\",pl[i].nunique())"
   ]
  },
  {
   "cell_type": "code",
   "execution_count": null,
   "metadata": {},
   "outputs": [],
   "source": [
    "for i in ac_pl_merge:\n",
    "    print('No. of Null', i,\":\",ac_pl_merge[i].isnull().sum())"
   ]
  },
  {
   "cell_type": "code",
   "execution_count": null,
   "metadata": {},
   "outputs": [],
   "source": [
    "# for i in pl:\n",
    "#     print('No. of Null', i,pl[i].isnull().sum())    #All good, no missing values"
   ]
  },
  {
   "cell_type": "code",
   "execution_count": null,
   "metadata": {},
   "outputs": [],
   "source": [
    "# ac.activity_category.unique()\n",
    "# ac.char_1.value_counts()\n",
    "# ac.columns"
   ]
  },
  {
   "cell_type": "code",
   "execution_count": 22,
   "metadata": {},
   "outputs": [
    {
     "data": {
      "text/html": [
       "<div>\n",
       "<style scoped>\n",
       "    .dataframe tbody tr th:only-of-type {\n",
       "        vertical-align: middle;\n",
       "    }\n",
       "\n",
       "    .dataframe tbody tr th {\n",
       "        vertical-align: top;\n",
       "    }\n",
       "\n",
       "    .dataframe thead th {\n",
       "        text-align: right;\n",
       "    }\n",
       "</style>\n",
       "<table border=\"1\" class=\"dataframe\">\n",
       "  <thead>\n",
       "    <tr style=\"text-align: right;\">\n",
       "      <th></th>\n",
       "      <th>act_char_1</th>\n",
       "      <th>act_char_2</th>\n",
       "      <th>act_char_3</th>\n",
       "      <th>act_char_4</th>\n",
       "      <th>act_char_5</th>\n",
       "      <th>act_char_6</th>\n",
       "      <th>act_char_7</th>\n",
       "      <th>act_char_8</th>\n",
       "      <th>act_char_9</th>\n",
       "      <th>act_char_10</th>\n",
       "    </tr>\n",
       "    <tr>\n",
       "      <th>outcome</th>\n",
       "      <th></th>\n",
       "      <th></th>\n",
       "      <th></th>\n",
       "      <th></th>\n",
       "      <th></th>\n",
       "      <th></th>\n",
       "      <th></th>\n",
       "      <th></th>\n",
       "      <th></th>\n",
       "      <th></th>\n",
       "    </tr>\n",
       "  </thead>\n",
       "  <tbody>\n",
       "    <tr>\n",
       "      <td>0</td>\n",
       "      <td>92784</td>\n",
       "      <td>92784</td>\n",
       "      <td>92784</td>\n",
       "      <td>92784</td>\n",
       "      <td>92784</td>\n",
       "      <td>92784</td>\n",
       "      <td>92784</td>\n",
       "      <td>92784</td>\n",
       "      <td>92784</td>\n",
       "      <td>1129010</td>\n",
       "    </tr>\n",
       "    <tr>\n",
       "      <td>1</td>\n",
       "      <td>64831</td>\n",
       "      <td>64831</td>\n",
       "      <td>64831</td>\n",
       "      <td>64831</td>\n",
       "      <td>64831</td>\n",
       "      <td>64831</td>\n",
       "      <td>64831</td>\n",
       "      <td>64831</td>\n",
       "      <td>64831</td>\n",
       "      <td>910666</td>\n",
       "    </tr>\n",
       "  </tbody>\n",
       "</table>\n",
       "</div>"
      ],
      "text/plain": [
       "         act_char_1  act_char_2  act_char_3  act_char_4  act_char_5  \\\n",
       "outcome                                                               \n",
       "0             92784       92784       92784       92784       92784   \n",
       "1             64831       64831       64831       64831       64831   \n",
       "\n",
       "         act_char_6  act_char_7  act_char_8  act_char_9  act_char_10  \n",
       "outcome                                                               \n",
       "0             92784       92784       92784       92784      1129010  \n",
       "1             64831       64831       64831       64831       910666  "
      ]
     },
     "execution_count": 22,
     "metadata": {},
     "output_type": "execute_result"
    }
   ],
   "source": [
    "ac_pl_merge.groupby('outcome')['act_char_1','act_char_2', 'act_char_3', 'act_char_4', 'act_char_5', 'act_char_6', 'act_char_7', 'act_char_8',\n",
    "       'act_char_9', 'act_char_10'].count()"
   ]
  },
  {
   "cell_type": "code",
   "execution_count": 23,
   "metadata": {},
   "outputs": [
    {
     "data": {
      "text/html": [
       "<div>\n",
       "<style scoped>\n",
       "    .dataframe tbody tr th:only-of-type {\n",
       "        vertical-align: middle;\n",
       "    }\n",
       "\n",
       "    .dataframe tbody tr th {\n",
       "        vertical-align: top;\n",
       "    }\n",
       "\n",
       "    .dataframe thead th {\n",
       "        text-align: right;\n",
       "    }\n",
       "</style>\n",
       "<table border=\"1\" class=\"dataframe\">\n",
       "  <thead>\n",
       "    <tr style=\"text-align: right;\">\n",
       "      <th></th>\n",
       "      <th></th>\n",
       "      <th>act_char_1</th>\n",
       "      <th>act_char_2</th>\n",
       "      <th>act_char_3</th>\n",
       "      <th>act_char_4</th>\n",
       "      <th>act_char_5</th>\n",
       "      <th>act_char_6</th>\n",
       "      <th>act_char_7</th>\n",
       "      <th>act_char_8</th>\n",
       "      <th>act_char_9</th>\n",
       "      <th>act_char_10</th>\n",
       "    </tr>\n",
       "    <tr>\n",
       "      <th>outcome</th>\n",
       "      <th>activity_category</th>\n",
       "      <th></th>\n",
       "      <th></th>\n",
       "      <th></th>\n",
       "      <th></th>\n",
       "      <th></th>\n",
       "      <th></th>\n",
       "      <th></th>\n",
       "      <th></th>\n",
       "      <th></th>\n",
       "      <th></th>\n",
       "    </tr>\n",
       "  </thead>\n",
       "  <tbody>\n",
       "    <tr>\n",
       "      <td rowspan=\"7\" valign=\"top\">0</td>\n",
       "      <td>type 1</td>\n",
       "      <td>92784</td>\n",
       "      <td>92784</td>\n",
       "      <td>92784</td>\n",
       "      <td>92784</td>\n",
       "      <td>92784</td>\n",
       "      <td>92784</td>\n",
       "      <td>92784</td>\n",
       "      <td>92784</td>\n",
       "      <td>92784</td>\n",
       "      <td>0</td>\n",
       "    </tr>\n",
       "    <tr>\n",
       "      <td>type 2</td>\n",
       "      <td>0</td>\n",
       "      <td>0</td>\n",
       "      <td>0</td>\n",
       "      <td>0</td>\n",
       "      <td>0</td>\n",
       "      <td>0</td>\n",
       "      <td>0</td>\n",
       "      <td>0</td>\n",
       "      <td>0</td>\n",
       "      <td>443002</td>\n",
       "    </tr>\n",
       "    <tr>\n",
       "      <td>type 3</td>\n",
       "      <td>0</td>\n",
       "      <td>0</td>\n",
       "      <td>0</td>\n",
       "      <td>0</td>\n",
       "      <td>0</td>\n",
       "      <td>0</td>\n",
       "      <td>0</td>\n",
       "      <td>0</td>\n",
       "      <td>0</td>\n",
       "      <td>321202</td>\n",
       "    </tr>\n",
       "    <tr>\n",
       "      <td>type 4</td>\n",
       "      <td>0</td>\n",
       "      <td>0</td>\n",
       "      <td>0</td>\n",
       "      <td>0</td>\n",
       "      <td>0</td>\n",
       "      <td>0</td>\n",
       "      <td>0</td>\n",
       "      <td>0</td>\n",
       "      <td>0</td>\n",
       "      <td>105972</td>\n",
       "    </tr>\n",
       "    <tr>\n",
       "      <td>type 5</td>\n",
       "      <td>0</td>\n",
       "      <td>0</td>\n",
       "      <td>0</td>\n",
       "      <td>0</td>\n",
       "      <td>0</td>\n",
       "      <td>0</td>\n",
       "      <td>0</td>\n",
       "      <td>0</td>\n",
       "      <td>0</td>\n",
       "      <td>255050</td>\n",
       "    </tr>\n",
       "    <tr>\n",
       "      <td>type 6</td>\n",
       "      <td>0</td>\n",
       "      <td>0</td>\n",
       "      <td>0</td>\n",
       "      <td>0</td>\n",
       "      <td>0</td>\n",
       "      <td>0</td>\n",
       "      <td>0</td>\n",
       "      <td>0</td>\n",
       "      <td>0</td>\n",
       "      <td>1889</td>\n",
       "    </tr>\n",
       "    <tr>\n",
       "      <td>type 7</td>\n",
       "      <td>0</td>\n",
       "      <td>0</td>\n",
       "      <td>0</td>\n",
       "      <td>0</td>\n",
       "      <td>0</td>\n",
       "      <td>0</td>\n",
       "      <td>0</td>\n",
       "      <td>0</td>\n",
       "      <td>0</td>\n",
       "      <td>1895</td>\n",
       "    </tr>\n",
       "    <tr>\n",
       "      <td rowspan=\"7\" valign=\"top\">1</td>\n",
       "      <td>type 1</td>\n",
       "      <td>64831</td>\n",
       "      <td>64831</td>\n",
       "      <td>64831</td>\n",
       "      <td>64831</td>\n",
       "      <td>64831</td>\n",
       "      <td>64831</td>\n",
       "      <td>64831</td>\n",
       "      <td>64831</td>\n",
       "      <td>64831</td>\n",
       "      <td>0</td>\n",
       "    </tr>\n",
       "    <tr>\n",
       "      <td>type 2</td>\n",
       "      <td>0</td>\n",
       "      <td>0</td>\n",
       "      <td>0</td>\n",
       "      <td>0</td>\n",
       "      <td>0</td>\n",
       "      <td>0</td>\n",
       "      <td>0</td>\n",
       "      <td>0</td>\n",
       "      <td>0</td>\n",
       "      <td>461681</td>\n",
       "    </tr>\n",
       "    <tr>\n",
       "      <td>type 3</td>\n",
       "      <td>0</td>\n",
       "      <td>0</td>\n",
       "      <td>0</td>\n",
       "      <td>0</td>\n",
       "      <td>0</td>\n",
       "      <td>0</td>\n",
       "      <td>0</td>\n",
       "      <td>0</td>\n",
       "      <td>0</td>\n",
       "      <td>108206</td>\n",
       "    </tr>\n",
       "    <tr>\n",
       "      <td>type 4</td>\n",
       "      <td>0</td>\n",
       "      <td>0</td>\n",
       "      <td>0</td>\n",
       "      <td>0</td>\n",
       "      <td>0</td>\n",
       "      <td>0</td>\n",
       "      <td>0</td>\n",
       "      <td>0</td>\n",
       "      <td>0</td>\n",
       "      <td>101493</td>\n",
       "    </tr>\n",
       "    <tr>\n",
       "      <td>type 5</td>\n",
       "      <td>0</td>\n",
       "      <td>0</td>\n",
       "      <td>0</td>\n",
       "      <td>0</td>\n",
       "      <td>0</td>\n",
       "      <td>0</td>\n",
       "      <td>0</td>\n",
       "      <td>0</td>\n",
       "      <td>0</td>\n",
       "      <td>235660</td>\n",
       "    </tr>\n",
       "    <tr>\n",
       "      <td>type 6</td>\n",
       "      <td>0</td>\n",
       "      <td>0</td>\n",
       "      <td>0</td>\n",
       "      <td>0</td>\n",
       "      <td>0</td>\n",
       "      <td>0</td>\n",
       "      <td>0</td>\n",
       "      <td>0</td>\n",
       "      <td>0</td>\n",
       "      <td>2364</td>\n",
       "    </tr>\n",
       "    <tr>\n",
       "      <td>type 7</td>\n",
       "      <td>0</td>\n",
       "      <td>0</td>\n",
       "      <td>0</td>\n",
       "      <td>0</td>\n",
       "      <td>0</td>\n",
       "      <td>0</td>\n",
       "      <td>0</td>\n",
       "      <td>0</td>\n",
       "      <td>0</td>\n",
       "      <td>1262</td>\n",
       "    </tr>\n",
       "  </tbody>\n",
       "</table>\n",
       "</div>"
      ],
      "text/plain": [
       "                           act_char_1  act_char_2  act_char_3  act_char_4  \\\n",
       "outcome activity_category                                                   \n",
       "0       type 1                  92784       92784       92784       92784   \n",
       "        type 2                      0           0           0           0   \n",
       "        type 3                      0           0           0           0   \n",
       "        type 4                      0           0           0           0   \n",
       "        type 5                      0           0           0           0   \n",
       "        type 6                      0           0           0           0   \n",
       "        type 7                      0           0           0           0   \n",
       "1       type 1                  64831       64831       64831       64831   \n",
       "        type 2                      0           0           0           0   \n",
       "        type 3                      0           0           0           0   \n",
       "        type 4                      0           0           0           0   \n",
       "        type 5                      0           0           0           0   \n",
       "        type 6                      0           0           0           0   \n",
       "        type 7                      0           0           0           0   \n",
       "\n",
       "                           act_char_5  act_char_6  act_char_7  act_char_8  \\\n",
       "outcome activity_category                                                   \n",
       "0       type 1                  92784       92784       92784       92784   \n",
       "        type 2                      0           0           0           0   \n",
       "        type 3                      0           0           0           0   \n",
       "        type 4                      0           0           0           0   \n",
       "        type 5                      0           0           0           0   \n",
       "        type 6                      0           0           0           0   \n",
       "        type 7                      0           0           0           0   \n",
       "1       type 1                  64831       64831       64831       64831   \n",
       "        type 2                      0           0           0           0   \n",
       "        type 3                      0           0           0           0   \n",
       "        type 4                      0           0           0           0   \n",
       "        type 5                      0           0           0           0   \n",
       "        type 6                      0           0           0           0   \n",
       "        type 7                      0           0           0           0   \n",
       "\n",
       "                           act_char_9  act_char_10  \n",
       "outcome activity_category                           \n",
       "0       type 1                  92784            0  \n",
       "        type 2                      0       443002  \n",
       "        type 3                      0       321202  \n",
       "        type 4                      0       105972  \n",
       "        type 5                      0       255050  \n",
       "        type 6                      0         1889  \n",
       "        type 7                      0         1895  \n",
       "1       type 1                  64831            0  \n",
       "        type 2                      0       461681  \n",
       "        type 3                      0       108206  \n",
       "        type 4                      0       101493  \n",
       "        type 5                      0       235660  \n",
       "        type 6                      0         2364  \n",
       "        type 7                      0         1262  "
      ]
     },
     "execution_count": 23,
     "metadata": {},
     "output_type": "execute_result"
    }
   ],
   "source": [
    "ac_pl_merge.groupby(['outcome','activity_category'])['act_char_1','act_char_2', 'act_char_3', 'act_char_4', 'act_char_5', 'act_char_6', 'act_char_7', 'act_char_8',\n",
    "       'act_char_9', 'act_char_10'].count()"
   ]
  },
  {
   "cell_type": "code",
   "execution_count": 13,
   "metadata": {},
   "outputs": [
    {
     "data": {
      "text/html": [
       "<div>\n",
       "<style scoped>\n",
       "    .dataframe tbody tr th:only-of-type {\n",
       "        vertical-align: middle;\n",
       "    }\n",
       "\n",
       "    .dataframe tbody tr th {\n",
       "        vertical-align: top;\n",
       "    }\n",
       "\n",
       "    .dataframe thead th {\n",
       "        text-align: right;\n",
       "    }\n",
       "</style>\n",
       "<table border=\"1\" class=\"dataframe\">\n",
       "  <thead>\n",
       "    <tr style=\"text-align: right;\">\n",
       "      <th></th>\n",
       "      <th>activity_category</th>\n",
       "      <th>outcome</th>\n",
       "      <th>act_char_1</th>\n",
       "      <th>act_char_2</th>\n",
       "      <th>act_char_3</th>\n",
       "      <th>act_char_4</th>\n",
       "      <th>act_char_5</th>\n",
       "      <th>act_char_6</th>\n",
       "      <th>act_char_7</th>\n",
       "      <th>act_char_8</th>\n",
       "      <th>act_char_9</th>\n",
       "      <th>act_char_10</th>\n",
       "      <th>act_total</th>\n",
       "    </tr>\n",
       "  </thead>\n",
       "  <tbody>\n",
       "    <tr>\n",
       "      <td>0</td>\n",
       "      <td>type 1</td>\n",
       "      <td>0</td>\n",
       "      <td>92784</td>\n",
       "      <td>92784</td>\n",
       "      <td>92784</td>\n",
       "      <td>92784</td>\n",
       "      <td>92784</td>\n",
       "      <td>92784</td>\n",
       "      <td>92784</td>\n",
       "      <td>92784</td>\n",
       "      <td>92784</td>\n",
       "      <td>0</td>\n",
       "      <td>92784</td>\n",
       "    </tr>\n",
       "    <tr>\n",
       "      <td>1</td>\n",
       "      <td>type 1</td>\n",
       "      <td>1</td>\n",
       "      <td>64831</td>\n",
       "      <td>64831</td>\n",
       "      <td>64831</td>\n",
       "      <td>64831</td>\n",
       "      <td>64831</td>\n",
       "      <td>64831</td>\n",
       "      <td>64831</td>\n",
       "      <td>64831</td>\n",
       "      <td>64831</td>\n",
       "      <td>0</td>\n",
       "      <td>64831</td>\n",
       "    </tr>\n",
       "    <tr>\n",
       "      <td>2</td>\n",
       "      <td>type 2</td>\n",
       "      <td>0</td>\n",
       "      <td>0</td>\n",
       "      <td>0</td>\n",
       "      <td>0</td>\n",
       "      <td>0</td>\n",
       "      <td>0</td>\n",
       "      <td>0</td>\n",
       "      <td>0</td>\n",
       "      <td>0</td>\n",
       "      <td>0</td>\n",
       "      <td>443002</td>\n",
       "      <td>443002</td>\n",
       "    </tr>\n",
       "    <tr>\n",
       "      <td>3</td>\n",
       "      <td>type 2</td>\n",
       "      <td>1</td>\n",
       "      <td>0</td>\n",
       "      <td>0</td>\n",
       "      <td>0</td>\n",
       "      <td>0</td>\n",
       "      <td>0</td>\n",
       "      <td>0</td>\n",
       "      <td>0</td>\n",
       "      <td>0</td>\n",
       "      <td>0</td>\n",
       "      <td>461681</td>\n",
       "      <td>461681</td>\n",
       "    </tr>\n",
       "    <tr>\n",
       "      <td>4</td>\n",
       "      <td>type 3</td>\n",
       "      <td>0</td>\n",
       "      <td>0</td>\n",
       "      <td>0</td>\n",
       "      <td>0</td>\n",
       "      <td>0</td>\n",
       "      <td>0</td>\n",
       "      <td>0</td>\n",
       "      <td>0</td>\n",
       "      <td>0</td>\n",
       "      <td>0</td>\n",
       "      <td>321202</td>\n",
       "      <td>321202</td>\n",
       "    </tr>\n",
       "    <tr>\n",
       "      <td>5</td>\n",
       "      <td>type 3</td>\n",
       "      <td>1</td>\n",
       "      <td>0</td>\n",
       "      <td>0</td>\n",
       "      <td>0</td>\n",
       "      <td>0</td>\n",
       "      <td>0</td>\n",
       "      <td>0</td>\n",
       "      <td>0</td>\n",
       "      <td>0</td>\n",
       "      <td>0</td>\n",
       "      <td>108206</td>\n",
       "      <td>108206</td>\n",
       "    </tr>\n",
       "    <tr>\n",
       "      <td>6</td>\n",
       "      <td>type 4</td>\n",
       "      <td>0</td>\n",
       "      <td>0</td>\n",
       "      <td>0</td>\n",
       "      <td>0</td>\n",
       "      <td>0</td>\n",
       "      <td>0</td>\n",
       "      <td>0</td>\n",
       "      <td>0</td>\n",
       "      <td>0</td>\n",
       "      <td>0</td>\n",
       "      <td>105972</td>\n",
       "      <td>105972</td>\n",
       "    </tr>\n",
       "    <tr>\n",
       "      <td>7</td>\n",
       "      <td>type 4</td>\n",
       "      <td>1</td>\n",
       "      <td>0</td>\n",
       "      <td>0</td>\n",
       "      <td>0</td>\n",
       "      <td>0</td>\n",
       "      <td>0</td>\n",
       "      <td>0</td>\n",
       "      <td>0</td>\n",
       "      <td>0</td>\n",
       "      <td>0</td>\n",
       "      <td>101493</td>\n",
       "      <td>101493</td>\n",
       "    </tr>\n",
       "    <tr>\n",
       "      <td>8</td>\n",
       "      <td>type 5</td>\n",
       "      <td>0</td>\n",
       "      <td>0</td>\n",
       "      <td>0</td>\n",
       "      <td>0</td>\n",
       "      <td>0</td>\n",
       "      <td>0</td>\n",
       "      <td>0</td>\n",
       "      <td>0</td>\n",
       "      <td>0</td>\n",
       "      <td>0</td>\n",
       "      <td>255050</td>\n",
       "      <td>255050</td>\n",
       "    </tr>\n",
       "    <tr>\n",
       "      <td>9</td>\n",
       "      <td>type 5</td>\n",
       "      <td>1</td>\n",
       "      <td>0</td>\n",
       "      <td>0</td>\n",
       "      <td>0</td>\n",
       "      <td>0</td>\n",
       "      <td>0</td>\n",
       "      <td>0</td>\n",
       "      <td>0</td>\n",
       "      <td>0</td>\n",
       "      <td>0</td>\n",
       "      <td>235660</td>\n",
       "      <td>235660</td>\n",
       "    </tr>\n",
       "    <tr>\n",
       "      <td>10</td>\n",
       "      <td>type 6</td>\n",
       "      <td>0</td>\n",
       "      <td>0</td>\n",
       "      <td>0</td>\n",
       "      <td>0</td>\n",
       "      <td>0</td>\n",
       "      <td>0</td>\n",
       "      <td>0</td>\n",
       "      <td>0</td>\n",
       "      <td>0</td>\n",
       "      <td>0</td>\n",
       "      <td>1889</td>\n",
       "      <td>1889</td>\n",
       "    </tr>\n",
       "    <tr>\n",
       "      <td>11</td>\n",
       "      <td>type 6</td>\n",
       "      <td>1</td>\n",
       "      <td>0</td>\n",
       "      <td>0</td>\n",
       "      <td>0</td>\n",
       "      <td>0</td>\n",
       "      <td>0</td>\n",
       "      <td>0</td>\n",
       "      <td>0</td>\n",
       "      <td>0</td>\n",
       "      <td>0</td>\n",
       "      <td>2364</td>\n",
       "      <td>2364</td>\n",
       "    </tr>\n",
       "    <tr>\n",
       "      <td>12</td>\n",
       "      <td>type 7</td>\n",
       "      <td>0</td>\n",
       "      <td>0</td>\n",
       "      <td>0</td>\n",
       "      <td>0</td>\n",
       "      <td>0</td>\n",
       "      <td>0</td>\n",
       "      <td>0</td>\n",
       "      <td>0</td>\n",
       "      <td>0</td>\n",
       "      <td>0</td>\n",
       "      <td>1895</td>\n",
       "      <td>1895</td>\n",
       "    </tr>\n",
       "    <tr>\n",
       "      <td>13</td>\n",
       "      <td>type 7</td>\n",
       "      <td>1</td>\n",
       "      <td>0</td>\n",
       "      <td>0</td>\n",
       "      <td>0</td>\n",
       "      <td>0</td>\n",
       "      <td>0</td>\n",
       "      <td>0</td>\n",
       "      <td>0</td>\n",
       "      <td>0</td>\n",
       "      <td>0</td>\n",
       "      <td>1262</td>\n",
       "      <td>1262</td>\n",
       "    </tr>\n",
       "  </tbody>\n",
       "</table>\n",
       "</div>"
      ],
      "text/plain": [
       "   activity_category  outcome  act_char_1  act_char_2  act_char_3  act_char_4  \\\n",
       "0             type 1        0       92784       92784       92784       92784   \n",
       "1             type 1        1       64831       64831       64831       64831   \n",
       "2             type 2        0           0           0           0           0   \n",
       "3             type 2        1           0           0           0           0   \n",
       "4             type 3        0           0           0           0           0   \n",
       "5             type 3        1           0           0           0           0   \n",
       "6             type 4        0           0           0           0           0   \n",
       "7             type 4        1           0           0           0           0   \n",
       "8             type 5        0           0           0           0           0   \n",
       "9             type 5        1           0           0           0           0   \n",
       "10            type 6        0           0           0           0           0   \n",
       "11            type 6        1           0           0           0           0   \n",
       "12            type 7        0           0           0           0           0   \n",
       "13            type 7        1           0           0           0           0   \n",
       "\n",
       "    act_char_5  act_char_6  act_char_7  act_char_8  act_char_9  act_char_10  \\\n",
       "0        92784       92784       92784       92784       92784            0   \n",
       "1        64831       64831       64831       64831       64831            0   \n",
       "2            0           0           0           0           0       443002   \n",
       "3            0           0           0           0           0       461681   \n",
       "4            0           0           0           0           0       321202   \n",
       "5            0           0           0           0           0       108206   \n",
       "6            0           0           0           0           0       105972   \n",
       "7            0           0           0           0           0       101493   \n",
       "8            0           0           0           0           0       255050   \n",
       "9            0           0           0           0           0       235660   \n",
       "10           0           0           0           0           0         1889   \n",
       "11           0           0           0           0           0         2364   \n",
       "12           0           0           0           0           0         1895   \n",
       "13           0           0           0           0           0         1262   \n",
       "\n",
       "    act_total  \n",
       "0       92784  \n",
       "1       64831  \n",
       "2      443002  \n",
       "3      461681  \n",
       "4      321202  \n",
       "5      108206  \n",
       "6      105972  \n",
       "7      101493  \n",
       "8      255050  \n",
       "9      235660  \n",
       "10       1889  \n",
       "11       2364  \n",
       "12       1895  \n",
       "13       1262  "
      ]
     },
     "execution_count": 13,
     "metadata": {},
     "output_type": "execute_result"
    }
   ],
   "source": [
    "ac_pl_merge_perc = ac_pl_merge.groupby(['activity_category','outcome'])['act_char_1','act_char_2', 'act_char_3', 'act_char_4', 'act_char_5', 'act_char_6', 'act_char_7', 'act_char_8',\n",
    "       'act_char_9', 'act_char_10'].count().reset_index()\n",
    "ac_pl_merge_perc['act_total'] = ac_pl_merge_perc['act_char_9'] + ac_pl_merge_perc['act_char_10']\n",
    "ac_pl_merge_perc"
   ]
  },
  {
   "cell_type": "code",
   "execution_count": 17,
   "metadata": {},
   "outputs": [
    {
     "data": {
      "text/plain": [
       "<matplotlib.axes._subplots.AxesSubplot at 0xa983f3cb48>"
      ]
     },
     "execution_count": 17,
     "metadata": {},
     "output_type": "execute_result"
    },
    {
     "data": {
      "image/png": "[encoded data removed]",
      "text/plain": [
       "<Figure size 432x288 with 1 Axes>"
      ]
     },
     "metadata": {
      "needs_background": "light"
     },
     "output_type": "display_data"
    }
   ],
   "source": [
    "sns.barplot('activity_category', 'act_total', data=ac_pl_merge_perc, ci=False, hue='outcome')"
   ]
  },
  {
   "cell_type": "code",
   "execution_count": 10,
   "metadata": {},
   "outputs": [
    {
     "data": {
      "text/html": [
       "<div>\n",
       "<style scoped>\n",
       "    .dataframe tbody tr th:only-of-type {\n",
       "        vertical-align: middle;\n",
       "    }\n",
       "\n",
       "    .dataframe tbody tr th {\n",
       "        vertical-align: top;\n",
       "    }\n",
       "\n",
       "    .dataframe thead th {\n",
       "        text-align: right;\n",
       "    }\n",
       "</style>\n",
       "<table border=\"1\" class=\"dataframe\">\n",
       "  <thead>\n",
       "    <tr style=\"text-align: right;\">\n",
       "      <th></th>\n",
       "      <th>activity_category</th>\n",
       "      <th>outcome</th>\n",
       "      <th>act_char_9</th>\n",
       "      <th>act_char_10</th>\n",
       "    </tr>\n",
       "  </thead>\n",
       "  <tbody>\n",
       "    <tr>\n",
       "      <td>0</td>\n",
       "      <td>type 1</td>\n",
       "      <td>0</td>\n",
       "      <td>92784</td>\n",
       "      <td>0</td>\n",
       "    </tr>\n",
       "    <tr>\n",
       "      <td>1</td>\n",
       "      <td>type 1</td>\n",
       "      <td>1</td>\n",
       "      <td>64831</td>\n",
       "      <td>0</td>\n",
       "    </tr>\n",
       "    <tr>\n",
       "      <td>2</td>\n",
       "      <td>type 2</td>\n",
       "      <td>0</td>\n",
       "      <td>0</td>\n",
       "      <td>443002</td>\n",
       "    </tr>\n",
       "    <tr>\n",
       "      <td>3</td>\n",
       "      <td>type 2</td>\n",
       "      <td>1</td>\n",
       "      <td>0</td>\n",
       "      <td>461681</td>\n",
       "    </tr>\n",
       "    <tr>\n",
       "      <td>4</td>\n",
       "      <td>type 3</td>\n",
       "      <td>0</td>\n",
       "      <td>0</td>\n",
       "      <td>321202</td>\n",
       "    </tr>\n",
       "    <tr>\n",
       "      <td>5</td>\n",
       "      <td>type 3</td>\n",
       "      <td>1</td>\n",
       "      <td>0</td>\n",
       "      <td>108206</td>\n",
       "    </tr>\n",
       "    <tr>\n",
       "      <td>6</td>\n",
       "      <td>type 4</td>\n",
       "      <td>0</td>\n",
       "      <td>0</td>\n",
       "      <td>105972</td>\n",
       "    </tr>\n",
       "    <tr>\n",
       "      <td>7</td>\n",
       "      <td>type 4</td>\n",
       "      <td>1</td>\n",
       "      <td>0</td>\n",
       "      <td>101493</td>\n",
       "    </tr>\n",
       "    <tr>\n",
       "      <td>8</td>\n",
       "      <td>type 5</td>\n",
       "      <td>0</td>\n",
       "      <td>0</td>\n",
       "      <td>255050</td>\n",
       "    </tr>\n",
       "    <tr>\n",
       "      <td>9</td>\n",
       "      <td>type 5</td>\n",
       "      <td>1</td>\n",
       "      <td>0</td>\n",
       "      <td>235660</td>\n",
       "    </tr>\n",
       "    <tr>\n",
       "      <td>10</td>\n",
       "      <td>type 6</td>\n",
       "      <td>0</td>\n",
       "      <td>0</td>\n",
       "      <td>1889</td>\n",
       "    </tr>\n",
       "    <tr>\n",
       "      <td>11</td>\n",
       "      <td>type 6</td>\n",
       "      <td>1</td>\n",
       "      <td>0</td>\n",
       "      <td>2364</td>\n",
       "    </tr>\n",
       "    <tr>\n",
       "      <td>12</td>\n",
       "      <td>type 7</td>\n",
       "      <td>0</td>\n",
       "      <td>0</td>\n",
       "      <td>1895</td>\n",
       "    </tr>\n",
       "    <tr>\n",
       "      <td>13</td>\n",
       "      <td>type 7</td>\n",
       "      <td>1</td>\n",
       "      <td>0</td>\n",
       "      <td>1262</td>\n",
       "    </tr>\n",
       "  </tbody>\n",
       "</table>\n",
       "</div>"
      ],
      "text/plain": [
       "   activity_category  outcome  act_char_9  act_char_10\n",
       "0             type 1        0       92784            0\n",
       "1             type 1        1       64831            0\n",
       "2             type 2        0           0       443002\n",
       "3             type 2        1           0       461681\n",
       "4             type 3        0           0       321202\n",
       "5             type 3        1           0       108206\n",
       "6             type 4        0           0       105972\n",
       "7             type 4        1           0       101493\n",
       "8             type 5        0           0       255050\n",
       "9             type 5        1           0       235660\n",
       "10            type 6        0           0         1889\n",
       "11            type 6        1           0         2364\n",
       "12            type 7        0           0         1895\n",
       "13            type 7        1           0         1262"
      ]
     },
     "execution_count": 10,
     "metadata": {},
     "output_type": "execute_result"
    }
   ],
   "source": [
    "ac_pl_merge_perc = ac_pl_merge.groupby(['activity_category','outcome'])['act_char_9', 'act_char_10'].count().reset_index()\n",
    "ac_pl_merge_perc[]"
   ]
  },
  {
   "cell_type": "code",
   "execution_count": null,
   "metadata": {},
   "outputs": [],
   "source": [
    "# ac_pl_merge_perc['percentage'] = ac_pl_merge_perc\n",
    "new_col=[]\n",
    "if "
   ]
  },
  {
   "cell_type": "code",
   "execution_count": null,
   "metadata": {},
   "outputs": [],
   "source": [
    "ac_pl_merge.outcome.value_counts()"
   ]
  },
  {
   "cell_type": "code",
   "execution_count": null,
   "metadata": {},
   "outputs": [],
   "source": []
  },
  {
   "cell_type": "code",
   "execution_count": 24,
   "metadata": {},
   "outputs": [
    {
     "data": {
      "text/html": [
       "<div>\n",
       "<style scoped>\n",
       "    .dataframe tbody tr th:only-of-type {\n",
       "        vertical-align: middle;\n",
       "    }\n",
       "\n",
       "    .dataframe tbody tr th {\n",
       "        vertical-align: top;\n",
       "    }\n",
       "\n",
       "    .dataframe thead th {\n",
       "        text-align: right;\n",
       "    }\n",
       "</style>\n",
       "<table border=\"1\" class=\"dataframe\">\n",
       "  <thead>\n",
       "    <tr style=\"text-align: right;\">\n",
       "      <th></th>\n",
       "      <th>activity_category</th>\n",
       "      <th>outcome</th>\n",
       "      <th>count</th>\n",
       "    </tr>\n",
       "  </thead>\n",
       "  <tbody>\n",
       "    <tr>\n",
       "      <td>0</td>\n",
       "      <td>type 1</td>\n",
       "      <td>0</td>\n",
       "      <td>92784</td>\n",
       "    </tr>\n",
       "    <tr>\n",
       "      <td>1</td>\n",
       "      <td>type 1</td>\n",
       "      <td>1</td>\n",
       "      <td>64831</td>\n",
       "    </tr>\n",
       "    <tr>\n",
       "      <td>2</td>\n",
       "      <td>type 2</td>\n",
       "      <td>0</td>\n",
       "      <td>443002</td>\n",
       "    </tr>\n",
       "    <tr>\n",
       "      <td>3</td>\n",
       "      <td>type 2</td>\n",
       "      <td>1</td>\n",
       "      <td>461681</td>\n",
       "    </tr>\n",
       "    <tr>\n",
       "      <td>4</td>\n",
       "      <td>type 3</td>\n",
       "      <td>0</td>\n",
       "      <td>321202</td>\n",
       "    </tr>\n",
       "    <tr>\n",
       "      <td>5</td>\n",
       "      <td>type 3</td>\n",
       "      <td>1</td>\n",
       "      <td>108206</td>\n",
       "    </tr>\n",
       "    <tr>\n",
       "      <td>6</td>\n",
       "      <td>type 4</td>\n",
       "      <td>0</td>\n",
       "      <td>105972</td>\n",
       "    </tr>\n",
       "    <tr>\n",
       "      <td>7</td>\n",
       "      <td>type 4</td>\n",
       "      <td>1</td>\n",
       "      <td>101493</td>\n",
       "    </tr>\n",
       "    <tr>\n",
       "      <td>8</td>\n",
       "      <td>type 5</td>\n",
       "      <td>0</td>\n",
       "      <td>255050</td>\n",
       "    </tr>\n",
       "    <tr>\n",
       "      <td>9</td>\n",
       "      <td>type 5</td>\n",
       "      <td>1</td>\n",
       "      <td>235660</td>\n",
       "    </tr>\n",
       "    <tr>\n",
       "      <td>10</td>\n",
       "      <td>type 6</td>\n",
       "      <td>0</td>\n",
       "      <td>1889</td>\n",
       "    </tr>\n",
       "    <tr>\n",
       "      <td>11</td>\n",
       "      <td>type 6</td>\n",
       "      <td>1</td>\n",
       "      <td>2364</td>\n",
       "    </tr>\n",
       "    <tr>\n",
       "      <td>12</td>\n",
       "      <td>type 7</td>\n",
       "      <td>0</td>\n",
       "      <td>1895</td>\n",
       "    </tr>\n",
       "    <tr>\n",
       "      <td>13</td>\n",
       "      <td>type 7</td>\n",
       "      <td>1</td>\n",
       "      <td>1262</td>\n",
       "    </tr>\n",
       "  </tbody>\n",
       "</table>\n",
       "</div>"
      ],
      "text/plain": [
       "   activity_category  outcome   count\n",
       "0             type 1        0   92784\n",
       "1             type 1        1   64831\n",
       "2             type 2        0  443002\n",
       "3             type 2        1  461681\n",
       "4             type 3        0  321202\n",
       "5             type 3        1  108206\n",
       "6             type 4        0  105972\n",
       "7             type 4        1  101493\n",
       "8             type 5        0  255050\n",
       "9             type 5        1  235660\n",
       "10            type 6        0    1889\n",
       "11            type 6        1    2364\n",
       "12            type 7        0    1895\n",
       "13            type 7        1    1262"
      ]
     },
     "execution_count": 24,
     "metadata": {},
     "output_type": "execute_result"
    }
   ],
   "source": [
    "type_outcome = ac_pl_merge.groupby(['activity_category','outcome'])['people_id'].count().reset_index()\n",
    "type_outcome.columns=['activity_category','outcome','count']\n",
    "type_outcome"
   ]
  },
  {
   "cell_type": "code",
   "execution_count": 48,
   "metadata": {},
   "outputs": [
    {
     "data": {
      "text/plain": [
       "<matplotlib.axes._subplots.AxesSubplot at 0xa99bdd0708>"
      ]
     },
     "execution_count": 48,
     "metadata": {},
     "output_type": "execute_result"
    },
    {
     "data": {
      "image/png": "[encoded data removed]",
      "text/plain": [
       "<Figure size 432x288 with 1 Axes>"
      ]
     },
     "metadata": {
      "needs_background": "light"
     },
     "output_type": "display_data"
    }
   ],
   "source": [
    "sns.countplot('outcome', data=ac_pl_merge)"
   ]
  },
  {
   "cell_type": "markdown",
   "metadata": {},
   "source": [
    "H0: There is no difference in the mean of pl_char_38 with respect to  postive outcomes(business value) and no outcome \n",
    "H1: There is a difference in  the mean of pl_char_38 with respec to  postive outcomes(business value) and no outcome (Claim)"
   ]
  },
  {
   "cell_type": "code",
   "execution_count": 50,
   "metadata": {},
   "outputs": [
    {
     "data": {
      "text/plain": [
       "Ttest_indResult(statistic=-1446.7458801234332, pvalue=0.0)"
      ]
     },
     "execution_count": 50,
     "metadata": {},
     "output_type": "execute_result"
    }
   ],
   "source": [
    "ac_pl_merge_0 = ac_pl_merge['outcome'] == 0\n",
    "ac_pl_merge_1 = ac_pl_merge['outcome'] == 1\n",
    "ac_pl_merge[ac_pl_merge_1].columns\n",
    "stats.ttest_ind(ac_pl_merge[ac_pl_merge_0]['pl_char_38'], ac_pl_merge[ac_pl_merge_1]['pl_char_38'], equal_var=False)"
   ]
  },
  {
   "cell_type": "markdown",
   "metadata": {},
   "source": [
    "Decision: There is enough evidance to reject the null hypothesis, that "
   ]
  },
  {
   "cell_type": "code",
   "execution_count": 25,
   "metadata": {},
   "outputs": [
    {
     "data": {
      "image/png": "[encoded data removed]",
      "text/plain": [
       "<Figure size 432x288 with 1 Axes>"
      ]
     },
     "metadata": {
      "needs_background": "light"
     },
     "output_type": "display_data"
    }
   ],
   "source": [
    "ax=ac_pl_merge.outcome.value_counts().plot(kind='bar', color='red')\n",
    "totals = []\n",
    "for i in ax.patches:\n",
    "    totals.append(i.get_height())\n",
    "total = sum(totals)\n",
    "\n",
    "for i in ax.patches:\n",
    "    ax.text(i.get_x()-.0, i.get_height()+5, \\\n",
    "            str(round((i.get_height()/total)*100, 2))+'%', fontsize=15,\n",
    "                color='blue')"
   ]
  },
  {
   "cell_type": "code",
   "execution_count": null,
   "metadata": {},
   "outputs": [],
   "source": []
  },
  {
   "cell_type": "code",
   "execution_count": 26,
   "metadata": {},
   "outputs": [
    {
     "data": {
      "text/plain": [
       "<matplotlib.axes._subplots.AxesSubplot at 0xa98416dd08>"
      ]
     },
     "execution_count": 26,
     "metadata": {},
     "output_type": "execute_result"
    },
    {
     "data": {
      "image/png": "[encoded data removed]",
      "text/plain": [
       "<Figure size 720x360 with 1 Axes>"
      ]
     },
     "metadata": {
      "needs_background": "light"
     },
     "output_type": "display_data"
    }
   ],
   "source": [
    "# ac.groupby(['activity_category','outcome'])['people_id'].count().reset_index().plot(kind='bar', stacked=True)\n",
    "# ac.groupby(['activity_category'])['outcome'].count().reset_index().plot(kind='bar')\n",
    "plt.figure(figsize=(10,5))\n",
    "sns.barplot('activity_category', 'count', data=type_outcome, ci=False, hue='outcome')"
   ]
  },
  {
   "cell_type": "markdown",
   "metadata": {},
   "source": [
    "Type2 and type5 activities have higher probablity to give a positive outcome(business value) compared to remaining five activities. However, type3 activity has the highest probablity of giving a negative outcome(business value). "
   ]
  },
  {
   "cell_type": "code",
   "execution_count": 34,
   "metadata": {},
   "outputs": [
    {
     "data": {
      "text/plain": [
       "1    461681\n",
       "0    443002\n",
       "Name: outcome, dtype: int64"
      ]
     },
     "execution_count": 34,
     "metadata": {},
     "output_type": "execute_result"
    }
   ],
   "source": [
    "ac_pl_merge['activity_category'].value_counts()\n",
    "ac_pl_merge_type2 = ac_pl_merge[ac_pl_merge['activity_category'] == 'type 2']\n",
    "ac_pl_merge_type2.outcome.value_counts()"
   ]
  },
  {
   "cell_type": "code",
   "execution_count": null,
   "metadata": {},
   "outputs": [],
   "source": [
    "ac_pl_merge_type2.outcome.plot(kind='bar')"
   ]
  },
  {
   "cell_type": "code",
   "execution_count": null,
   "metadata": {},
   "outputs": [],
   "source": [
    "# plt.figure(figsize=(10,5))\n",
    "# sns.countplot('activity_category', data=ac_pl_merge, hue='outcome')"
   ]
  },
  {
   "cell_type": "code",
   "execution_count": 35,
   "metadata": {},
   "outputs": [
    {
     "data": {
      "text/plain": [
       "<matplotlib.axes._subplots.AxesSubplot at 0xaa962ee788>"
      ]
     },
     "execution_count": 35,
     "metadata": {},
     "output_type": "execute_result"
    },
    {
     "data": {
      "image/png": "[encoded data removed]",
      "text/plain": [
       "<Figure size 720x360 with 1 Axes>"
      ]
     },
     "metadata": {
      "needs_background": "light"
     },
     "output_type": "display_data"
    }
   ],
   "source": [
    "# sns.barplot('activity_category', 'people_id', data=type_outcome, ci=False,  hue='outcome',stacked=True)\n",
    "# type_outcome.plot(kind='bar', stacked=True)\n",
    "plt.figure(figsize=(10,5))\n",
    "sns.barplot('outcome', 'count', data=type_outcome, ci=False, hue='activity_category')"
   ]
  },
  {
   "cell_type": "code",
   "execution_count": null,
   "metadata": {},
   "outputs": [],
   "source": [
    "ac_pl_merge.groupby(['activity_category','outcome'])['act_char_1',\n",
    "       'act_char_2', 'act_char_3', 'act_char_4', 'act_char_5', 'act_char_6', 'act_char_7', 'act_char_8',\n",
    "       'act_char_9', 'act_char_10'].count()"
   ]
  },
  {
   "cell_type": "code",
   "execution_count": null,
   "metadata": {},
   "outputs": [],
   "source": [
    "pl.head(1)"
   ]
  },
  {
   "cell_type": "code",
   "execution_count": null,
   "metadata": {},
   "outputs": [],
   "source": [
    "# ac[ac.people_id.value_counts().head(32).reset_index()['index']]\n",
    "repeated_customer=ac_pl_merge.people_id.value_counts().head(500).reset_index()\n",
    "# ac.loc[ac.people_id == ac[ac.people_id.value_counts().head(32).reset_index()['index']]]\n",
    "# mask1= ac[ac['people_id'] == ac.people_id.value_counts().head(32).reset_index().head(1)['index']]\n",
    "# ac.loc[ac.people_id == ac.people_id.value_counts().head(32).reset_index().head(1)['index'],:]\n",
    "repeated_customer.people_id.sum()\n",
    "# for i in mask:\n",
    "#     if i in ac['people_id']:\n",
    "#         print(ac[i])\n",
    "ac_pl_merge.loc[ac_pl_merge.people_id == \"ppl_247868\",]['outcome'].value_counts()"
   ]
  },
  {
   "cell_type": "code",
   "execution_count": 36,
   "metadata": {},
   "outputs": [
    {
     "data": {
      "text/plain": [
       "<matplotlib.axes._subplots.AxesSubplot at 0xa99b8e15c8>"
      ]
     },
     "execution_count": 36,
     "metadata": {},
     "output_type": "execute_result"
    },
    {
     "data": {
      "image/png": "[encoded data removed]",
      "text/plain": [
       "<Figure size 504x360 with 1 Axes>"
      ]
     },
     "metadata": {
      "needs_background": "light"
     },
     "output_type": "display_data"
    }
   ],
   "source": [
    "plt.figure(figsize=(7,5))\n",
    "sns.boxplot('outcome', 'pl_char_38', data=ac_pl_merge, hue='outcome', orient='v')"
   ]
  },
  {
   "cell_type": "code",
   "execution_count": null,
   "metadata": {},
   "outputs": [],
   "source": [
    "import statsmodels.api as sm \n",
    "sm.qqplot(ac_pl_merge['pl_char_38']) \n"
   ]
  },
  {
   "cell_type": "code",
   "execution_count": null,
   "metadata": {},
   "outputs": [],
   "source": [
    "customer_count = ac_pl_merge.people_id.value_counts().reset_index()\n",
    "customer_count.columns=['cust_id', 'No_act']\n",
    "customer_count.shape[0]\n",
    "one_time_customer = customer_count[customer_count['No_act'] < 2].count()\n",
    "repeated_customer = customer_count[customer_count['No_act'] > 1].count()\n",
    "one_time_customer, repeated_customer"
   ]
  },
  {
   "cell_type": "code",
   "execution_count": null,
   "metadata": {},
   "outputs": [],
   "source": []
  },
  {
   "cell_type": "code",
   "execution_count": null,
   "metadata": {},
   "outputs": [],
   "source": [
    "# pl_month_count = ac_pl_merge.pl_date.dt.month.value_counts().sort_values().reset_index().sort_values('index')\n",
    "# pl_month_count.columns=['month', 'count']\n",
    "# sns.barplot('month', 'count', data=pl_month_count)"
   ]
  },
  {
   "cell_type": "code",
   "execution_count": null,
   "metadata": {},
   "outputs": [],
   "source": [
    "# ac_month_count = ac_pl_merge.act_date.dt.month.value_counts().sort_values().reset_index().sort_values('index')\n",
    "# ac_month_count.columns=['month', 'count']\n",
    "# sns.barplot('month', 'count', data=ac_month_count)"
   ]
  },
  {
   "cell_type": "code",
   "execution_count": 39,
   "metadata": {},
   "outputs": [
    {
     "data": {
      "text/plain": [
       "(1221794, 55)"
      ]
     },
     "execution_count": 39,
     "metadata": {},
     "output_type": "execute_result"
    }
   ],
   "source": [
    "df_outcome_1=ac_pl_merge[ac_pl_merge['outcome'] == 1]\n",
    "df_outcome_1.shape\n",
    "df_outcome_0=ac_pl_merge[ac_pl_merge['outcome'] == 0]\n",
    "df_outcome_0.shape\n"
   ]
  },
  {
   "cell_type": "code",
   "execution_count": 42,
   "metadata": {},
   "outputs": [
    {
     "data": {
      "text/plain": [
       "<matplotlib.axes._subplots.AxesSubplot at 0xa99bb38088>"
      ]
     },
     "execution_count": 42,
     "metadata": {},
     "output_type": "execute_result"
    },
    {
     "data": {
      "image/png": "[encoded data removed]",
      "text/plain": [
       "<Figure size 432x288 with 1 Axes>"
      ]
     },
     "metadata": {
      "needs_background": "light"
     },
     "output_type": "display_data"
    }
   ],
   "source": [
    "df_outcome_1_month_count = df_outcome_1.act_date.dt.month.value_counts().sort_values().reset_index().sort_values('index')\n",
    "df_outcome_1_month_count.columns=['month', 'count']\n",
    "month_map = {1:'Jan', 2:'Feb', 3:'Mar', 4:'Apr', 5:'May', 6:'Jun', \n",
    "              7:'Jul', 8:'Aug', 9:'Sep', 10:'Oct', 11:'Nov', 12:'Dec'}\n",
    "df_outcome_1_month_count.month = df_outcome_1_month_count.month.replace(month_map)\n",
    "sns.barplot('month', 'count', data=df_outcome_1_month_count)"
   ]
  },
  {
   "cell_type": "code",
   "execution_count": 43,
   "metadata": {},
   "outputs": [
    {
     "data": {
      "text/plain": [
       "<matplotlib.axes._subplots.AxesSubplot at 0xa99bbf1908>"
      ]
     },
     "execution_count": 43,
     "metadata": {},
     "output_type": "execute_result"
    },
    {
     "data": {
      "image/png": "[encoded data removed]",
      "text/plain": [
       "<Figure size 432x288 with 1 Axes>"
      ]
     },
     "metadata": {
      "needs_background": "light"
     },
     "output_type": "display_data"
    }
   ],
   "source": [
    "df_outcome_0_month_count = df_outcome_0.act_date.dt.month.value_counts().sort_values().reset_index().sort_values('index')\n",
    "df_outcome_0_month_count.columns=['month', 'count']\n",
    "month_map = {1:'Jan', 2:'Feb', 3:'Mar', 4:'Apr', 5:'May', 6:'Jun', \n",
    "              7:'Jul', 8:'Aug', 9:'Sep', 10:'Oct', 11:'Nov', 12:'Dec'}\n",
    "df_outcome_0_month_count.month = df_outcome_0_month_count.month.replace(month_map)\n",
    "sns.barplot('month', 'count', data=df_outcome_0_month_count)"
   ]
  },
  {
   "cell_type": "code",
   "execution_count": 41,
   "metadata": {},
   "outputs": [
    {
     "data": {
      "text/plain": [
       "(array([0, 1, 2, 3, 4, 5, 6]), <a list of 7 Text xticklabel objects>)"
      ]
     },
     "execution_count": 41,
     "metadata": {},
     "output_type": "execute_result"
    },
    {
     "data": {
      "image/png": "[encoded data removed]",
      "text/plain": [
       "<Figure size 432x288 with 1 Axes>"
      ]
     },
     "metadata": {
      "needs_background": "light"
     },
     "output_type": "display_data"
    }
   ],
   "source": [
    "df_outcome_1_weekday_count = df_outcome_1.act_date.dt.weekday.value_counts().sort_values().reset_index().sort_values('index') # Sunday is 0.\n",
    "df_outcome_1_weekday_count.columns=['weekday', 'count']\n",
    "# df_outcome_1_weekday_count.weekday.replace(0,'Monday')\n",
    "weekday_map = {0:'Sunday', 1:'Monday', 2:'Tuesday', 3:'Wednesday', 4:'Thursday', 5:'Friday', 6:'Saturday'}\n",
    "df_outcome_1_weekday_count.weekday = df_outcome_1_weekday_count.weekday.replace(weekday_map)\n",
    "\n",
    "sns.barplot('weekday', 'count', data=df_outcome_1_weekday_count)\n",
    "plt.xticks(rotation = 45)\n",
    "# df_outcome_1_weekday_count"
   ]
  },
  {
   "cell_type": "code",
   "execution_count": 44,
   "metadata": {},
   "outputs": [
    {
     "data": {
      "text/plain": [
       "(array([0, 1, 2, 3, 4, 5, 6]), <a list of 7 Text xticklabel objects>)"
      ]
     },
     "execution_count": 44,
     "metadata": {},
     "output_type": "execute_result"
    },
    {
     "data": {
      "image/png": "[encoded data removed]",
      "text/plain": [
       "<Figure size 432x288 with 1 Axes>"
      ]
     },
     "metadata": {
      "needs_background": "light"
     },
     "output_type": "display_data"
    }
   ],
   "source": [
    "df_outcome_0_weekday_count = df_outcome_0.act_date.dt.weekday.value_counts().sort_values().reset_index().sort_values('index') # Sunday is 0.\n",
    "df_outcome_0_weekday_count.columns=['weekday', 'count']\n",
    "# df_outcome_1_weekday_count.weekday.replace(0,'Monday')\n",
    "weekday_map = {0:'Sunday', 1:'Monday', 2:'Tuesday', 3:'Wednesday', 4:'Thursday', 5:'Friday', 6:'Saturday'}\n",
    "df_outcome_0_weekday_count.weekday = df_outcome_0_weekday_count.weekday.replace(weekday_map)\n",
    "\n",
    "sns.barplot('weekday', 'count', data=df_outcome_0_weekday_count)\n",
    "plt.xticks(rotation = 45)"
   ]
  },
  {
   "cell_type": "code",
   "execution_count": null,
   "metadata": {},
   "outputs": [],
   "source": [
    "# ac.groupby(['activity_category','outcome']).count()\n",
    "ac_pl_merge.pl_date.dt.year.value_counts().sort_values()\n",
    "# pl.date.dt.year.value_counts().sort_values().plot(kind='bar')\n",
    "ac_pl_merge.outcome.value_counts()"
   ]
  },
  {
   "cell_type": "code",
   "execution_count": 45,
   "metadata": {},
   "outputs": [
    {
     "data": {
      "text/plain": [
       "Text(0.5, 1.0, 'Activities Count by Year')"
      ]
     },
     "execution_count": 45,
     "metadata": {},
     "output_type": "execute_result"
    },
    {
     "data": {
      "image/png": "[encoded data removed]",
      "text/plain": [
       "<Figure size 432x288 with 1 Axes>"
      ]
     },
     "metadata": {
      "needs_background": "light"
     },
     "output_type": "display_data"
    }
   ],
   "source": [
    "# ac.groupby(['outcome'])['char_1',\n",
    "#        'char_2', 'char_3', 'char_4', 'char_5', 'char_6', 'char_7', 'char_8',\n",
    "# #        'char_9', 'char_10'].count().plot(kind='bar', stacked=True)\n",
    "# ac.date.dt.year.value_counts().reset_index().plot(kind='bar')\n",
    "ac_date_year=ac_pl_merge.act_date.dt.year.value_counts().reset_index()\n",
    "sns.barplot('index', 'act_date',data=ac_date_year)\n",
    "plt.xlabel('Year')\n",
    "plt.ylabel('Count')\n",
    "plt.title('Activities Count by Year')"
   ]
  },
  {
   "cell_type": "code",
   "execution_count": 46,
   "metadata": {},
   "outputs": [
    {
     "data": {
      "text/plain": [
       "Text(0.5, 1.0, 'Activities Count by Year')"
      ]
     },
     "execution_count": 46,
     "metadata": {},
     "output_type": "execute_result"
    },
    {
     "data": {
      "image/png": "[encoded data removed]",
      "text/plain": [
       "<Figure size 432x288 with 1 Axes>"
      ]
     },
     "metadata": {
      "needs_background": "light"
     },
     "output_type": "display_data"
    }
   ],
   "source": [
    "# ac_date_year=ac.date.dt.year.value_counts().reset_index()\n",
    "sns.countplot(ac_pl_merge['act_date'].dt.year, data=ac_pl_merge, hue='outcome')\n",
    "# sns.barplot('index', 'date',data=ac_date_year)\n",
    "plt.xlabel('Year')\n",
    "plt.ylabel('Count')\n",
    "plt.title('Activities Count by Year')"
   ]
  },
  {
   "cell_type": "code",
   "execution_count": 54,
   "metadata": {},
   "outputs": [
    {
     "data": {
      "text/plain": [
       "Ttest_indResult(statistic=2.59177386864287, pvalue=0.009548393792587564)"
      ]
     },
     "execution_count": 54,
     "metadata": {},
     "output_type": "execute_result"
    }
   ],
   "source": [
    "ac_pl_merge_2022 = ac_pl_merge[ac_pl_merge['act_date'].dt.year == 2022]  \n",
    "ac_pl_merge_2023 = ac_pl_merge[ac_pl_merge['act_date'].dt.year == 2023]  \n",
    "stats.ttest_ind(ac_pl_merge_2022[ac_pl_merge_2022['outcome'] == 1]['pl_char_38'], ac_pl_merge_2023[ac_pl_merge_2023['outcome'] == 1]['pl_char_38'], equal_var=False)"
   ]
  },
  {
   "cell_type": "code",
   "execution_count": 47,
   "metadata": {},
   "outputs": [
    {
     "data": {
      "text/plain": [
       "<matplotlib.axes._subplots.AxesSubplot at 0xa99bde8c88>"
      ]
     },
     "execution_count": 47,
     "metadata": {},
     "output_type": "execute_result"
    },
    {
     "data": {
      "image/png": "[encoded data removed]",
      "text/plain": [
       "<Figure size 432x288 with 1 Axes>"
      ]
     },
     "metadata": {
      "needs_background": "light"
     },
     "output_type": "display_data"
    }
   ],
   "source": [
    "sns.countplot('act_char_8', data=ac_pl_merge, hue='outcome')"
   ]
  },
  {
   "cell_type": "code",
   "execution_count": null,
   "metadata": {},
   "outputs": [],
   "source": [
    "ac_pl_merge.act_char_6.value_counts()"
   ]
  },
  {
   "cell_type": "code",
   "execution_count": null,
   "metadata": {},
   "outputs": [],
   "source": [
    "# plt.stackplot('outcome','pl_char_38',data=ac_pl_merge)"
   ]
  },
  {
   "cell_type": "code",
   "execution_count": null,
   "metadata": {},
   "outputs": [],
   "source": [
    "ac_pl_merge_0 = ac_pl_merge['outcome'] == 0\n",
    "ac_pl_merge_1 = ac_pl_merge['outcome'] == 1\n",
    "ac_pl_merge[ac_pl_merge_1].columns"
   ]
  },
  {
   "cell_type": "code",
   "execution_count": 52,
   "metadata": {},
   "outputs": [
    {
     "data": {
      "text/plain": [
       "Ttest_indResult(statistic=-1446.7458801234332, pvalue=0.0)"
      ]
     },
     "execution_count": 52,
     "metadata": {},
     "output_type": "execute_result"
    }
   ],
   "source": [
    "stats.ttest_ind(ac_pl_merge[ac_pl_merge_0]['pl_char_38'], ac_pl_merge[ac_pl_merge_1]['pl_char_38'], equal_var=False)"
   ]
  },
  {
   "cell_type": "code",
   "execution_count": 51,
   "metadata": {},
   "outputs": [
    {
     "data": {
      "text/plain": [
       "Ttest_indResult(statistic=-433.34072072117186, pvalue=0.0)"
      ]
     },
     "execution_count": 51,
     "metadata": {},
     "output_type": "execute_result"
    }
   ],
   "source": [
    "stats.ttest_ind(ac_pl_merge[ac_pl_merge_0]['pl_char_37'], ac_pl_merge[ac_pl_merge_1]['pl_char_37'], equal_var=False)"
   ]
  },
  {
   "cell_type": "code",
   "execution_count": null,
   "metadata": {},
   "outputs": [],
   "source": [
    "# stats.ttest_ind(ac_pl_merge[ac_pl_merge_0]['activity_category'], ac_pl_merge[ac_pl_merge_1]['activity_category'], equal_var=False)"
   ]
  },
  {
   "cell_type": "code",
   "execution_count": null,
   "metadata": {},
   "outputs": [],
   "source": [
    "stats.ttest_ind(ac_pl_merge[ac_pl_merge_0]['activity_category'], ac_pl_merge[ac_pl_merge_1]['activity_category'], equal_var=False)"
   ]
  },
  {
   "cell_type": "code",
   "execution_count": null,
   "metadata": {},
   "outputs": [],
   "source": [
    "# ac_pl_merge_1 = ac_pl_merge['outcome'] == 1 & ac_pl_merge.act_date.dt.year\n"
   ]
  },
  {
   "cell_type": "code",
   "execution_count": null,
   "metadata": {},
   "outputs": [],
   "source": [
    "ac_pl_merge_1_2022 = ac_pl_merge[ac_pl_merge_1]['act_date'].dt.year == 2022\n",
    "ac_pl_merge_1_2023 = ac_pl_merge[ac_pl_merge_1]['act_date'].dt.year == 2023\n",
    "# ac_pl_merge[ac_pl_merge_1_2022]"
   ]
  },
  {
   "cell_type": "code",
   "execution_count": null,
   "metadata": {},
   "outputs": [],
   "source": [
    "ac_pl_merge[ac_pl_merge_1]['act_date'].dt.year.value_counts()"
   ]
  },
  {
   "cell_type": "code",
   "execution_count": null,
   "metadata": {},
   "outputs": [],
   "source": [
    "# ac_pl_merge[ac_pl_merge_1]['act_date'].dt.year == 2022"
   ]
  },
  {
   "cell_type": "code",
   "execution_count": null,
   "metadata": {},
   "outputs": [],
   "source": [
    "# ac_pl_merge[ac_pl_merge['outcome'] == 1]['act_date'].dt.year == 2023"
   ]
  },
  {
   "cell_type": "code",
   "execution_count": 53,
   "metadata": {},
   "outputs": [
    {
     "data": {
      "text/plain": [
       "Ttest_indResult(statistic=2.59177386864287, pvalue=0.009548393792587564)"
      ]
     },
     "execution_count": 53,
     "metadata": {},
     "output_type": "execute_result"
    }
   ],
   "source": [
    "\n",
    "# &  ac_pl_merge['outcome'] == 1\n",
    "# ac_pl_merge_2023.shape"
   ]
  },
  {
   "cell_type": "code",
   "execution_count": null,
   "metadata": {},
   "outputs": [],
   "source": []
  },
  {
   "cell_type": "code",
   "execution_count": null,
   "metadata": {},
   "outputs": [],
   "source": []
  },
  {
   "cell_type": "code",
   "execution_count": null,
   "metadata": {},
   "outputs": [],
   "source": [
    "ac_pl_merge.columns"
   ]
  },
  {
   "cell_type": "code",
   "execution_count": null,
   "metadata": {},
   "outputs": [],
   "source": [
    "# sns.barplot(ac['date'].dt.year, 'people_id', data=ac, hue='outcome')"
   ]
  },
  {
   "cell_type": "code",
   "execution_count": null,
   "metadata": {},
   "outputs": [],
   "source": [
    "ac.groupby(['outcome','activity_category'])['char_1',\n",
    "       'char_2', 'char_3', 'char_4', 'char_5', 'char_6', 'char_7', 'char_8',\n",
    "#        'char_9', 'char_10'].count().plot(kind='bar', stacked=True)"
   ]
  },
  {
   "cell_type": "code",
   "execution_count": null,
   "metadata": {},
   "outputs": [],
   "source": [
    "ac.activity_category.unique()"
   ]
  },
  {
   "cell_type": "code",
   "execution_count": null,
   "metadata": {},
   "outputs": [],
   "source": [
    "ac.char_10.nunique()"
   ]
  },
  {
   "cell_type": "code",
   "execution_count": null,
   "metadata": {},
   "outputs": [],
   "source": [
    "for i in ac:\n",
    "    print('No. of Null', i,ac[i].isnull().sum())"
   ]
  }
 ],
 "metadata": {
  "kernelspec": {
   "display_name": "Python 3",
   "language": "python",
   "name": "python3"
  },
  "language_info": {
   "codemirror_mode": {
    "name": "ipython",
    "version": 3
   },
   "file_extension": ".py",
   "mimetype": "text/x-python",
   "name": "python",
   "nbconvert_exporter": "python",
   "pygments_lexer": "ipython3",
   "version": "3.7.4"
  }
 },
 "nbformat": 4,
 "nbformat_minor": 4
}
